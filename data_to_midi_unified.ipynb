{
 "cells": [
  {
   "cell_type": "code",
   "execution_count": 2,
   "metadata": {},
   "outputs": [],
   "source": [
    "import pretty_midi\n",
    "import numpy as np\n",
    "import pickle\n",
    "\n",
    "num_notes = 128 # Number of pitches in MIDI\n",
    "num_time_shifts = 100\n",
    "num_velocities = 32\n",
    "min_time_shift = 0.01"
   ]
  },
  {
   "cell_type": "code",
   "execution_count": 18,
   "metadata": {},
   "outputs": [],
   "source": [
    "data = np.load('gen_history.npy', allow_pickle=True)\n",
    "instruments = np.load('gen_instruments.npy', allow_pickle=True)"
   ]
  },
  {
   "cell_type": "code",
   "execution_count": 19,
   "metadata": {},
   "outputs": [],
   "source": [
    "recording = pretty_midi.PrettyMIDI()\n",
    "\n",
    "# Note that channels are sorted by np.unique\n",
    "channels, idx = np.unique(data[:, 1], return_index=True, axis=0)\n",
    "for i in instruments:\n",
    "    recording.instruments.append(pretty_midi.Instrument(program=i,name=pretty_midi.program_to_instrument_name(i)))\n",
    "    \n",
    "curr_time = 0\n",
    "curr_velocity = [96 for channel in range(len(channels))]\n",
    "#start time and velocity of the current note being played\n",
    "note_start = [{} for channels in range(len(channels))]\n",
    "note_velocity = [{} for channel in range(len(channels))]\n",
    "note_same = [{} for channel in range(len(channels))]\n",
    "for m, idx in enumerate(data[:, 0]):\n",
    "    channel = data[m, 1]\n",
    "    if idx < num_notes:\n",
    "        #note on event\n",
    "        if idx in note_start[channel]:\n",
    "            note_same[channel][idx] += 1\n",
    "            continue\n",
    "        note_start[channel][idx] = curr_time\n",
    "        note_velocity[channel][idx] = curr_velocity[channel]\n",
    "        note_same[channel][idx] = 1\n",
    "    elif idx < 2*num_notes:\n",
    "        #note off event\n",
    "        curr_note = idx - num_notes\n",
    "        if curr_note not in note_start[channel]:\n",
    "            continue\n",
    "            #raise ValueError(\"note\" + str(idx-num_notes) + \"has not been started!\")\n",
    "        note_same[channel][curr_note] -= 1\n",
    "        if note_same[channel][curr_note] == 0:\n",
    "            note=pretty_midi.Note(velocity=note_velocity[channel][curr_note], pitch=curr_note, start=note_start[channel][curr_note], end=curr_time)\n",
    "            recording.instruments[channel].notes.append(note)\n",
    "            del note_start[channel][curr_note]\n",
    "            del note_velocity[channel][curr_note]\n",
    "            del note_same[channel][curr_note]\n",
    "    elif idx < 2*num_notes + num_velocities:\n",
    "        #velocity event\n",
    "        #reversing the quantization in preprocess operation\n",
    "        curr_velocity[channel] = int((idx-2*num_notes)*128/num_velocities)\n",
    "    elif idx < 2*num_notes + num_time_shifts + num_velocities:\n",
    "        #time shift event\n",
    "        curr_time += (idx - 2*num_notes - num_velocities + 1)*min_time_shift"
   ]
  },
  {
   "cell_type": "code",
   "execution_count": 20,
   "metadata": {},
   "outputs": [],
   "source": [
    "recording.write(\"gen_midi.mid\")"
   ]
  },
  {
   "cell_type": "code",
   "execution_count": 16,
   "metadata": {},
   "outputs": [],
   "source": [
    "file = open( \"preprocessed_data_unified_fnames.p\", \"rb\" )\n",
    "res = pickle.load(file)\n",
    "file.close()"
   ]
  },
  {
   "cell_type": "code",
   "execution_count": 17,
   "metadata": {},
   "outputs": [
    {
     "name": "stdout",
     "output_type": "stream",
     "text": [
      "Beethoven/2416_lvbsext3.mid\n"
     ]
    }
   ],
   "source": [
    "print(res[100])"
   ]
  },
  {
   "cell_type": "code",
   "execution_count": null,
   "metadata": {},
   "outputs": [],
   "source": []
  }
 ],
 "metadata": {
  "environment": {
   "name": "pytorch-gpu.1-6.m59",
   "type": "gcloud",
   "uri": "gcr.io/deeplearning-platform-release/pytorch-gpu.1-6:m59"
  },
  "kernelspec": {
   "display_name": "Python 3",
   "language": "python",
   "name": "python3"
  },
  "language_info": {
   "codemirror_mode": {
    "name": "ipython",
    "version": 3
   },
   "file_extension": ".py",
   "mimetype": "text/x-python",
   "name": "python",
   "nbconvert_exporter": "python",
   "pygments_lexer": "ipython3",
   "version": "3.7.8"
  }
 },
 "nbformat": 4,
 "nbformat_minor": 4
}
