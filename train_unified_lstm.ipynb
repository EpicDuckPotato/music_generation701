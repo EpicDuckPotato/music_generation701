{
 "cells": [
  {
   "cell_type": "code",
   "execution_count": 2,
   "metadata": {},
   "outputs": [],
   "source": [
    "import torch\n",
    "import numpy as np\n",
    "import math\n",
    "import os\n",
    "import matplotlib.pyplot as plt"
   ]
  },
  {
   "cell_type": "code",
   "execution_count": 3,
   "metadata": {},
   "outputs": [],
   "source": [
    "num_notes = 128\n",
    "num_time_shifts = 100\n",
    "num_velocities = 32\n",
    "message_dim = 2*num_notes + num_velocities + num_time_shifts\n",
    "instrument_numbers = [0, 6, 40, 41, 42, 43, 45, 60, 68, 70, 71, 73]\n",
    "num_instruments = len(instrument_numbers)"
   ]
  },
  {
   "cell_type": "markdown",
   "metadata": {},
   "source": [
    "# Baseline LSTM definition"
   ]
  },
  {
   "cell_type": "code",
   "execution_count": 4,
   "metadata": {},
   "outputs": [],
   "source": [
    "# Taken from https://pytorch.org/tutorials/beginner/transformer_tutorial.html.\n",
    "# Only change is the view/expand in forward (accounts for batches)\n",
    "class PositionalEncoding(torch.nn.Module):\n",
    "    def __init__(self, d_model, dropout=0.1, max_len=10000):\n",
    "        super(PositionalEncoding, self).__init__()\n",
    "        self.dropout = torch.nn.Dropout(p=dropout)\n",
    "\n",
    "        pe = torch.zeros(max_len, d_model)\n",
    "        position = torch.arange(0, max_len, dtype=torch.float).unsqueeze(1)\n",
    "        div_term = torch.exp(torch.arange(0, d_model, 2).float() * (-math.log(10000.0) / d_model))\n",
    "        pe[:, 0::2] = torch.sin(position * div_term)\n",
    "        pe[:, 1::2] = torch.cos(position * div_term)\n",
    "        self.register_buffer('pe', pe)\n",
    "\n",
    "    def forward(self, x):\n",
    "        x = x + self.pe[:x.shape[0], :].unsqueeze(1).expand(-1, x.shape[1], -1)\n",
    "        return self.dropout(x)\n",
    "        \n",
    "\n",
    "# EnsembleLSTM: takes a history of MIDI messages \n",
    "# for instruments in an ensemble and generates a distribution for the next message,\n",
    "# as well as the instrument who should issue the message\n",
    "class EnsembleLSTM(torch.nn.Module):\n",
    "    # CONSTRUCTOR\n",
    "    # ARGUMENTS\n",
    "    # message_dim: dimension of a MIDI message\n",
    "    # embed_dim: dimension of message embedding\n",
    "    # num_instruments: number of instrument labels\n",
    "    # hidden_size: size of hidden LSTM state\n",
    "    def __init__(self, message_dim, embed_dim, num_instruments, hidden_size):\n",
    "        super(EnsembleLSTM, self).__init__()\n",
    "        \n",
    "        self.embed_dim = embed_dim\n",
    "        \n",
    "        self.lstm_input_dim = 2*embed_dim\n",
    "        \n",
    "        # We concatenate the tanhed instrument embedding to each input message.\n",
    "        # We have num_instruments + 1 embeddings to account for the dummy instrument\n",
    "        # associated with time shift events\n",
    "        # We could potentially reduce the size of the instrument embedding, but\n",
    "        # for now let's keep it the same size as the message embedding\n",
    "        self.i_embedding = torch.nn.Embedding(num_instruments + 1, embed_dim)\n",
    "        \n",
    "        self.embedding = torch.nn.Embedding(message_dim, embed_dim)\n",
    "        \n",
    "        # A 3-layer LSTM takes the history of messages (concatenated with their\n",
    "        # associated instrument encoding) and produces a decoding\n",
    "        self.lstm = torch.nn.LSTM(self.lstm_input_dim, hidden_size, num_layers=3)\n",
    "\n",
    "        # The decoding is passed through a linear layer to get the logits for the next message        \n",
    "        self.message_logits = torch.nn.Linear(hidden_size, message_dim)\n",
    "        \n",
    "        # The decoding is passed through a different linear layer to get a query for\n",
    "        # instrument-wise attention, which predicts which channel should generate\n",
    "        # this message\n",
    "        self.inst_query = torch.nn.Linear(hidden_size, embed_dim)\n",
    "        \n",
    "        # Indicates which channel is associated with each instrument\n",
    "        self.position_encoding = PositionalEncoding(embed_dim)\n",
    "    \n",
    "    # forward: generates a probability distribution for the next MIDI message\n",
    "    # and the channel that issues the message, given a message history for the instrument ensemble\n",
    "    # ARGUMENTS\n",
    "    # history: an LxBx2 tensor, where L is the length of the longest message history in\n",
    "    # the batch, and B is the batch size. The first index along dimension 2 stores the\n",
    "    # message number. The second stores the channel number. This should be END-PADDED\n",
    "    # along dimension 0\n",
    "    # mask: an LxB tensor, containing True in any locations where history contains\n",
    "    # padding\n",
    "    # instruments: a CxB tensor indicating the instrument number for each channel, where\n",
    "    # C is the maximum number of channels in the batch. This should be END-PADDED along dimension 0.\n",
    "    # The the last valid channel index should contain num_instruments (indicating the \"time-shift instrument\")\n",
    "    # RETURN: two tensors. The first is LxBxD, representing the distribution for the next message at each time\n",
    "    # step (need to take the softmax to get actual probabilities). The second is LxBxC, representing the\n",
    "    # distribution for the next channel at each time step (need to take the softmax to get actual probabilities)\n",
    "    def forward(self, history, mask, instruments):\n",
    "        L = history.shape[0] # longest length\n",
    "        B = history.shape[1] # batch size\n",
    "        C = instruments.shape[0]\n",
    "        assert(mask.shape == (L, B))\n",
    "        \n",
    "        # CxBxD\n",
    "        inst_embed = torch.tanh(self.i_embedding(instruments))\n",
    "        \n",
    "        # LxBxD, instrument embedding associated with each message\n",
    "        inst_tags = torch.gather(inst_embed, 0, history[:, :, 1].unsqueeze(2).expand(-1, -1, self.embed_dim))\n",
    "        \n",
    "        # LxBxD\n",
    "        message_embed = self.embedding(history[:, :, 0])\n",
    "        \n",
    "        inputs = torch.cat((message_embed, inst_tags), dim=2)\n",
    "        \n",
    "        decoding, last_hidden = self.lstm(inputs)\n",
    "        \n",
    "        # LxBxD\n",
    "        message_dist = self.message_logits(decoding)\n",
    "        \n",
    "        # CxLxBxD\n",
    "        inst_queries = self.inst_query(decoding).unsqueeze(0).expand(C, -1, -1, -1)\n",
    "        \n",
    "        prods = inst_queries*self.position_encoding(inst_embed).unsqueeze(1).expand(-1, L, -1, -1)/self.embed_dim\n",
    "        \n",
    "        # Dot-product attention (LxBxC)\n",
    "        channel_dist = torch.sum(prods, dim=3).permute(1, 2, 0)\n",
    "        \n",
    "        return message_dist, channel_dist\n",
    "    \n",
    "    # forward: generates a probability distribution for the next MIDI message\n",
    "    # and the channel that should issue it, given the previous message and channel,\n",
    "    # as well as the LSTM hidden state\n",
    "    # ARGUMENTS\n",
    "    # last_token: a 1x1x2 tensor. The first index along dimension 2 stores the\n",
    "    # message number. The second stores the channel number\n",
    "    # instruments: a Cx1 tensor indicating the instrument number for each channel, where C is the number of channels\n",
    "    # The the last channel index should contain num_instruments (indicating the \"time-shift instrument\")\n",
    "    # hidden: the last hidden state for the LSTM\n",
    "    # RETURN: a 1x1x2 tensor, predicting the next message and the channel that should issue it, as well as the new\n",
    "    def forward_generate(self, last_token, instruments, hidden):\n",
    "        assert(last_token.shape == (1, 1, 2))\n",
    "        C = instruments.shape[0]\n",
    "        \n",
    "        # Cx1xD\n",
    "        inst_embed = torch.tanh(self.i_embedding(instruments))\n",
    "        \n",
    "        # 1x1xD, instrument embedding associated with each message\n",
    "        inst_tags = torch.gather(inst_embed, 0, last_token[:, :, 1].unsqueeze(2).expand(-1, -1, self.embed_dim))\n",
    "        \n",
    "        # 1x1xD\n",
    "        message_embed = self.embedding(last_token[:, :, 0])\n",
    "        \n",
    "        inputs = torch.cat((message_embed, inst_tags), dim=2)\n",
    "        \n",
    "        decoding, new_hidden = self.lstm(inputs, hidden)\n",
    "        \n",
    "        # 1x1xD\n",
    "        message_dist = self.message_logits(decoding)\n",
    "        \n",
    "        # Cx1x1xD\n",
    "        inst_queries = self.inst_query(decoding).unsqueeze(0).expand(C, -1, -1, -1)\n",
    "        \n",
    "        prods = inst_queries*self.position_encoding(inst_embed).unsqueeze(1)/self.embed_dim\n",
    "        \n",
    "        # Dot-product attention (1x1xC)\n",
    "        channel_dist = torch.sum(prods, dim=3).permute(1, 2, 0)\n",
    "        \n",
    "        #message = torch.multinomial(torch.softmax(message_dist.flatten(), dim=0), 1)\n",
    "        #channel = torch.multinomial(torch.softmax(channel_dist.flatten(), dim=0), 1)\n",
    "        \n",
    "        message = torch.argmax(torch.softmax(message_dist.flatten(), dim=0))\n",
    "        channel = torch.argmax(torch.softmax(channel_dist.flatten(), dim=0))\n",
    "        \n",
    "        ret = torch.cat((message.view(1, 1, 1), channel.view(1, 1, 1)), dim=2)\n",
    "        \n",
    "        return ret, new_hidden"
   ]
  },
  {
   "cell_type": "markdown",
   "metadata": {},
   "source": [
    "# Tests for baseline LSTM\n",
    "We train with model.eval() to disable dropout, since these tests try to get the model to overfit to a small sequence"
   ]
  },
  {
   "cell_type": "markdown",
   "metadata": {},
   "source": [
    "Get the model to overfit to a single song"
   ]
  },
  {
   "cell_type": "code",
   "execution_count": 8,
   "metadata": {},
   "outputs": [],
   "source": [
    "embed_dim = 256\n",
    "hidden_size = 1024\n",
    "\n",
    "grad_clip = 10\n",
    "\n",
    "model = EnsembleLSTM(message_dim, embed_dim, num_instruments, hidden_size)\n",
    "for p in model.parameters():\n",
    "    p.register_hook(lambda grad: torch.clamp(grad, -grad_clip, grad_clip))\n",
    "    \n",
    "model.eval() # Training with eval just to see if we can overfit without dropout\n",
    "pass"
   ]
  },
  {
   "cell_type": "code",
   "execution_count": 175,
   "metadata": {},
   "outputs": [
    {
     "data": {
      "text/plain": [
       "<All keys matched successfully>"
      ]
     },
     "execution_count": 175,
     "metadata": {},
     "output_type": "execute_result"
    }
   ],
   "source": [
    "model.load_state_dict(torch.load('overfit_single_song.pth'))"
   ]
  },
  {
   "cell_type": "code",
   "execution_count": null,
   "metadata": {
    "scrolled": true
   },
   "outputs": [],
   "source": [
    "recording = np.load('preprocessed_data_unified/recording318.npy', allow_pickle=True)\n",
    "instruments_np = np.load('preprocessed_data_unified/instruments318.npy', allow_pickle=True)\n",
    "\n",
    "nsamples = 500\n",
    "\n",
    "history = torch.tensor(recording[:nsamples], dtype=torch.long).view(-1, 1, 2)\n",
    "mask = torch.zeros((history.shape[0], history.shape[1]), dtype=torch.bool)\n",
    "instruments = torch.tensor([instrument_numbers.index(i) for i in instruments_np] + [num_instruments], dtype=torch.long).view(-1, 1)\n",
    "\n",
    "num_channels = instruments.shape[0]\n",
    "\n",
    "batch_size = 1\n",
    "learning_rate = 0.001\n",
    "optimizer = torch.optim.Adam(model.parameters(), lr=learning_rate)\n",
    "loss_fn = torch.nn.CrossEntropyLoss()\n",
    "epochs = 500\n",
    "train_losses = np.zeros(epochs)\n",
    "\n",
    "target_messages = history[1:, :, 0].flatten()\n",
    "target_channels = history[1:, :, 1].flatten()\n",
    "\n",
    "for epoch in range(epochs):\n",
    "    print('Starting epoch %d' %(epoch))\n",
    "    \n",
    "    message_logits, channel_logits = model(history[:-1], mask[:-1], instruments)\n",
    "    \n",
    "    loss = loss_fn(message_logits.view(-1, message_dim), target_messages) + \\\n",
    "           loss_fn(channel_logits.view(-1, num_channels), target_channels)\n",
    "                \n",
    "    optimizer.zero_grad()\n",
    "    loss.backward()\n",
    "    optimizer.step()\n",
    "    train_losses[epoch] = loss.data\n",
    "    print('Loss: %f' %(loss.data))"
   ]
  },
  {
   "cell_type": "code",
   "execution_count": 182,
   "metadata": {},
   "outputs": [],
   "source": [
    "torch.save(model.state_dict(), 'overfit_single_song.pth')"
   ]
  },
  {
   "cell_type": "code",
   "execution_count": 180,
   "metadata": {},
   "outputs": [
    {
     "data": {
      "text/plain": [
       "[<matplotlib.lines.Line2D at 0x7f124ca69bd0>]"
      ]
     },
     "execution_count": 180,
     "metadata": {},
     "output_type": "execute_result"
    },
    {
     "data": {
      "image/png": "[encoded data removed]",
      "text/plain": [
       "<Figure size 432x288 with 1 Axes>"
      ]
     },
     "metadata": {
      "needs_background": "light"
     },
     "output_type": "display_data"
    }
   ],
   "source": [
    "plt.plot(train_losses)"
   ]
  },
  {
   "cell_type": "code",
   "execution_count": 181,
   "metadata": {
    "scrolled": true
   },
   "outputs": [
    {
     "name": "stdout",
     "output_type": "stream",
     "text": [
      "Wrong instrument at time 90!\n",
      "Wrong instrument at time 91!\n",
      "Wrong instrument at time 96!\n",
      "Wrong instrument at time 98!\n",
      "4\n"
     ]
    }
   ],
   "source": [
    "# Sample from model\n",
    "gen_history = history[0].unsqueeze(0)\n",
    "mask = torch.zeros((1, 1), dtype=torch.bool)\n",
    "model.eval() # Turns off the dropout for evaluation. Need to do this to get repeatable evaluation outputs\n",
    "\n",
    "# Move forward in time\n",
    "wrong_cnt = 0\n",
    "hidden = (torch.zeros(3, 1, hidden_size), torch.zeros(3, 1, hidden_size))\n",
    "for t in range(0, history.shape[0] - 1):\n",
    "    ret, hidden = model.forward_generate(gen_history[-1].view(1, 1, 2), instruments, hidden)\n",
    "    \n",
    "    gen_history = torch.cat((gen_history, ret), dim=0)\n",
    "    \n",
    "    if gen_history[-1, 0, 0] != history[t + 1, 0, 0]:\n",
    "        print('Wrong message at time %d!' %(t))\n",
    "        wrong_cnt += 1\n",
    "        \n",
    "    if gen_history[-1, 0, 1] != history[t + 1, 0, 1]:\n",
    "        print('Wrong instrument at time %d!' %(t))\n",
    "        wrong_cnt += 1\n",
    "    \n",
    "    mask = torch.cat((mask, torch.zeros((1, 1), dtype=torch.bool)), dim=0)\n",
    "\n",
    "print(wrong_cnt)"
   ]
  },
  {
   "cell_type": "code",
   "execution_count": null,
   "metadata": {},
   "outputs": [],
   "source": [
    "print(gen_history[:, 0, 0].flatten())\n",
    "print(history[:, 0, 0].flatten())"
   ]
  },
  {
   "cell_type": "code",
   "execution_count": 44,
   "metadata": {},
   "outputs": [],
   "source": [
    "np.save('test_history.npy', gen_history.squeeze(1).detach().numpy())\n",
    "np.save('test_instruments.npy', [instrument_numbers[i] for i in instruments[:-1, 0]])"
   ]
  },
  {
   "cell_type": "markdown",
   "metadata": {},
   "source": [
    "# Custom dataset class"
   ]
  },
  {
   "cell_type": "code",
   "execution_count": 10,
   "metadata": {},
   "outputs": [],
   "source": [
    "# Custom Dataset class\n",
    "class MIDIDataset(torch.utils.data.Dataset):\n",
    "    # CONSTRUCTOR: creates a list of recording files and a list\n",
    "    # of instrument files in root_dir. Assumes that the directory\n",
    "    # contains recording0.npy to recordingM.npy,\n",
    "    # as well as instruments0.npy to instrumentsM.npy\n",
    "    # ARGUMENTS\n",
    "    # root_dir: the directory to search\n",
    "    def __init__(self, root_dir, transform=None):\n",
    "        files = os.listdir(root_dir)\n",
    "        self.recordings = []\n",
    "        self.instrument_files = []\n",
    "        for file in files:\n",
    "            if 'recording' in file:\n",
    "                self.recordings.append(os.path.join(root_dir, file))\n",
    "            elif 'instruments' in file:\n",
    "                self.instrument_files.append(os.path.join(root_dir, file))\n",
    "                \n",
    "        assert(len(self.recordings) == len(self.instrument_files))\n",
    "        self.recordings.sort()\n",
    "        self.instrument_files.sort()\n",
    "        self.transform = transform\n",
    "\n",
    "    # __len__\n",
    "    # RETURN: the number of recording files in the dataset\n",
    "    def __len__(self):\n",
    "        return len(self.recordings)\n",
    "\n",
    "    # __getitem__\n",
    "    # ARGUMENTS\n",
    "    # idx: indicates which file to get\n",
    "    # RETURN: an instance with keys 'instruments', 'history'\n",
    "    # instance['history'] is an Lx2 numpy array containing messages and associated channels\n",
    "    # instance['instruments'] a numpy array of instrument numbers\n",
    "    def __getitem__(self, idx):\n",
    "        instance = {'history': np.load(self.recordings[idx], allow_pickle=True), \\\n",
    "                    'instruments': np.load(self.instrument_files[idx], allow_pickle=True)}\n",
    "        \n",
    "        if self.transform:\n",
    "            instance = self.transform(instance)\n",
    "            \n",
    "        return instance"
   ]
  },
  {
   "cell_type": "code",
   "execution_count": 11,
   "metadata": {},
   "outputs": [],
   "source": [
    "# collate_fn: takes a list of samples from the dataset and turns them into a batch.\n",
    "# ARGUMENTS\n",
    "# batch: a list of dictionaries\n",
    "# RETURN: a sample with keys 'history', 'instruments', and 'mask'\n",
    "# sample['history']: an LxBx2 tensor containing messages\n",
    "# sample['instruments']: a CxB tensor containing instrument numbers for each channel\n",
    "# sample['mask']: an LxB tensor containing False where a message is\n",
    "# valid, and True where it isn't (accounts for variable length sequences\n",
    "# and zero padding)\n",
    "# sample['nchan']: a length B tensor containing the number of channels for each batch\n",
    "# element (including the dummy time-shift channel)\n",
    "def collate_fn(batch):\n",
    "    batch_size = len(batch)\n",
    "    \n",
    "    # We size our tensors to accomodate the longest sequence and the largest number of channels\n",
    "    # (including the dummy time shift channel)\n",
    "    max_channels = max([instance['instruments'].shape[0] for instance in batch]) + 1\n",
    "    longest_len = max([instance['history'].shape[0] for instance in batch])\n",
    "\n",
    "    sample = {'history': torch.zeros((longest_len, batch_size, 2), dtype=torch.long), \\\n",
    "              'instruments': torch.zeros((max_channels, batch_size), dtype=torch.long), \\\n",
    "              'mask': torch.ones((longest_len, batch_size), dtype=torch.bool), \\\n",
    "              'nchan': torch.zeros(batch_size, dtype=torch.long)}\n",
    "\n",
    "    for b, instance in enumerate(batch):\n",
    "        instrument_idx = [instrument_numbers.index(i) for i in instance['instruments']]\n",
    "        \n",
    "        sample['instruments'][:len(instrument_idx), b] = torch.tensor(instrument_idx, dtype=torch.long)\n",
    "        # Add dummy channel\n",
    "        sample['instruments'][len(instrument_idx), b] = num_instruments\n",
    "        \n",
    "        # +1 to account for dummy channel\n",
    "        sample['nchan'][b] = len(instrument_idx) + 1\n",
    "        \n",
    "        seq_length = instance['history'].shape[0]\n",
    "        sample['history'][:seq_length, b] = torch.tensor(instance['history'], dtype=torch.long)\n",
    "        sample['mask'][:seq_length, b] = False\n",
    "            \n",
    "    return sample"
   ]
  },
  {
   "cell_type": "markdown",
   "metadata": {},
   "source": [
    "# Train the model"
   ]
  },
  {
   "cell_type": "code",
   "execution_count": 16,
   "metadata": {},
   "outputs": [],
   "source": [
    "embed_dim = 256\n",
    "hidden_size = 1024\n",
    "\n",
    "grad_clip = 10\n",
    "\n",
    "model = EnsembleLSTM(message_dim, embed_dim, num_instruments, hidden_size)\n",
    "for p in model.parameters():\n",
    "    p.register_hook(lambda grad: torch.clamp(grad, -grad_clip, grad_clip))"
   ]
  },
  {
   "cell_type": "code",
   "execution_count": 17,
   "metadata": {},
   "outputs": [],
   "source": [
    "optimizer = torch.optim.Adam(model.parameters())"
   ]
  },
  {
   "cell_type": "code",
   "execution_count": null,
   "metadata": {
    "scrolled": true
   },
   "outputs": [],
   "source": [
    "batch_size = 1\n",
    "learning_rate = 0.001\n",
    "\n",
    "train_dataset = MIDIDataset('train_unified')\n",
    "train_dataloader = torch.utils.data.DataLoader(train_dataset, batch_size=batch_size, shuffle=True, collate_fn=collate_fn)\n",
    "\n",
    "test_dataset = MIDIDataset('test_unified')\n",
    "test_dataloader = torch.utils.data.DataLoader(test_dataset, batch_size=batch_size, shuffle=True, collate_fn=collate_fn)\n",
    "\n",
    "loss_fn = torch.nn.CrossEntropyLoss(reduction='sum')\n",
    "epochs = 20\n",
    "train_losses = np.zeros(epochs)\n",
    "test_losses = np.zeros(epochs)\n",
    "\n",
    "model.train()\n",
    "\n",
    "for epoch in range(epochs):\n",
    "    print('Starting epoch %d' %(epoch))\n",
    "    n_train_iter = 0\n",
    "    for b, batch in enumerate(train_dataloader):\n",
    "        max_seq_length = batch['history'].shape[0]\n",
    "        \n",
    "        num_targets = max_seq_length - 1 # Messages start from t = 0, but we start generating at t = 1\n",
    "            \n",
    "        print('Starting iteration %d' %(b))\n",
    "        \n",
    "        message_logits, channel_logits = model(batch['history'][:-1], batch['mask'][:-1], batch['instruments'])\n",
    "        \n",
    "        target_mask = torch.logical_not(batch['mask'][1:])\n",
    "        \n",
    "        num_valid_targets = target_mask.sum()\n",
    "        \n",
    "        target_messages = batch['history'][1:, :, 0][target_mask]\n",
    "    \n",
    "        message_loss = loss_fn(message_logits[target_mask], target_messages)/num_valid_targets\n",
    "        \n",
    "        channel_losses = torch.zeros(batch_size)\n",
    "        \n",
    "        for i in range(batch_size):\n",
    "            channel_logits_i = channel_logits[:, i, :batch['nchan'][i]][target_mask[:, i]]\n",
    "            target_channels = batch['history'][1:, i, 1][target_mask[:, i]]\n",
    "            channel_losses[i] = loss_fn(channel_logits_i, target_channels)/num_valid_targets\n",
    "            \n",
    "        loss = message_loss + channel_losses\n",
    "\n",
    "        optimizer.zero_grad()\n",
    "        loss.backward()\n",
    "        optimizer.step()\n",
    "        train_losses[epoch] += loss.data\n",
    "        \n",
    "    torch.save(model.state_dict(), 'trained_models_12_3/epoch' + str(epoch) + '.pth')\n",
    "\n",
    "    print('Computing test loss')\n",
    "    n_test_iter = 0\n",
    "    for b, batch in enumerate(test_dataloader):\n",
    "        max_seq_length = batch['history'].shape[0]\n",
    "        \n",
    "        num_targets = max_seq_length - 1 # Messages start from t = 0, but we start generating at t = 1\n",
    "        \n",
    "        message_logits, channel_logits = model(batch['history'][:-1], batch['mask'][:-1], batch['instruments'])\n",
    "        \n",
    "        target_mask = torch.logical_not(batch['mask'][1:])\n",
    "        \n",
    "        num_valid_targets = target_mask.sum()\n",
    "        \n",
    "        target_messages = batch['history'][1:, :, 0][target_mask]\n",
    "    \n",
    "        message_loss = loss_fn(message_logits[target_mask], target_messages)/num_valid_targets\n",
    "        \n",
    "        channel_losses = torch.zeros(batch_size)\n",
    "        \n",
    "        for i in range(batch_size):\n",
    "            channel_logits_i = channel_logits[:, :, :batch['nchan'][i]][target_mask]\n",
    "            target_channels = batch['history'][1:, i, 1][target_mask]\n",
    "            channel_losses[i] = loss_fn(channel_logits_i, target_channels)/num_valid_targets\n",
    "            \n",
    "        loss = message_loss + channel_losses\n",
    "\n",
    "        test_losses[epoch] += loss.data\n",
    "        \n",
    "        n_test_iter += 1\n",
    "    \n",
    "    train_losses[epoch] /= n_train_iter\n",
    "    test_losses[epoch] /= n_test_iter\n",
    "    print('Train Loss: %f, Test Loss: %f' %(train_losses[epoch], test_losses[epoch]))"
   ]
  },
  {
   "cell_type": "code",
   "execution_count": null,
   "metadata": {},
   "outputs": [],
   "source": [
    "plt.plot(train_losses)"
   ]
  },
  {
   "cell_type": "markdown",
   "metadata": {},
   "source": [
    "# Sample from the model"
   ]
  },
  {
   "cell_type": "code",
   "execution_count": 38,
   "metadata": {},
   "outputs": [
    {
     "data": {
      "text/plain": [
       "<All keys matched successfully>"
      ]
     },
     "execution_count": 38,
     "metadata": {},
     "output_type": "execute_result"
    }
   ],
   "source": [
    "model.load_state_dict(torch.load('trained_models_12_2/epoch19.pth'))"
   ]
  },
  {
   "cell_type": "code",
   "execution_count": null,
   "metadata": {},
   "outputs": [],
   "source": [
    "model.eval() # Disable dropout to make results repeatable\n",
    "\n",
    "time_steps = 200 # How many time steps do we sample?\n",
    "\n",
    "# Start with a time shift\n",
    "gen_history = torch.zeros((1, 1, 2), dtype=torch.long)\n",
    "gen_history[0, 0, 0] = 387\n",
    "\n",
    "# Violin\n",
    "instruments = torch.zeros((2, 1), dtype=torch.long)\n",
    "instruments[0, 0] = 2\n",
    "instruments[1, 0] = num_instruments\n",
    "    \n",
    "hidden = (torch.zeros(3, 1, hidden_size), torch.zeros(3, 1, hidden_size))\n",
    "for t in range(0, time_steps):\n",
    "    ret, hidden = model.forward_generate(gen_history[-1].view(1, 1, 2), instruments, hidden)\n",
    "    gen_history = torch.cat((gen_history, ret), dim=0)"
   ]
  },
  {
   "cell_type": "code",
   "execution_count": null,
   "metadata": {},
   "outputs": [],
   "source": [
    "np.save('gen_history.npy', gen_history.squeeze(1).detach().numpy())\n",
    "np.save('gen_instruments.npy', [instrument_numbers[i] for i in instruments[:-1, 0]])"
   ]
  }
 ],
 "metadata": {
  "environment": {
   "name": "pytorch-gpu.1-6.m59",
   "type": "gcloud",
   "uri": "gcr.io/deeplearning-platform-release/pytorch-gpu.1-6:m59"
  },
  "kernelspec": {
   "display_name": "Python 3",
   "language": "python",
   "name": "python3"
  },
  "language_info": {
   "codemirror_mode": {
    "name": "ipython",
    "version": 3
   },
   "file_extension": ".py",
   "mimetype": "text/x-python",
   "name": "python",
   "nbconvert_exporter": "python",
   "pygments_lexer": "ipython3",
   "version": "3.7.8"
  }
 },
 "nbformat": 4,
 "nbformat_minor": 4
}
