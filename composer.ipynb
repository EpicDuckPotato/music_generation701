{
 "cells": [
  {
   "cell_type": "code",
   "execution_count": 2,
   "metadata": {},
   "outputs": [],
   "source": [
    "import torch\n",
    "import numpy as np\n",
    "import math\n",
    "import os\n",
    "import matplotlib.pyplot as plt"
   ]
  },
  {
   "cell_type": "code",
   "execution_count": 16,
   "metadata": {},
   "outputs": [],
   "source": [
    "num_notes = 128\n",
    "num_time_shifts = 100\n",
    "num_velocities = 32\n",
    "message_dim = 2*num_notes + num_velocities + num_time_shifts\n",
    "instrument_numbers = [0, 6, 40, 41, 42, 43, 45, 60, 68, 70, 71, 73]\n",
    "num_instruments = len(instrument_numbers)\n",
    "max_channels = 14"
   ]
  },
  {
   "cell_type": "markdown",
   "metadata": {},
   "source": [
    "# ComposerLSTM definition\n",
    "\n",
    "Predicts the next message given the message history and available instruments"
   ]
  },
  {
   "cell_type": "code",
   "execution_count": 4,
   "metadata": {},
   "outputs": [],
   "source": [
    "# ComposerLSTM: takes a history of MIDI messages \n",
    "# and generates a distribution for the next message\n",
    "class ComposerLSTM(torch.nn.Module):\n",
    "    # CONSTRUCTOR\n",
    "    # ARGUMENTS\n",
    "    # message_dim: dimension of a MIDI message\n",
    "    # embed_dim: dimension of message embedding\n",
    "    # num_instruments: number of instrument labels\n",
    "    # hidden_size: size of hidden LSTM state\n",
    "    # heads: number of heads used to compute ensemble vector\n",
    "    # recurrent_layers: the number of layers in the lstm\n",
    "    def __init__(self, message_dim, embed_dim, num_instruments, hidden_size, heads, recurrent_layers=3):\n",
    "        super(ComposerLSTM, self).__init__()\n",
    "        \n",
    "        self.embed_dim = embed_dim\n",
    "        \n",
    "        # We use multiheaded attention to transform the ensemble into a single vector\n",
    "        self.i_embedding = torch.nn.Embedding(num_instruments, embed_dim)\n",
    "        self.inst_attention = torch.nn.MultiheadAttention(embed_dim, heads)\n",
    "        \n",
    "        self.embedding = torch.nn.Embedding(message_dim, embed_dim)\n",
    "        \n",
    "        # A 3-layer LSTM takes the history of messages (concatenated with the ensemble\n",
    "        # vector) and produces a decoding\n",
    "        self.lstm = torch.nn.LSTM(2*embed_dim, hidden_size, num_layers=recurrent_layers)\n",
    "\n",
    "        # The decoding is passed through a linear layer to get the logits for the next message        \n",
    "        self.logits = torch.nn.Linear(hidden_size, message_dim)\n",
    "    \n",
    "    # forward: generates a probability distribution for the next MIDI message\n",
    "    # ARGUMENTS\n",
    "    # history: an LxB tensor, where L is the length of the longest message history in\n",
    "    # the batch, and B is the batch size. This should be END-PADDED\n",
    "    # along dimension 0\n",
    "    # mask: an LxB tensor, containing True in any locations where history contains padding\n",
    "    # instruments: a NxB tensor indicating the instruments in each channel. This should be END-PADDED along dimension 0\n",
    "    # inst_mask: an NxB tensor containing False where an instrument exists and True otherwise\n",
    "    # RETURN: an LxBxD tensor representing the logits for the next message in each batch\n",
    "    def forward(self, history, mask, instruments, inst_mask):\n",
    "        L = history.shape[0] # longest length\n",
    "        B = history.shape[1] # batch size\n",
    "        assert(mask.shape == history.shape)\n",
    "        assert(instruments.shape == inst_mask.shape)\n",
    "        \n",
    "        # NxBxD\n",
    "        inst_embed = torch.tanh(self.i_embedding(instruments))\n",
    "               \n",
    "        # 1xBxD\n",
    "        ensemble_vec, weights = self.inst_attention(torch.ones((1, B, self.embed_dim)), \\\n",
    "                                                    inst_embed, \\\n",
    "                                                    inst_embed, \\\n",
    "                                                    inst_mask.transpose(0, 1))\n",
    "        \n",
    "        # LxBxD\n",
    "        inputs = torch.cat((self.embedding(history), ensemble_vec.expand(L, -1, -1)), dim=2)\n",
    "        \n",
    "        decoding, last_hidden = self.lstm(inputs)\n",
    "        \n",
    "        # LxBxD\n",
    "        return self.logits(decoding)\n",
    "    \n",
    "    # forward: predicts the next MIDI message\n",
    "    # ARGUMENTS\n",
    "    # last_message: a 1x1 tensor containing the last message\n",
    "    # instruments: an Nx1 tensor indicating the instrument number for each channel\n",
    "    # hidden: the last hidden state for the LSTM\n",
    "    # RETURN: a 1x1 tensor, predicting the next message\n",
    "    def forward_generate(self, last_message, instruments, hidden):\n",
    "        assert(last_message.shape == (1, 1))\n",
    "        \n",
    "        # Nx1xD\n",
    "        inst_embed = torch.tanh(self.i_embedding(instruments))\n",
    "               \n",
    "        # 1x1xD\n",
    "        ensemble_vec, weights = self.inst_attention(torch.ones((1, 1, self.embed_dim)), inst_embed, inst_embed)\n",
    "        \n",
    "        # 1x1xD\n",
    "        inputs = torch.cat((self.embedding(last_message), ensemble_vec), dim=2)\n",
    "        \n",
    "        decoding, new_hidden = self.lstm(inputs, hidden)\n",
    "        \n",
    "        # 1x1xD\n",
    "        probs = torch.nn.functional.softmax(self.logits(decoding), dim=2)\n",
    "               \n",
    "        return torch.multinomial(probs.flatten(), 1).view(1, 1), new_hidden"
   ]
  },
  {
   "cell_type": "markdown",
   "metadata": {},
   "source": [
    "# Tests for ComposerLSTM\n",
    "We train with model.eval() to disable dropout, since these tests try to get the model to overfit to a small sequence"
   ]
  },
  {
   "cell_type": "markdown",
   "metadata": {},
   "source": [
    "Get the model to overfit to a single song"
   ]
  },
  {
   "cell_type": "code",
   "execution_count": 47,
   "metadata": {},
   "outputs": [],
   "source": [
    "embed_dim = 256\n",
    "hidden_size = 1024\n",
    "heads = 4\n",
    "\n",
    "grad_clip = 10\n",
    "\n",
    "model = ComposerLSTM(message_dim, embed_dim, num_instruments, hidden_size, heads)\n",
    "for p in model.parameters():\n",
    "    p.register_hook(lambda grad: torch.clamp(grad, -grad_clip, grad_clip))\n",
    "    \n",
    "model.eval() # Training with eval just to see if we can overfit without dropout\n",
    "pass"
   ]
  },
  {
   "cell_type": "code",
   "execution_count": 48,
   "metadata": {},
   "outputs": [
    {
     "data": {
      "text/plain": [
       "<All keys matched successfully>"
      ]
     },
     "execution_count": 48,
     "metadata": {},
     "output_type": "execute_result"
    }
   ],
   "source": [
    "model.load_state_dict(torch.load('overfit_composer.pth'))"
   ]
  },
  {
   "cell_type": "code",
   "execution_count": null,
   "metadata": {
    "scrolled": true
   },
   "outputs": [],
   "source": [
    "recording = np.load('train_unified/recording0.npy', allow_pickle=True)\n",
    "instruments_np = np.load('train_unified/instruments0.npy', allow_pickle=True)\n",
    "\n",
    "nsamples = 200\n",
    "\n",
    "message_history = torch.tensor(recording[:nsamples, 0], dtype=torch.long).view(-1, 1)\n",
    "mask = torch.zeros(message_history.shape, dtype=torch.bool)\n",
    "instruments = torch.tensor([instrument_numbers.index(i) for i in instruments_np], dtype=torch.long).view(-1, 1)\n",
    "inst_mask = torch.zeros(instruments.shape, dtype=torch.bool)\n",
    "\n",
    "batch_size = 1\n",
    "learning_rate = 0.001\n",
    "optimizer = torch.optim.Adam(model.parameters(), lr=learning_rate)\n",
    "loss_fn = torch.nn.CrossEntropyLoss()\n",
    "epochs = 500\n",
    "train_losses = np.zeros(epochs)\n",
    "\n",
    "target_messages = message_history[1:].flatten()\n",
    "\n",
    "for epoch in range(epochs):\n",
    "    print('Starting epoch %d' %(epoch))\n",
    "    \n",
    "    message_logits = model(message_history[:-1], mask[:-1], instruments, inst_mask)\n",
    "    \n",
    "    loss = loss_fn(message_logits.view(-1, message_dim), target_messages)\n",
    "                \n",
    "    optimizer.zero_grad()\n",
    "    loss.backward()\n",
    "    optimizer.step()\n",
    "    train_losses[epoch] = loss.data\n",
    "    print('Loss: %f' %(loss.data))"
   ]
  },
  {
   "cell_type": "code",
   "execution_count": 23,
   "metadata": {},
   "outputs": [],
   "source": [
    "torch.save(model.state_dict(), 'overfit_composer.pth')"
   ]
  },
  {
   "cell_type": "code",
   "execution_count": 24,
   "metadata": {},
   "outputs": [
    {
     "data": {
      "text/plain": [
       "[<matplotlib.lines.Line2D at 0x7f3e24440b50>]"
      ]
     },
     "execution_count": 24,
     "metadata": {},
     "output_type": "execute_result"
    },
    {
     "data": {
      "image/png": "[encoded data removed]",
      "text/plain": [
       "<Figure size 432x288 with 1 Axes>"
      ]
     },
     "metadata": {
      "needs_background": "light"
     },
     "output_type": "display_data"
    }
   ],
   "source": [
    "plt.plot(train_losses)"
   ]
  },
  {
   "cell_type": "code",
   "execution_count": 54,
   "metadata": {
    "scrolled": true
   },
   "outputs": [
    {
     "name": "stdout",
     "output_type": "stream",
     "text": [
      "0\n"
     ]
    }
   ],
   "source": [
    "# Sample from model\n",
    "gen_messages = message_history[0].unsqueeze(0)\n",
    "model.eval() # Turns off the dropout for evaluation. Need to do this to get repeatable evaluation outputs\n",
    "\n",
    "# Move forward in time\n",
    "wrong_cnt = 0\n",
    "hidden = (torch.zeros(3, 1, hidden_size), torch.zeros(3, 1, hidden_size))\n",
    "for t in range(0, message_history.shape[0] - 1):\n",
    "    ret, hidden = model.forward_generate(gen_messages[-1].view(1, 1), instruments, hidden)\n",
    "    \n",
    "    gen_messages = torch.cat((gen_messages, ret), dim=0)\n",
    "    \n",
    "    if gen_messages[-1, 0] != message_history[t + 1, 0]:\n",
    "        print('Wrong message at time %d!' %(t))\n",
    "        wrong_cnt += 1\n",
    "\n",
    "print(wrong_cnt)"
   ]
  },
  {
   "cell_type": "code",
   "execution_count": 55,
   "metadata": {},
   "outputs": [],
   "source": [
    "# Associate all messages with channel 0 for now\n",
    "channels = torch.zeros(gen_messages.shape, dtype=torch.long)\n",
    "gen_history = torch.cat((gen_messages, channels), dim=1)\n",
    "np.save('test_history.npy', gen_history.detach().numpy())\n",
    "np.save('test_instruments.npy', np.array([0]))"
   ]
  },
  {
   "cell_type": "markdown",
   "metadata": {},
   "source": [
    "# Custom dataset class"
   ]
  },
  {
   "cell_type": "code",
   "execution_count": 20,
   "metadata": {},
   "outputs": [],
   "source": [
    "# Custom Dataset class\n",
    "class MIDIDataset(torch.utils.data.Dataset):\n",
    "    # CONSTRUCTOR: creates a tensor of message chunks and associated instruments.\n",
    "    # Assumes that the directory contains recording0.npy to recordingM.npy\n",
    "    # as well as instruments0.npy to instrumentsM.npy\n",
    "    # ARGUMENTS\n",
    "    # root_dir: the directory to search\n",
    "    # chunk_size: we'll chunk the data into chunks of this size (or less)\n",
    "    # max_channels: what's the largest number of instruments in any file?\n",
    "    def __init__(self, root_dir, chunk_size, max_channels, transform=None):\n",
    "        files = os.listdir(root_dir)\n",
    "        recording_files = []\n",
    "        instrument_files = []\n",
    "        for file in files:\n",
    "            if 'recording' in file:\n",
    "                recording_files.append(os.path.join(root_dir, file))\n",
    "            elif 'instruments' in file:\n",
    "                instrument_files.append(os.path.join(root_dir, file))\n",
    "                \n",
    "        assert(len(recording_files) == len(instrument_files))\n",
    "        recording_files.sort()\n",
    "        instrument_files.sort()\n",
    "        \n",
    "        self.chunks = []\n",
    "        self.masks = []\n",
    "        self.instruments = []\n",
    "        self.inst_masks = []\n",
    "        \n",
    "        ch = 0\n",
    "        for f in range(len(recording_files)):\n",
    "            recording = np.load(recording_files[f], allow_pickle=True)\n",
    "            inst = [instrument_numbers.index(i) for i in np.load(instrument_files[f], allow_pickle=True)]\n",
    "            \n",
    "            nchunks = int(np.ceil(recording.shape[0]/chunk_size))\n",
    "            self.chunks += [torch.zeros(chunk_size, dtype=torch.long) for c in range(nchunks)]\n",
    "            self.masks += [torch.ones(chunk_size, dtype=torch.bool) for c in range(nchunks)]\n",
    "            self.instruments += [torch.zeros(max_channels, dtype=torch.long) for c in range(nchunks)]\n",
    "            self.inst_masks += [torch.ones(max_channels, dtype=torch.long) for c in range(nchunks)]\n",
    "            for chunk_start in range(0, recording.shape[0], chunk_size):\n",
    "                chunk_end = min(chunk_start + chunk_size, recording.shape[0])\n",
    "                size = chunk_end - chunk_start\n",
    "                self.chunks[ch][:size] = torch.tensor(recording[chunk_start:chunk_end, 0], dtype=torch.long)\n",
    "                self.masks[ch][:size] = False\n",
    "                self.instruments[ch][:len(inst)] = torch.tensor(inst, dtype=torch.long)\n",
    "                self.inst_masks[ch][:len(inst)] = False\n",
    "                ch += 1\n",
    "            \n",
    "        self.transform = transform\n",
    "\n",
    "    # __len__\n",
    "    # RETURN: the number of recording chunks in the dataset\n",
    "    def __len__(self):\n",
    "        return len(self.chunks)\n",
    "\n",
    "    # __getitem__\n",
    "    # ARGUMENTS\n",
    "    # idx: indicates which chunk(s) to get\n",
    "    # RETURN: instance, a dictionary with keys 'history', 'instruments', 'mask', and 'inst_mask'\n",
    "    # instance['history'] is a length L tensor containing messages\n",
    "    # instance['instruments'] a length N tensor of instrument numbers\n",
    "    # instance['mask'] a length L tensor containing False where messages exist and True otherwise\n",
    "    # instance['inst_mask'] a length N tensor containing False where instruments exist and True otherwise\n",
    "    def __getitem__(self, idx):\n",
    "        if torch.is_tensor(idx):\n",
    "            idx = idx.tolist()\n",
    "        instance = {'history': self.chunks[idx], \\\n",
    "                    'instruments': self.instruments[idx],\n",
    "                    'mask': self.masks[idx],\n",
    "                    'inst_mask': self.inst_masks[idx]}\n",
    "        \n",
    "        if self.transform:\n",
    "            instance = self.transform(instance)\n",
    "            \n",
    "        return instance\n",
    "    \n",
    "def collate_fn(batch):\n",
    "    chunk_size = batch[0]['history'].shape[0]\n",
    "    max_channels = batch[0]['instruments'].shape[0]\n",
    "    sample = {'history': torch.zeros((chunk_size, len(batch)), dtype=torch.long), \\\n",
    "              'instruments': torch.ones((max_channels, len(batch)), dtype=torch.long), \\\n",
    "              'mask': torch.ones((chunk_size, len(batch)), dtype=torch.bool),\n",
    "              'inst_mask': torch.ones((max_channels, len(batch)), dtype=torch.bool)}\n",
    "    \n",
    "    for b, instance in enumerate(batch):\n",
    "        sample['history'][:, b] = instance['history']\n",
    "        sample['instruments'][:, b] = instance['instruments']\n",
    "        sample['mask'][:, b] = instance['mask']\n",
    "        sample['inst_mask'][:, b] = instance['inst_mask']\n",
    "    return sample"
   ]
  },
  {
   "cell_type": "markdown",
   "metadata": {},
   "source": [
    "# Train the model"
   ]
  },
  {
   "cell_type": "code",
   "execution_count": 21,
   "metadata": {},
   "outputs": [],
   "source": [
    "# compute_loss: computes the loss for the model over the batch\n",
    "# ARGUMENTS\n",
    "# model: ComposerLSTM model\n",
    "# loss_fn: torch.nn.CrossEntropyLoss object\n",
    "# batch: see collate_fn definition\n",
    "# RETURN: a scalar loss tensor\n",
    "def compute_loss(model, loss_fn, batch):\n",
    "    batch_size = batch['history'].shape[1]\n",
    "    \n",
    "    max_seq_length = batch['history'].shape[0]\n",
    "        \n",
    "    num_targets = max_seq_length - 1 # Messages start from t = 0, but we start generating at t = 1\n",
    "\n",
    "    message_logits = model(batch['history'][:-1], batch['mask'][:-1], batch['instruments'], batch['inst_mask'])\n",
    "\n",
    "    target_mask = torch.logical_not(batch['mask'][1:])\n",
    "\n",
    "    target_messages = batch['history'][1:][target_mask]\n",
    "\n",
    "    message_loss = loss_fn(message_logits[target_mask], target_messages)\n",
    "\n",
    "    return message_loss"
   ]
  },
  {
   "cell_type": "code",
   "execution_count": 22,
   "metadata": {},
   "outputs": [],
   "source": [
    "embed_dim = 256\n",
    "hidden_size = 1024\n",
    "heads = 4\n",
    "\n",
    "grad_clip = 10\n",
    "\n",
    "model = ComposerLSTM(message_dim, embed_dim, num_instruments, hidden_size, heads)\n",
    "for p in model.parameters():\n",
    "    p.register_hook(lambda grad: torch.clamp(grad, -grad_clip, grad_clip))"
   ]
  },
  {
   "cell_type": "code",
   "execution_count": 23,
   "metadata": {},
   "outputs": [],
   "source": [
    "optimizer = torch.optim.Adam(model.parameters())"
   ]
  },
  {
   "cell_type": "code",
   "execution_count": null,
   "metadata": {
    "scrolled": true
   },
   "outputs": [],
   "source": [
    "batch_size = 10\n",
    "learning_rate = 0.001\n",
    "chunk_size = 500\n",
    "\n",
    "train_dataset = MIDIDataset('train_unified', chunk_size, max_channels)\n",
    "train_dataloader = torch.utils.data.DataLoader(train_dataset, batch_size=batch_size, shuffle=True, collate_fn=collate_fn)\n",
    "\n",
    "test_dataset = MIDIDataset('test_unified', chunk_size, max_channels)\n",
    "test_dataloader = torch.utils.data.DataLoader(test_dataset, batch_size=batch_size, shuffle=True, collate_fn=collate_fn)\n",
    "\n",
    "loss_fn = torch.nn.CrossEntropyLoss()\n",
    "epochs = 20\n",
    "train_losses = np.zeros(epochs)\n",
    "test_losses = np.zeros(epochs)\n",
    "\n",
    "for epoch in range(epochs):\n",
    "    print('Starting epoch %d' %(epoch))\n",
    "    model.train()\n",
    "    for b, batch in enumerate(train_dataloader):\n",
    "        print('Starting iteration %d' %(b))\n",
    "        loss = compute_loss(model, loss_fn, batch)\n",
    "        optimizer.zero_grad()\n",
    "        loss.backward()\n",
    "        optimizer.step()\n",
    "        \n",
    "    torch.save(model.state_dict(), 'composer_models/epoch' + str(epoch) + '.pth')\n",
    "\n",
    "    print('Computing test loss')\n",
    "    model.eval()\n",
    "    for batch in test_dataloader:\n",
    "        loss = compute_loss(model, loss_fn, batch)\n",
    "        test_losses[epoch] += loss.data\n",
    "        \n",
    "    print('Computing train loss')\n",
    "    for batch in train_dataloader:\n",
    "        loss = compute_loss(model, loss_fn, batch)\n",
    "        train_losses[epoch] += loss.data\n",
    "    \n",
    "    train_losses[epoch] /= len(train_dataloader)\n",
    "    test_losses[epoch] /= len(test_dataloader)\n",
    "    print('Train Loss: %f, Test Loss: %f' %(train_losses[epoch], test_losses[epoch]))"
   ]
  },
  {
   "cell_type": "code",
   "execution_count": null,
   "metadata": {},
   "outputs": [],
   "source": [
    "plt.plot(train_losses)"
   ]
  },
  {
   "cell_type": "markdown",
   "metadata": {},
   "source": [
    "# Sample from the model"
   ]
  },
  {
   "cell_type": "code",
   "execution_count": 115,
   "metadata": {},
   "outputs": [],
   "source": [
    "model.eval() # Disable dropout to make results repeatable\n",
    "\n",
    "time_steps = 500 # How many time steps do we sample?\n",
    "\n",
    "# Start with a time shift\n",
    "gen_messages = torch.tensor(387).view(1, 1)\n",
    "model.eval() # Turns off the dropout for evaluation. Need to do this to get repeatable evaluation outputs\n",
    "\n",
    "# Piano\n",
    "instruments = torch.zeros((1, 1), dtype=torch.long)\n",
    "instruments[0, 0] = 0\n",
    "\n",
    "# Move forward in time\n",
    "wrong_cnt = 0\n",
    "hidden = (torch.zeros(3, 1, hidden_size), torch.zeros(3, 1, hidden_size))\n",
    "for t in range(time_steps):\n",
    "    ret, hidden = model.forward_generate(gen_messages[-1].view(1, 1), instruments, hidden)\n",
    "    \n",
    "    gen_messages = torch.cat((gen_messages, ret), dim=0)"
   ]
  },
  {
   "cell_type": "code",
   "execution_count": 116,
   "metadata": {},
   "outputs": [],
   "source": [
    "# Associate all messages with channel 0 for now\n",
    "channels = torch.zeros(gen_messages.shape, dtype=torch.long)\n",
    "gen_history = torch.cat((gen_messages, channels), dim=1)\n",
    "np.save('test_history.npy', gen_history.detach().numpy())\n",
    "np.save('test_instruments.npy', np.array([0]))"
   ]
  },
  {
   "cell_type": "code",
   "execution_count": null,
   "metadata": {},
   "outputs": [],
   "source": []
  }
 ],
 "metadata": {
  "environment": {
   "name": "pytorch-gpu.1-6.m59",
   "type": "gcloud",
   "uri": "gcr.io/deeplearning-platform-release/pytorch-gpu.1-6:m59"
  },
  "kernelspec": {
   "display_name": "Python 3",
   "language": "python",
   "name": "python3"
  },
  "language_info": {
   "codemirror_mode": {
    "name": "ipython",
    "version": 3
   },
   "file_extension": ".py",
   "mimetype": "text/x-python",
   "name": "python",
   "nbconvert_exporter": "python",
   "pygments_lexer": "ipython3",
   "version": "3.7.8"
  }
 },
 "nbformat": 4,
 "nbformat_minor": 4
}
