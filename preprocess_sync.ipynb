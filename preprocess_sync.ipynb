{
 "cells": [
  {
   "cell_type": "code",
   "execution_count": 30,
   "metadata": {},
   "outputs": [
    {
     "name": "stdout",
     "output_type": "stream",
     "text": [
      "Starting Faure\n",
      "Starting Schubert\n",
      "Starting Cambini\n",
      "Starting Ravel\n",
      "Starting Bach\n",
      "Starting Dvorak\n",
      "Starting Brahms\n",
      "Starting Mozart\n",
      "Starting Beethoven\n",
      "Starting Haydn\n"
     ]
    }
   ],
   "source": [
    "import pretty_midi\n",
    "import os\n",
    "import numpy as np\n",
    "import heapq\n",
    "import pickle\n",
    "\n",
    "# See https://jazz-soft.net/demo/GeneralMidi.html for which instrument each number represents\n",
    "#instruments = [0, 6, 40, 41, 42, 43, 45, 60, 68, 70, 71, 73]\n",
    "\n",
    "num_notes = 128 # Number of pitches in MIDI\n",
    "\n",
    "# Number of time steps per second (this is what NES-MDB uses)\n",
    "steps_per_sec = 24\n",
    "\n",
    "# At each time step, an instrument can turn on notes and turn off notes. For each note it's turning on, it picks the note's velocity\n",
    "action_dim = 3*num_notes\n",
    "    \n",
    "base_path = 'musicnet_midis/'\n",
    "\n",
    "fnum = 0 # Which file are we writing currently?\n",
    "\n",
    "data_fnames = [] # Save file name corresponding to each numpy array\n",
    "for composer in os.listdir(base_path):\n",
    "    print('Starting ' + composer)\n",
    "    for fname in os.listdir(base_path + composer):\n",
    "        try:\n",
    "            mid = pretty_midi.PrettyMIDI(base_path + composer + '/' + fname)\n",
    "        except:\n",
    "            # There are 7 files that cause an IO error, both with mido and pretty_midi. Haven't looked into why\n",
    "            continue\n",
    "            \n",
    "        # Number of time steps needed to encode the file. +1 because of the 0 step\n",
    "        tsteps = int(round(mid.get_end_time()*steps_per_sec) + 1)\n",
    "        \n",
    "        data = np.zeros((len(mid.instruments), tsteps, action_dim), dtype=np.float32)\n",
    "        \n",
    "        for i, instrument in enumerate(mid.instruments):\n",
    "            for n, note in enumerate(instrument.notes):\n",
    "                start = int(round(note.start*steps_per_sec))\n",
    "                end = int(round(note.end*steps_per_sec))\n",
    "                \n",
    "                data[i, start, note.pitch] = 1 # Turn on the note\n",
    "                data[i, end, num_notes + note.pitch] = 1 # Turn off the note\n",
    "                data[i, start, 2*num_notes + note.pitch] = note.velocity/127               \n",
    "                \n",
    "        np.save('preprocessed_data_sync/recording' + str(fnum) + '.npy', data)\n",
    "        \n",
    "        # Also save a numpy array containing the MIDI number for each instrument\n",
    "        instruments = np.array([instrument.program for instrument in mid.instruments])\n",
    "        np.save('preprocessed_data_sync/instruments' + str(fnum) + '.npy', instruments)\n",
    "        \n",
    "        data_fnames.append(composer + '/' + fname)\n",
    "        fnum += 1\n",
    "        \n",
    "pickle.dump(data_fnames, open( \"preprocessed_data_sync_fnames.p\", \"wb\" ) )"
   ]
  },
  {
   "cell_type": "code",
   "execution_count": 218,
   "metadata": {},
   "outputs": [
    {
     "data": {
      "text/plain": [
       "[Instrument(program=40, is_drum=False, name=\"Violin 1\"),\n",
       " Instrument(program=40, is_drum=False, name=\"Violin 2\"),\n",
       " Instrument(program=41, is_drum=False, name=\"Viola\"),\n",
       " Instrument(program=42, is_drum=False, name=\"Violoncello\")]"
      ]
     },
     "execution_count": 218,
     "metadata": {},
     "output_type": "execute_result"
    }
   ],
   "source": [
    "mid = pretty_midi.PrettyMIDI(base_path + 'Haydn/2104_op64n5_1.mid')\n",
    "mid.instruments"
   ]
  },
  {
   "cell_type": "code",
   "execution_count": 252,
   "metadata": {},
   "outputs": [
    {
     "name": "stdout",
     "output_type": "stream",
     "text": [
      "674\n"
     ]
    }
   ],
   "source": []
  },
  {
   "cell_type": "code",
   "execution_count": 255,
   "metadata": {},
   "outputs": [
    {
     "name": "stdout",
     "output_type": "stream",
     "text": [
      "Note(start=276.217216, end=276.309321, pitch=78, velocity=49)\n"
     ]
    }
   ],
   "source": [
    "print(mid.instruments[0].notes[674]) # 674 and 675 are the same note"
   ]
  },
  {
   "cell_type": "code",
   "execution_count": null,
   "metadata": {},
   "outputs": [],
   "source": [
    "mid = pretty_midi.PrettyMIDI('musicnet_midis/Brahms/2112_jb38_1.mid')\n",
    "\n",
    "# Number of time steps needed to encode the file. +1 because of the 0 step\n",
    "tsteps = int(round(mid.get_end_time()*steps_per_sec) + 1)\n",
    "\n",
    "data = np.zeros((len(mid.instruments), tsteps, action_dim))\n",
    "\n",
    "for i, instrument in enumerate(mid.instruments):\n",
    "    for n, note in enumerate(instrument.notes):\n",
    "        start = int(round(note.start*steps_per_sec))\n",
    "        end = int(round(note.end*steps_per_sec))\n",
    "\n",
    "        data[i, start, note.pitch] = 1 # Turn on the note\n",
    "        data[i, end, num_notes + note.pitch] = 1 # Turn off the note\n",
    "        data[i, start, 2*num_notes + note.pitch] = note.velocity/127"
   ]
  },
  {
   "cell_type": "code",
   "execution_count": null,
   "metadata": {},
   "outputs": [],
   "source": []
  }
 ],
 "metadata": {
  "environment": {
   "name": "pytorch-gpu.1-6.m59",
   "type": "gcloud",
   "uri": "gcr.io/deeplearning-platform-release/pytorch-gpu.1-6:m59"
  },
  "kernelspec": {
   "display_name": "Python 3",
   "language": "python",
   "name": "python3"
  },
  "language_info": {
   "codemirror_mode": {
    "name": "ipython",
    "version": 3
   },
   "file_extension": ".py",
   "mimetype": "text/x-python",
   "name": "python",
   "nbconvert_exporter": "python",
   "pygments_lexer": "ipython3",
   "version": "3.7.8"
  }
 },
 "nbformat": 4,
 "nbformat_minor": 4
}
