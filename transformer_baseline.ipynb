{
 "cells": [
  {
   "cell_type": "code",
   "execution_count": 1,
   "metadata": {},
   "outputs": [],
   "source": [
    "import torch\n",
    "import numpy as np\n",
    "import os\n",
    "import time\n",
    "import functools\n",
    "from IPython import display as ipythondisplay\n",
    "from tqdm import tqdm\n",
    "!apt-get install abcmidi timidity > /dev/null 2>&1"
   ]
  },
  {
   "cell_type": "code",
   "execution_count": 108,
   "metadata": {},
   "outputs": [],
   "source": [
    "# Custom Dataset class\n",
    "class MIDIDataset(torch.utils.data.Dataset):\n",
    "    # CONSTRUCTOR: creates an array of message chunks. Assumes that the directory\n",
    "    # contains recording0.npy to recordingM.npy\n",
    "    # ARGUMENTS\n",
    "    # root_dir: the directory to search\n",
    "    # chunk_size: we'll chunk the data into chunks of this size (or less)\n",
    "    def __init__(self, root_dir, chunk_size, transform=None):\n",
    "        self.chunks = []\n",
    "        self.masks = []\n",
    "        \n",
    "        ch = 0\n",
    "        for f, file in enumerate(os.listdir(root_dir)):\n",
    "            data = np.load(root_dir + '/' + file)\n",
    "            nchunks = int(np.ceil(data.shape[0]/chunk_size))\n",
    "            self.chunks += [torch.zeros(chunk_size, dtype=torch.long) for c in range(nchunks)]\n",
    "            self.masks += [torch.zeros(chunk_size, dtype=torch.bool) for c in range(nchunks)]\n",
    "            for chunk_start in range(0, data.shape[0], chunk_size):\n",
    "                chunk_end = min(chunk_start + chunk_size, data.shape[0])\n",
    "                size = chunk_end - chunk_start\n",
    "                self.chunks[ch][:size] = torch.tensor(data[chunk_start:chunk_end])\n",
    "                self.masks[ch][:size] = False\n",
    "                ch += 1\n",
    "            \n",
    "            if f%100 == 0:\n",
    "                print(f)\n",
    "            \n",
    "        self.transform = transform\n",
    "\n",
    "    # __len__\n",
    "    # RETURN: the number of chunks in the dataset\n",
    "    def __len__(self):\n",
    "        return len(self.chunks)\n",
    "\n",
    "    # __getitem__\n",
    "    # ARGUMENTS\n",
    "    # idx: indicates which chunk to get\n",
    "    # RETURN: instance, a dictionary with keys 'messages' and 'mask'.\n",
    "    # Both values associated with these keys are length L tensors\n",
    "    def __getitem__(self, idx):  \n",
    "        instance = {'messages': self.chunks[idx], \\\n",
    "                    'mask': self.masks[idx]}\n",
    "\n",
    "        if self.transform:\n",
    "            instance = self.transform(instance)\n",
    "            \n",
    "        return instance\n",
    "    \n",
    "def collate_fn(batch):\n",
    "    chunk_size = batch[0]['messages'].shape[0]\n",
    "    sample = {'messages': torch.zeros((chunk_size, len(batch)), dtype=torch.long), \\\n",
    "              'mask': torch.ones((chunk_size, len(batch)), dtype=torch.bool)}\n",
    "    \n",
    "    for b, instance in enumerate(batch):\n",
    "        sample['messages'][:, b] = instance['messages']\n",
    "        sample['mask'][:, b] = instance['mask']\n",
    "    return sample"
   ]
  },
  {
   "cell_type": "code",
   "execution_count": 109,
   "metadata": {
    "scrolled": true
   },
   "outputs": [
    {
     "name": "stdout",
     "output_type": "stream",
     "text": [
      "0\n"
     ]
    },
    {
     "data": {
      "text/plain": [
       "2526"
      ]
     },
     "execution_count": 109,
     "metadata": {},
     "output_type": "execute_result"
    }
   ],
   "source": [
    "train_data = MIDIDataset('train_maestro', 200)\n",
    "len(train_data)"
   ]
  },
  {
   "cell_type": "code",
   "execution_count": 110,
   "metadata": {},
   "outputs": [
    {
     "name": "stdout",
     "output_type": "stream",
     "text": [
      "0\n"
     ]
    },
    {
     "data": {
      "text/plain": [
       "722"
      ]
     },
     "execution_count": 110,
     "metadata": {},
     "output_type": "execute_result"
    }
   ],
   "source": [
    "test_data = MIDIDataset('test_maestro', 200)\n",
    "len(test_data)"
   ]
  },
  {
   "cell_type": "code",
   "execution_count": 111,
   "metadata": {},
   "outputs": [],
   "source": [
    "# Taken from https://pytorch.org/tutorials/beginner/transformer_tutorial.html.\n",
    "# Only change is the view/expand in forward (accounts for batches)\n",
    "class PositionalEncoding(torch.nn.Module):\n",
    "    def __init__(self, d_model, dropout=0.1, max_len=10000):\n",
    "        super(PositionalEncoding, self).__init__()\n",
    "        self.dropout = torch.nn.Dropout(p=dropout)\n",
    "\n",
    "        pe = torch.zeros(max_len, d_model)\n",
    "        position = torch.arange(0, max_len, dtype=torch.float).unsqueeze(1)\n",
    "        div_term = torch.exp(torch.arange(0, d_model, 2).float() * (-np.log(10000.0) / d_model))\n",
    "        pe[:, 0::2] = torch.sin(position * div_term)\n",
    "        pe[:, 1::2] = torch.cos(position * div_term)\n",
    "        self.register_buffer('pe', pe)\n",
    "\n",
    "    def forward(self, x):\n",
    "        x = x + self.pe[:x.shape[0], :].unsqueeze(1).expand(-1, x.shape[1], -1)\n",
    "        return self.dropout(x)\n",
    "\n",
    "# BaselineLSTM: generates a sequence of MIDI messages\n",
    "class BaselineTransformer(torch.nn.Module):\n",
    "    # CONSTRUCTOR\n",
    "    # ARGUMENTS\n",
    "    # message_dim: dimension of a MIDI message\n",
    "    # embed_dim: dimension of message embedding\n",
    "    # heads: number of heads\n",
    "    # attention layers: number of attention layers\n",
    "    def __init__(self, message_dim, embed_dim, heads, attention_layers, ff_size):\n",
    "        super(BaselineTransformer, self).__init__()\n",
    "        self.embedding = torch.nn.Embedding(message_dim, embed_dim)\n",
    "        self.position_encoding = PositionalEncoding(embed_dim)\n",
    "        encoder_layer = torch.nn.TransformerEncoderLayer(embed_dim, heads, ff_size)\n",
    "        self.encoder = torch.nn.TransformerEncoder(encoder_layer, attention_layers)\n",
    "        self.logits = torch.nn.Linear(embed_dim, message_dim)\n",
    "    \n",
    "    # forward: generates a probability distribution for the next MIDI message at each time step in a sequence\n",
    "    # ARGUMENTS\n",
    "    # seq: an LxB tensor, where L is the length of the longest message sequence in\n",
    "    # the batch, and B is the batch size. This should be END-PADDED along dimension 0\n",
    "    # mask: contains False where messages exist, and True otherwise (LxB)\n",
    "    # RETURN: an LxBxD tensor representing the logits for the next message in each batch\n",
    "    def forward(self, seq, mask):\n",
    "        src_mask = torch.triu(torch.ones((seq.shape[0], seq.shape[0]), dtype=torch.bool))\n",
    "        src_mask.fill_diagonal_(False)\n",
    "        return self.logits(self.encoder(self.position_encoding(self.embedding(seq)), mask=src_mask, src_key_padding_mask=mask.transpose(0, 1)))"
   ]
  },
  {
   "cell_type": "code",
   "execution_count": 112,
   "metadata": {},
   "outputs": [],
   "source": [
    "def compute_loss(model, loss_fn, batch):\n",
    "    logits = model(batch['messages'][:-1], batch['mask'][:-1])\n",
    "    mask = torch.logical_not(batch['mask'][1:].flatten())\n",
    "    targets = batch['messages'][1:].flatten()\n",
    "    return loss_fn(logits.view(-1, message_dim)[mask], targets[mask])"
   ]
  },
  {
   "cell_type": "code",
   "execution_count": 113,
   "metadata": {},
   "outputs": [],
   "source": [
    "# Optimization parameters:\n",
    "epochs = 10\n",
    "batch_size = 10\n",
    "learning_rate = 1e-3\n",
    "\n",
    "# Model parameters: \n",
    "message_dim = 388\n",
    "embed_dim = 256\n",
    "heads = 4\n",
    "attention_layers = 6\n",
    "ff_size = 512\n",
    "\n",
    "# Checkpoint location: \n",
    "checkpoint_dir = 'maestro_transformer_checkpoints'\n",
    "\n",
    "train_dataloader = torch.utils.data.DataLoader(train_data, batch_size=batch_size, shuffle=True, collate_fn=collate_fn)\n",
    "test_dataloader = torch.utils.data.DataLoader(test_data, batch_size=batch_size, shuffle=True, collate_fn=collate_fn)\n",
    "model = BaselineTransformer(message_dim, embed_dim, heads, attention_layers, ff_size)\n",
    "optimizer = torch.optim.Adam(model.parameters())\n",
    "loss_fn = torch.nn.CrossEntropyLoss()"
   ]
  },
  {
   "cell_type": "code",
   "execution_count": null,
   "metadata": {
    "scrolled": true
   },
   "outputs": [
    {
     "name": "stdout",
     "output_type": "stream",
     "text": [
      "Starting epoch 0\n",
      "Starting iteration 0\n",
      "Starting iteration 100\n",
      "Starting iteration 200\n",
      "Computing test loss\n",
      "Computing train loss\n",
      "Train loss: 4.654969, Test loss: 4.697808\n",
      "Starting epoch 1\n",
      "Starting iteration 0\n",
      "Starting iteration 100\n",
      "Starting iteration 200\n",
      "Computing test loss\n",
      "Computing train loss\n",
      "Train loss: 4.491338, Test loss: 4.546344\n",
      "Starting epoch 2\n",
      "Starting iteration 0\n",
      "Starting iteration 100\n",
      "Starting iteration 200\n",
      "Computing test loss\n",
      "Computing train loss\n",
      "Train loss: 4.651902, Test loss: 4.717244\n",
      "Starting epoch 3\n",
      "Starting iteration 0\n",
      "Starting iteration 100\n",
      "Starting iteration 200\n"
     ]
    }
   ],
   "source": [
    "train_losses = [0 for epoch in range(epochs)]\n",
    "test_losses = [0 for epoch in range(epochs)]\n",
    "for epoch in range(epochs):\n",
    "    print('Starting epoch %d' %(epoch))\n",
    "    model.train()\n",
    "    for b, batch in enumerate(train_dataloader):\n",
    "        if b%100 == 0:\n",
    "            print('Starting iteration %d' %(b))\n",
    "        loss = compute_loss(model, loss_fn, batch)\n",
    "        optimizer.zero_grad()\n",
    "        loss.backward()\n",
    "        optimizer.step()\n",
    "        \n",
    "    torch.save(model.state_dict(), checkpoint_dir + '/epoch' + str(epoch) + '.pth')\n",
    "        \n",
    "    model.eval()\n",
    "    print('Computing test loss')\n",
    "    for b, batch in enumerate(test_dataloader):\n",
    "        test_losses[epoch] += compute_loss(model, loss_fn, batch).data\n",
    "        \n",
    "    test_losses[epoch] /= len(test_dataloader)\n",
    "        \n",
    "    print('Computing train loss')\n",
    "    for b, batch in enumerate(train_dataloader):\n",
    "        train_losses[epoch] += compute_loss(model, loss_fn, batch).data\n",
    "        \n",
    "    train_losses[epoch] /= len(train_dataloader)\n",
    "        \n",
    "    print('Train loss: %f, Test loss: %f' %(train_losses[epoch], test_losses[epoch]))"
   ]
  },
  {
   "cell_type": "code",
   "execution_count": null,
   "metadata": {},
   "outputs": [],
   "source": [
    "np.save(checkpoint_dir + '/train_losses.npy', np.array(train_losses))\n",
    "np.save(checkpoint_dir + '/test_losses.npy', np.array(test_losses))"
   ]
  },
  {
   "cell_type": "code",
   "execution_count": null,
   "metadata": {},
   "outputs": [],
   "source": [
    "model = BaselineTransformer(message_dim, embed_dim, heads, attention_layers, ff_size)\n",
    "model.load_state_dict(torch.load(checkpoint_dir + '/epoch' + str(epochs - 1)))"
   ]
  },
  {
   "cell_type": "code",
   "execution_count": 311,
   "metadata": {},
   "outputs": [],
   "source": [
    "# Sample from model\n",
    "def generate_music(model, primer, gen_length=1000):\n",
    "    hidden = None\n",
    "    gen = torch.tensor(primer).unsqueeze(1)\n",
    "    mask = torch.zeros(gen.shape, dtype=torch.bool)\n",
    "    for i in range(gen_length):\n",
    "        logits = model(gen, mask)\n",
    "        message = torch.multinomial(torch.nn.functional.softmax(logits[-1].flatten(), dim=0), 1).view(1, 1)\n",
    "        gen = torch.cat((gen, message))\n",
    "        \n",
    "    return gen"
   ]
  },
  {
   "cell_type": "code",
   "execution_count": 316,
   "metadata": {},
   "outputs": [
    {
     "name": "stderr",
     "output_type": "stream",
     "text": [
      "100%|██████████| 1000/1000 [00:11<00:00, 86.23it/s]\n"
     ]
    }
   ],
   "source": [
    "generated_music = generate_event(model, start_event=[16,60, 330, 188, 64, 330, 192, 67,330, 195, 72, 330, 200,67,330, 195,64, 330, 192,60, 330, 188], generation_length=1000)"
   ]
  },
  {
   "cell_type": "code",
   "execution_count": 317,
   "metadata": {},
   "outputs": [],
   "source": [
    "np.save('maestro_midi.npy', generated_music.flatten().detach().numpy())"
   ]
  },
  {
   "cell_type": "code",
   "execution_count": null,
   "metadata": {},
   "outputs": [],
   "source": []
  }
 ],
 "metadata": {
  "environment": {
   "name": "pytorch-gpu.1-6.m59",
   "type": "gcloud",
   "uri": "gcr.io/deeplearning-platform-release/pytorch-gpu.1-6:m59"
  },
  "kernelspec": {
   "display_name": "Python 3",
   "language": "python",
   "name": "python3"
  },
  "language_info": {
   "codemirror_mode": {
    "name": "ipython",
    "version": 3
   },
   "file_extension": ".py",
   "mimetype": "text/x-python",
   "name": "python",
   "nbconvert_exporter": "python",
   "pygments_lexer": "ipython3",
   "version": "3.7.8"
  }
 },
 "nbformat": 4,
 "nbformat_minor": 4
}
