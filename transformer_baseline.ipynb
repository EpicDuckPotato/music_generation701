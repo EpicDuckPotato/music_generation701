{
 "cells": [
  {
   "cell_type": "code",
   "execution_count": 22,
   "metadata": {},
   "outputs": [],
   "source": [
    "import torch\n",
    "import numpy as np\n",
    "import os\n",
    "import time\n",
    "import functools\n",
    "from IPython import display as ipythondisplay\n",
    "import math\n",
    "from tqdm import tqdm\n",
    "import mitdeeplearning as mdl"
   ]
  },
  {
   "cell_type": "code",
   "execution_count": 5,
   "metadata": {},
   "outputs": [],
   "source": [
    "base_dir = \"preprocessed_data\"\n",
    "program_numbers = [0, 6, 40, 41, 42, 43, 45, 60, 68, 70, 71, 73]"
   ]
  },
  {
   "cell_type": "code",
   "execution_count": 66,
   "metadata": {},
   "outputs": [
    {
     "data": {
      "text/plain": [
       "(845278,)"
      ]
     },
     "execution_count": 66,
     "metadata": {},
     "output_type": "execute_result"
    }
   ],
   "source": [
    "# Concatenate all piano events into one long list of events\n",
    "piano_joined = []\n",
    "for i in range(100,200):\n",
    "    recording = np.load(\"./preprocessed_data/recording\" + str(i) + \".npy\", allow_pickle=True)\n",
    "    instruments = np.load(\"./preprocessed_data/instruments\" + str(i) + \".npy\", allow_pickle=True)\n",
    "    for j, instrument in enumerate(instruments):\n",
    "        if instrument == 0:\n",
    "            initial_pause = True\n",
    "            for event in recording[j]:\n",
    "                if event != 387: #remove initial pauses\n",
    "                    initial_pause = False\n",
    "                if initial_pause == False:\n",
    "                    piano_joined.append(event)\n",
    "                    \n",
    "piano_joined = np.asarray(piano_joined)\n",
    "piano_joined.shape"
   ]
  },
  {
   "cell_type": "code",
   "execution_count": 68,
   "metadata": {},
   "outputs": [],
   "source": [
    "# get_batch: get random continuous segments of messages from vectorized_songs\n",
    "# ARGUMENTS\n",
    "# vectorized_songs: the sequence to pull from\n",
    "# seq_length: length of the segmen to return\n",
    "# batch_size: number of segments to return\n",
    "# RETURN: two numpy arrays:\n",
    "# x_batch: LxB, contains segments\n",
    "# y_batch: LxB. y_batch[l, b] contains the message that comes after\n",
    "# x_batch[l, b]\n",
    "def get_batch(vectorized_songs, seq_length, batch_size):\n",
    "    n = vectorized_songs.shape[0] - 1\n",
    "    idx = np.random.choice(n-seq_length, batch_size)\n",
    "\n",
    "    input_batch = [vectorized_songs[i : i+seq_length] for i in idx]\n",
    "    output_batch = [vectorized_songs[i+1 : i+seq_length+1] for i in idx]\n",
    "    x_batch = torch.tensor(np.reshape(input_batch, [batch_size, seq_length]), dtype=torch.long).transpose(0, 1)\n",
    "    y_batch = torch.tensor(np.reshape(output_batch, [batch_size, seq_length]), dtype=torch.long).transpose(0, 1)\n",
    "    return x_batch, y_batch"
   ]
  },
  {
   "cell_type": "code",
   "execution_count": 70,
   "metadata": {},
   "outputs": [],
   "source": [
    "# Taken from https://pytorch.org/tutorials/beginner/transformer_tutorial.html.\n",
    "# Only change is the view/expand in forward (accounts for batches)\n",
    "class PositionalEncoding(torch.nn.Module):\n",
    "    def __init__(self, d_model, dropout=0.1, max_len=10000):\n",
    "        super(PositionalEncoding, self).__init__()\n",
    "        self.dropout = torch.nn.Dropout(p=dropout)\n",
    "\n",
    "        pe = torch.zeros(max_len, d_model)\n",
    "        position = torch.arange(0, max_len, dtype=torch.float).unsqueeze(1)\n",
    "        div_term = torch.exp(torch.arange(0, d_model, 2).float() * (-math.log(10000.0) / d_model))\n",
    "        pe[:, 0::2] = torch.sin(position * div_term)\n",
    "        pe[:, 1::2] = torch.cos(position * div_term)\n",
    "        self.register_buffer('pe', pe)\n",
    "\n",
    "    def forward(self, x):\n",
    "        x = x + self.pe[:x.shape[0], :].unsqueeze(1).expand(-1, x.shape[1], -1)\n",
    "        return self.dropout(x)\n",
    "\n",
    "class BaselineTransformer(torch.nn.Module):\n",
    "    # CONSTRUCTOR\n",
    "    # ARGUMENTS\n",
    "    # message_dim: dimension of a MIDI message\n",
    "    # embed_dim: dimension of message embedding\n",
    "    # heads: number of attention heads\n",
    "    # attention_layers: number of attention layers\n",
    "    # ff_size: size of the feedforward output at the end of the decoder\n",
    "    def __init__(self, message_dim, embed_dim, heads, attention_layers, ff_size):\n",
    "        super(BaselineTransformer, self).__init__()\n",
    "        \n",
    "        self.embed_dim = embed_dim\n",
    "        \n",
    "        self.embedding = torch.nn.Embedding(message_dim, embed_dim)\n",
    "        \n",
    "        # An encoder takes the history of messages (added to their\n",
    "        # associated instrument encoding and position encodings) and produces an encoding\n",
    "        encoder_layer = torch.nn.TransformerEncoderLayer(embed_dim, heads, ff_size)\n",
    "        self.encoder = torch.nn.TransformerEncoder(encoder_layer, attention_layers)\n",
    "\n",
    "        # The encoding is passed through a linear layer to get the logits for the next message\n",
    "        self.logits = torch.nn.Linear(embed_dim, message_dim)\n",
    "        \n",
    "        # Indicates the position of messages in time\n",
    "        self.position_encoding = PositionalEncoding(embed_dim)\n",
    "    \n",
    "    # forward: generates a probability distribution for the next MIDI message\n",
    "    # and the channel that issues the message, given a message history for the instrument\n",
    "    # ARGUMENTS\n",
    "    # history: an LxB tensor, where L is the length of each batch's message history,\n",
    "    # and B is the batch size\n",
    "    # RETURN: an LxBxD tensor containing the logits for the next message\n",
    "    def forward(self, history):\n",
    "        L = history.shape[0] # longest length\n",
    "        B = history.shape[1] # batch size\n",
    "        \n",
    "        inputs = self.position_encoding(self.embedding(history))\n",
    "        \n",
    "        src_mask = torch.triu(torch.ones((L, L), dtype=torch.bool))\n",
    "        src_mask.fill_diagonal_(False)\n",
    "        encoding = self.encoder(inputs, mask=src_mask)\n",
    "        \n",
    "        # LxBxD\n",
    "        message_dist = self.logits(encoding)\n",
    "        \n",
    "        return message_dist"
   ]
  },
  {
   "cell_type": "code",
   "execution_count": 71,
   "metadata": {},
   "outputs": [],
   "source": [
    "# Optimization parameters:\n",
    "num_training_iterations = 4000  # Increase this to train longer\n",
    "batch_size = 16  # Experiment between 1 and 64\n",
    "seq_length = 200  # Experiment between 50 and 500\n",
    "learning_rate = 1e-3  # Experiment between 1e-5 and 1e-1\n",
    "\n",
    "# Model parameters: \n",
    "vocab_size = 388\n",
    "embedding_dim = 256\n",
    "heads = 4\n",
    "attention_layers = 6\n",
    "ff_size = 512"
   ]
  },
  {
   "cell_type": "code",
   "execution_count": 72,
   "metadata": {},
   "outputs": [],
   "source": [
    "model = BaselineTransformer(vocab_size, embedding_dim, heads, attention_layers, ff_size)"
   ]
  },
  {
   "cell_type": "code",
   "execution_count": 76,
   "metadata": {},
   "outputs": [],
   "source": [
    "optimizer = torch.optim.Adam(model.parameters(), lr=learning_rate)\n",
    "loss_fn = torch.nn.CrossEntropyLoss()\n",
    "\n",
    "def train_step(x, y): \n",
    "    #feed the current input into the model and generate predictions'''\n",
    "    y_hat = model(x)\n",
    "    #compute the loss!\n",
    "    loss = loss_fn(y_hat.view(-1, vocab_size), y.flatten())\n",
    "    optimizer.zero_grad()\n",
    "    loss.backward()\n",
    "    optimizer.step()\n",
    "    return loss.data"
   ]
  },
  {
   "cell_type": "code",
   "execution_count": 77,
   "metadata": {},
   "outputs": [
    {
     "data": {
      "image/png": "[encoded data removed]",
      "text/plain": [
       "<Figure size 432x288 with 1 Axes>"
      ]
     },
     "metadata": {},
     "output_type": "display_data"
    },
    {
     "name": "stderr",
     "output_type": "stream",
     "text": [
      "100%|██████████| 4000/4000 [1:02:07<00:00,  1.07it/s]\n"
     ]
    },
    {
     "data": {
      "image/png": "[encoded data removed]",
      "text/plain": [
       "<Figure size 432x288 with 1 Axes>"
      ]
     },
     "metadata": {
      "needs_background": "light"
     },
     "output_type": "display_data"
    }
   ],
   "source": [
    "history = []\n",
    "plotter = mdl.util.PeriodicPlotter(sec=2, xlabel='Iterations', ylabel='Loss')\n",
    "if hasattr(tqdm, '_instances'): tqdm._instances.clear() # clear if it exists\n",
    "\n",
    "for iter in tqdm(range(num_training_iterations)):\n",
    "  # Grab a batch and propagate it through the network\n",
    "  x_batch, y_batch = get_batch(piano_joined, seq_length, batch_size)\n",
    "  loss = train_step(x_batch, y_batch)\n",
    "\n",
    "  # Update the progress bar\n",
    "  history.append(loss)\n",
    "  plotter.plot(history)\n",
    "\n",
    "  # Update the model with the changed weights!\n",
    "  if iter % 100 == 0:     \n",
    "    torch.save(model.state_dict(), 'trained_models_12_3_full/iter' + str(iter) + '.pth')"
   ]
  },
  {
   "cell_type": "code",
   "execution_count": 81,
   "metadata": {},
   "outputs": [],
   "source": [
    "def generate_music(model, primer, gen_length=1000):\n",
    "    gen_music=torch.tensor(primer).view(-1, 1)\n",
    "    \n",
    "    for i in range(gen_length):\n",
    "        logits = model(gen_music[-200:])\n",
    "        message = torch.multinomial(torch.nn.functional.softmax(logits[-1, 0], dim=0), 1).view(1, 1)\n",
    "        gen_music = torch.cat((gen_music, message), dim=0)\n",
    "        \n",
    "    return gen_music"
   ]
  },
  {
   "cell_type": "code",
   "execution_count": 91,
   "metadata": {},
   "outputs": [],
   "source": [
    "primer = [16]\n",
    "instrument = 0 # Violin\n",
    "gen_music = generate_music(model, primer)"
   ]
  },
  {
   "cell_type": "code",
   "execution_count": 92,
   "metadata": {},
   "outputs": [],
   "source": [
    "to_save = np.array([0], dtype='object')\n",
    "to_save[0] = gen_music.flatten().detach().numpy()\n",
    "np.save('gen_recording.npy', to_save)\n",
    "np.save('gen_instruments.npy', np.array([program_numbers[instrument]]))"
   ]
  },
  {
   "cell_type": "code",
   "execution_count": null,
   "metadata": {},
   "outputs": [],
   "source": []
  }
 ],
 "metadata": {
  "environment": {
   "name": "pytorch-gpu.1-6.m59",
   "type": "gcloud",
   "uri": "gcr.io/deeplearning-platform-release/pytorch-gpu.1-6:m59"
  },
  "kernelspec": {
   "display_name": "Python 3",
   "language": "python",
   "name": "python3"
  },
  "language_info": {
   "codemirror_mode": {
    "name": "ipython",
    "version": 3
   },
   "file_extension": ".py",
   "mimetype": "text/x-python",
   "name": "python",
   "nbconvert_exporter": "python",
   "pygments_lexer": "ipython3",
   "version": "3.7.8"
  }
 },
 "nbformat": 4,
 "nbformat_minor": 4
}
