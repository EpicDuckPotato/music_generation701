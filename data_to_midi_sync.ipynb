{
 "cells": [
  {
   "cell_type": "code",
   "execution_count": 21,
   "metadata": {},
   "outputs": [],
   "source": [
    "import pretty_midi\n",
    "import numpy as np\n",
    "import pickle\n",
    "\n",
    "num_notes = 128 # Number of pitches in MIDI\n",
    "steps_per_sec = 24"
   ]
  },
  {
   "cell_type": "code",
   "execution_count": 52,
   "metadata": {},
   "outputs": [],
   "source": [
    "data = np.load('test_history.npy', allow_pickle=True)\n",
    "inst = np.load('test_instruments.npy', allow_pickle=True)"
   ]
  },
  {
   "cell_type": "code",
   "execution_count": 55,
   "metadata": {},
   "outputs": [],
   "source": [
    "def data_to_midi(seq, instrument_number):\n",
    "    instrument=pretty_midi.Instrument(program=instrument_number,name=pretty_midi.program_to_instrument_name(instrument_number))\n",
    "    \n",
    "    # Keys are pitches, values are (velocity, start time)\n",
    "    notes_on = dict()\n",
    "    \n",
    "    for tstep in range(seq.shape[0]):\n",
    "        # Check if any notes are being turned on or off\n",
    "        actions = np.flip(np.sort(np.argwhere(seq[tstep, :2*num_notes])))\n",
    "        for action in actions:\n",
    "            if num_notes <= action < 2*num_notes:\n",
    "                # Handle note-off events\n",
    "                pitch = int(action - num_notes)\n",
    "                if pitch in notes_on:\n",
    "                    velocity = notes_on[pitch][0]\n",
    "                    start_time = notes_on[pitch][1]\n",
    "                    end_time = tstep/steps_per_sec\n",
    "                    note=pretty_midi.Note(velocity=velocity, pitch=pitch, start=start_time, end=end_time)\n",
    "                    instrument.notes.append(note)\n",
    "                    del notes_on[pitch]\n",
    "            else:\n",
    "                # Handle note-on events\n",
    "                pitch = int(action)\n",
    "                velocity = int(round(seq[tstep, 2*num_notes + pitch]*127))\n",
    "                start_time = tstep/steps_per_sec\n",
    "                notes_on[pitch] = (velocity, start_time)\n",
    "    return instrument\n",
    "    "
   ]
  },
  {
   "cell_type": "code",
   "execution_count": 56,
   "metadata": {},
   "outputs": [
    {
     "name": "stdout",
     "output_type": "stream",
     "text": [
      "[45]\n"
     ]
    }
   ],
   "source": [
    "recording = pretty_midi.PrettyMIDI()\n",
    "for i,j in zip(data, inst):\n",
    "    recording.instruments.append(data_to_midi(i,j))"
   ]
  },
  {
   "cell_type": "code",
   "execution_count": 47,
   "metadata": {},
   "outputs": [],
   "source": [
    "recording.write(\"test_midi.mid\")"
   ]
  },
  {
   "cell_type": "code",
   "execution_count": 26,
   "metadata": {},
   "outputs": [],
   "source": [
    "file = open( \"preprocessed_data_sync_fnames.p\", \"rb\" )\n",
    "res = pickle.load(file)\n",
    "file.close()"
   ]
  },
  {
   "cell_type": "code",
   "execution_count": 27,
   "metadata": {},
   "outputs": [
    {
     "data": {
      "text/plain": [
       "'Faure/2167_gr_f45m2.mid'"
      ]
     },
     "execution_count": 27,
     "metadata": {},
     "output_type": "execute_result"
    }
   ],
   "source": [
    "res[0]"
   ]
  },
  {
   "cell_type": "code",
   "execution_count": null,
   "metadata": {},
   "outputs": [],
   "source": []
  }
 ],
 "metadata": {
  "environment": {
   "name": "pytorch-gpu.1-6.m59",
   "type": "gcloud",
   "uri": "gcr.io/deeplearning-platform-release/pytorch-gpu.1-6:m59"
  },
  "kernelspec": {
   "display_name": "Python 3",
   "language": "python",
   "name": "python3"
  },
  "language_info": {
   "codemirror_mode": {
    "name": "ipython",
    "version": 3
   },
   "file_extension": ".py",
   "mimetype": "text/x-python",
   "name": "python",
   "nbconvert_exporter": "python",
   "pygments_lexer": "ipython3",
   "version": "3.7.8"
  }
 },
 "nbformat": 4,
 "nbformat_minor": 4
}
