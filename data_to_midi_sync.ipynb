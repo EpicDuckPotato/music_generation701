{
 "cells": [
  {
   "cell_type": "code",
   "execution_count": 21,
   "metadata": {},
   "outputs": [],
   "source": [
    "import pretty_midi\n",
    "import numpy as np\n",
    "import pickle\n",
    "\n",
    "num_notes = 128 # Number of pitches in MIDI\n",
    "steps_per_sec = 24"
   ]
  },
  {
   "cell_type": "code",
   "execution_count": 57,
   "metadata": {},
   "outputs": [],
   "source": [
    "data = np.load('preprocessed_data_sync/recording0.npy', allow_pickle=True)\n",
    "inst = np.load('preprocessed_data_sync/instruments0.npy', allow_pickle=True)"
   ]
  },
  {
   "cell_type": "code",
   "execution_count": 64,
   "metadata": {},
   "outputs": [],
   "source": [
    "def data_to_midi(seq, instrument_number):\n",
    "    instrument=pretty_midi.Instrument(program=instrument_number,name=pretty_midi.program_to_instrument_name(instrument_number))\n",
    "    \n",
    "    # Keys are pitches, values are (velocity, start time)\n",
    "    notes_on = dict()\n",
    "    \n",
    "    for tstep in range(seq.shape[0]):\n",
    "        # Check if any notes are finished\n",
    "        del_keys = set()\n",
    "        for pitch in notes_on:\n",
    "            if seq[tstep, num_notes + pitch] == 0:\n",
    "                velocity = notes_on[pitch][0]\n",
    "                start_time = notes_on[pitch][1]\n",
    "                end_time = tstep/steps_per_sec\n",
    "                note=pretty_midi.Note(velocity=velocity, pitch=pitch, start=start_time, end=end_time)\n",
    "                instrument.notes.append(note)\n",
    "                del_keys.add(pitch)\n",
    "                \n",
    "        for pitch in del_keys:\n",
    "            del notes_on[pitch]\n",
    "                    \n",
    "        notes_being_played = np.argwhere(seq[tstep, :num_notes]).flatten()\n",
    "        for pitch in notes_being_played:\n",
    "            if pitch in notes_on:\n",
    "                continue\n",
    "                \n",
    "            velocity = int(round(seq[tstep, 2*num_notes + pitch]*127))\n",
    "            start_time = tstep/steps_per_sec\n",
    "            notes_on[pitch] = (velocity, start_time)\n",
    "    return instrument\n",
    "    "
   ]
  },
  {
   "cell_type": "code",
   "execution_count": 65,
   "metadata": {},
   "outputs": [],
   "source": [
    "recording = pretty_midi.PrettyMIDI()\n",
    "for i,j in zip(data, inst):\n",
    "    recording.instruments.append(data_to_midi(i,j))"
   ]
  },
  {
   "cell_type": "code",
   "execution_count": 66,
   "metadata": {},
   "outputs": [],
   "source": [
    "recording.write(\"test_midi.mid\")"
   ]
  },
  {
   "cell_type": "code",
   "execution_count": 67,
   "metadata": {},
   "outputs": [],
   "source": [
    "file = open( \"preprocessed_data_sync_fnames.p\", \"rb\" )\n",
    "res = pickle.load(file)\n",
    "file.close()"
   ]
  },
  {
   "cell_type": "code",
   "execution_count": 68,
   "metadata": {},
   "outputs": [
    {
     "data": {
      "text/plain": [
       "'Faure/2167_gr_f45m2.mid'"
      ]
     },
     "execution_count": 68,
     "metadata": {},
     "output_type": "execute_result"
    }
   ],
   "source": [
    "res[0]"
   ]
  },
  {
   "cell_type": "code",
   "execution_count": null,
   "metadata": {},
   "outputs": [],
   "source": []
  }
 ],
 "metadata": {
  "environment": {
   "name": "pytorch-gpu.1-6.m59",
   "type": "gcloud",
   "uri": "gcr.io/deeplearning-platform-release/pytorch-gpu.1-6:m59"
  },
  "kernelspec": {
   "display_name": "Python 3",
   "language": "python",
   "name": "python3"
  },
  "language_info": {
   "codemirror_mode": {
    "name": "ipython",
    "version": 3
   },
   "file_extension": ".py",
   "mimetype": "text/x-python",
   "name": "python",
   "nbconvert_exporter": "python",
   "pygments_lexer": "ipython3",
   "version": "3.7.8"
  }
 },
 "nbformat": 4,
 "nbformat_minor": 4
}
