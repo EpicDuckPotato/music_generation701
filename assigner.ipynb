{
 "cells": [
  {
   "cell_type": "code",
   "execution_count": 2,
   "metadata": {},
   "outputs": [],
   "source": [
    "import torch\n",
    "import numpy as np\n",
    "import math\n",
    "import os\n",
    "import matplotlib.pyplot as plt"
   ]
  },
  {
   "cell_type": "code",
   "execution_count": 3,
   "metadata": {},
   "outputs": [],
   "source": [
    "num_notes = 128\n",
    "num_time_shifts = 100\n",
    "num_velocities = 32\n",
    "message_dim = 2*num_notes + num_velocities + num_time_shifts\n",
    "instrument_numbers = [0, 6, 40, 41, 42, 43, 45, 60, 68, 70, 71, 73]\n",
    "num_instruments = len(instrument_numbers)"
   ]
  },
  {
   "cell_type": "markdown",
   "metadata": {},
   "source": [
    "# AssignerLSTM Definition\n",
    "\n",
    "Predicts which channel is associated with each message in the message history"
   ]
  },
  {
   "cell_type": "code",
   "execution_count": 7,
   "metadata": {},
   "outputs": [],
   "source": [
    "# Taken from https://pytorch.org/tutorials/beginner/transformer_tutorial.html.\n",
    "# Only change is the view/expand in forward (accounts for batches)\n",
    "class PositionalEncoding(torch.nn.Module):\n",
    "    def __init__(self, d_model, dropout=0.1, max_len=10000):\n",
    "        super(PositionalEncoding, self).__init__()\n",
    "        self.dropout = torch.nn.Dropout(p=dropout)\n",
    "\n",
    "        pe = torch.zeros(max_len, d_model)\n",
    "        position = torch.arange(0, max_len, dtype=torch.float).unsqueeze(1)\n",
    "        div_term = torch.exp(torch.arange(0, d_model, 2).float() * (-math.log(10000.0) / d_model))\n",
    "        pe[:, 0::2] = torch.sin(position * div_term)\n",
    "        pe[:, 1::2] = torch.cos(position * div_term)\n",
    "        self.register_buffer('pe', pe)\n",
    "\n",
    "    def forward(self, x):\n",
    "        x = x + self.pe[:x.shape[0], :].unsqueeze(1).expand(-1, x.shape[1], -1)\n",
    "        return self.dropout(x)\n",
    "\n",
    "# Takes a history of MIDI messages and assigns each one to an instrument\n",
    "class AssignerLSTM(torch.nn.Module):\n",
    "    # CONSTRUCTOR\n",
    "    # ARGUMENTS\n",
    "    # message_dim: dimension of a MIDI message\n",
    "    # embed_dim: dimension of message embedding\n",
    "    # num_instruments: number of instrument labels\n",
    "    # hidden_size: size of hidden LSTM state\n",
    "    # heads: number of attenion heads\n",
    "    # recurrent_layers: the number of layers in the lstm\n",
    "    def __init__(self, message_dim, embed_dim, num_instruments, hidden_size, heads, recurrent_layers=3):\n",
    "        super(AssignerLSTM, self).__init__()\n",
    "        \n",
    "        self.embed_dim = embed_dim\n",
    "        \n",
    "        self.i_embedding = torch.nn.Embedding(num_instruments, embed_dim)\n",
    "        \n",
    "        # Used to indicate which channel belongs to each instrument\n",
    "        self.position_encoding = PositionalEncoding(embed_dim)\n",
    "        \n",
    "        self.embedding = torch.nn.Embedding(message_dim, embed_dim)\n",
    "        \n",
    "        # A 3-layer LSTM takes the history of messages and produces a decoding\n",
    "        self.lstm = torch.nn.LSTM(embed_dim, hidden_size, num_layers=recurrent_layers)\n",
    "\n",
    "        # The decoding is passed through a linear layer to get a query for instrument attention \n",
    "        self.query = torch.nn.Linear(hidden_size, embed_dim)\n",
    "        \n",
    "        self.attention = torch.nn.MultiheadAttention(embed_dim, heads)\n",
    "    \n",
    "    # forward: generates a probability distribution for which instrument in the ensemble is associated with each\n",
    "    # message in the history\n",
    "    # ARGUMENTS\n",
    "    # history: an LxB tensor, where L is the length of the longest message history in\n",
    "    # the batch, and B is the batch size. This should be END-PADDED along dimension 0\n",
    "    # mask: an LxB tensor, containing True in any locations where history contains padding\n",
    "    # instruments: a NxB tensor indicating the instruments in each channel. This should be END-PADDED along dimension 0\n",
    "    # inst_mask: a NxB containing False where an instrument exists and True otherwise\n",
    "    # RETURN: an LxBxN tensor representing the probabilities that an instrument is associated with a message\n",
    "    def forward(self, history, mask, instruments, inst_mask):\n",
    "        L = history.shape[0] # longest length\n",
    "        B = history.shape[1] # batch size\n",
    "        assert(mask.shape == history.shape)\n",
    "        assert(instruments.shape == inst_mask.shape)\n",
    "        \n",
    "        # NxBxD\n",
    "        inst_embed = self.position_encoding(torch.tanh(self.i_embedding(instruments)))\n",
    "        \n",
    "        # LxBxD\n",
    "        inputs = self.embedding(history[:, :])\n",
    "        \n",
    "        decoding, last_hidden = self.lstm(inputs)\n",
    "               \n",
    "        queries = self.query(decoding)\n",
    "               \n",
    "        # att_weights is BxLxN\n",
    "        att, att_weights = self.attention(queries, inst_embed, inst_embed, inst_mask.transpose(0, 1))\n",
    "               \n",
    "        return att_weights.transpose(0, 1)"
   ]
  },
  {
   "cell_type": "markdown",
   "metadata": {},
   "source": [
    "# Tests for AssignerLSTM"
   ]
  },
  {
   "cell_type": "code",
   "execution_count": 14,
   "metadata": {},
   "outputs": [],
   "source": [
    "embed_dim = 256\n",
    "hidden_size = 1024\n",
    "heads = 4\n",
    "\n",
    "grad_clip = 10\n",
    "\n",
    "model = AssignerLSTM(message_dim, embed_dim, num_instruments, hidden_size, heads)\n",
    "for p in model.parameters():\n",
    "    p.register_hook(lambda grad: torch.clamp(grad, -grad_clip, grad_clip))\n",
    "    \n",
    "model.eval() # Training with eval just to see if we can overfit without dropout\n",
    "pass"
   ]
  },
  {
   "cell_type": "code",
   "execution_count": null,
   "metadata": {},
   "outputs": [],
   "source": [
    "model.load_state_dict(torch.load('overfit_assigner.pth'))"
   ]
  },
  {
   "cell_type": "code",
   "execution_count": null,
   "metadata": {
    "scrolled": true
   },
   "outputs": [],
   "source": [
    "recording = np.load('train_unified/recording0.npy', allow_pickle=True)\n",
    "instruments_np = np.load('train_unified/instruments0.npy', allow_pickle=True)\n",
    "\n",
    "nsamples = 200\n",
    "\n",
    "message_history = torch.tensor(recording[:nsamples, 0], dtype=torch.long).view(-1, 1)\n",
    "channel_history = torch.tensor(recording[:nsamples, 1], dtype=torch.long)\n",
    "mask = torch.zeros(message_history.shape, dtype=torch.bool)\n",
    "instruments = torch.tensor([instrument_numbers.index(i) for i in instruments_np], dtype=torch.long).view(-1, 1)\n",
    "inst_mask = torch.zeros(instruments.shape, dtype=torch.bool)\n",
    "\n",
    "batch_size = 1\n",
    "learning_rate = 0.001\n",
    "optimizer = torch.optim.Adam(model.parameters(), lr=learning_rate)\n",
    "loss_fn = torch.nn.NLLLoss()\n",
    "epochs = 250\n",
    "train_losses = np.zeros(epochs)\n",
    "\n",
    "target_channels = channel_history.flatten()\n",
    "\n",
    "for epoch in range(epochs):\n",
    "    print('Starting epoch %d' %(epoch))\n",
    "    \n",
    "    channel_weights = torch.log(model(message_history, mask, instruments, inst_mask))\n",
    "    \n",
    "    time_shift_mask = target_channels >= 0\n",
    "    loss = loss_fn(channel_weights.squeeze(1)[time_shift_mask], target_channels[time_shift_mask])\n",
    "                \n",
    "    optimizer.zero_grad()\n",
    "    loss.backward()\n",
    "    optimizer.step()\n",
    "    train_losses[epoch] = loss.data\n",
    "    print('Loss: %f' %(loss.data))"
   ]
  },
  {
   "cell_type": "code",
   "execution_count": 22,
   "metadata": {},
   "outputs": [],
   "source": [
    "torch.save(model.state_dict(), 'overfit_assigner.pth')"
   ]
  },
  {
   "cell_type": "code",
   "execution_count": 21,
   "metadata": {},
   "outputs": [
    {
     "name": "stdout",
     "output_type": "stream",
     "text": [
      "tensor(0)\n"
     ]
    }
   ],
   "source": [
    "model.eval() # Turns off the dropout for evaluation. Need to do this to get repeatable evaluation outputs\n",
    "\n",
    "channels = torch.multinomial(model(message_history, mask, instruments, inst_mask).squeeze(1), 1)\n",
    "\n",
    "print(torch.sum(channels.flatten()[time_shift_mask] != target_channels[time_shift_mask]))"
   ]
  },
  {
   "cell_type": "code",
   "execution_count": null,
   "metadata": {},
   "outputs": [],
   "source": []
  },
  {
   "cell_type": "code",
   "execution_count": null,
   "metadata": {},
   "outputs": [],
   "source": [
    "print(channels[time_shift_mask].flatten())\n",
    "print(target_channels[time_shift_mask].flatten())"
   ]
  },
  {
   "cell_type": "markdown",
   "metadata": {},
   "source": [
    "# Custom dataset class"
   ]
  },
  {
   "cell_type": "code",
   "execution_count": 94,
   "metadata": {},
   "outputs": [],
   "source": [
    "# Custom Dataset class\n",
    "class MIDIDataset(torch.utils.data.Dataset):\n",
    "    # CONSTRUCTOR: creates a list of recording files and a list\n",
    "    # of instrument files in root_dir. Assumes that the directory\n",
    "    # contains recording0.npy to recordingM.npy,\n",
    "    # as well as instruments0.npy to instrumentsM.npy\n",
    "    # ARGUMENTS\n",
    "    # root_dir: the directory to search\n",
    "    def __init__(self, root_dir, transform=None):\n",
    "        files = os.listdir(root_dir)\n",
    "        self.recording_files = []\n",
    "        self.instrument_files = []\n",
    "        for file in files:\n",
    "            if 'recording' in file:\n",
    "                self.recording_files.append(os.path.join(root_dir, file))\n",
    "            elif 'instruments' in file:\n",
    "                self.instrument_files.append(os.path.join(root_dir, file))\n",
    "                \n",
    "        assert(len(self.recording_files) == len(self.instrument_files))\n",
    "        self.recording_files.sort()\n",
    "        self.instrument_files.sort()\n",
    "        \n",
    "        self.recordings = []\n",
    "        self.instruments = []\n",
    "        for f in range(len(self.recording_files)):\n",
    "            self.recordings.append(np.load(self.recording_files[f], allow_pickle=True))\n",
    "            self.instruments.append(np.load(self.instrument_files[f], allow_pickle=True))\n",
    "            \n",
    "        self.transform = transform\n",
    "\n",
    "    # __len__\n",
    "    # RETURN: the number of recording files in the dataset\n",
    "    def __len__(self):\n",
    "        return len(self.recordings)\n",
    "\n",
    "    # __getitem__\n",
    "    # ARGUMENTS\n",
    "    # idx: indicates which file to get\n",
    "    # RETURN: an instance with keys 'instruments', 'history'\n",
    "    # instance['history'] is an Lx2 numpy array containing messages and associated channels\n",
    "    # instance['instruments'] a numpy array of instrument numbers\n",
    "    def __getitem__(self, idx):\n",
    "        instance = {'history': self.recordings[idx], \\\n",
    "                    'instruments': self.instruments[idx]}\n",
    "        \n",
    "        if self.transform:\n",
    "            instance = self.transform(instance)\n",
    "            \n",
    "        return instance"
   ]
  },
  {
   "cell_type": "code",
   "execution_count": 95,
   "metadata": {},
   "outputs": [],
   "source": [
    "# collate_fn: takes a list of samples from the dataset and turns them into a batch.\n",
    "# ARGUMENTS\n",
    "# batch: a list of dictionaries\n",
    "# RETURN: a sample with keys 'history', 'instruments', and 'mask'\n",
    "# sample['history']: an LxBx2 tensor containing messages and their associated channels\n",
    "# sample['instruments']: a CxB tensor containing instrument numbers for each channel\n",
    "# sample['mask']: an LxB tensor containing False where a message is\n",
    "# valid, and True where it isn't (accounts for variable length sequences\n",
    "# and zero padding)\n",
    "# sample['nchan']: a length B tensor containing the number of channels for each batch\n",
    "# element (including the dummy time-shift channel)\n",
    "def collate_fn(batch):\n",
    "    batch_size = len(batch)\n",
    "    \n",
    "    # We size our tensors to accomodate the longest sequence and the largest number of instruments\n",
    "    max_inst = max([instance['instruments'].shape[0] for instance in batch])\n",
    "    longest_len = max([instance['history'].shape[0] for instance in batch])\n",
    "\n",
    "    sample = {'history': torch.zeros((longest_len, batch_size, 2), dtype=torch.long), \\\n",
    "              'instruments': torch.zeros((max_channels, batch_size), dtype=torch.long), \\\n",
    "              'mask': torch.ones((longest_len, batch_size), dtype=torch.bool), \\\n",
    "              'inst_mask': torch.ones((max_inst, batch_size), dtype=torch.bool)}\n",
    "\n",
    "    for b, instance in enumerate(batch):\n",
    "        instrument_idx = [instrument_numbers.index(i) for i in instance['instruments']]\n",
    "        \n",
    "        sample['instruments'][:len(instrument_idx), b] = torch.tensor(instrument_idx, dtype=torch.long)\n",
    "        \n",
    "        sample['inst_mask'][:len(instrument_idx), b] = False\n",
    "        \n",
    "        seq_length = instance['history'].shape[0]\n",
    "        sample['history'][:seq_length, b] = torch.tensor(instance['history'], dtype=torch.long)\n",
    "        sample['mask'][:seq_length, b] = False\n",
    "            \n",
    "    return sample"
   ]
  },
  {
   "cell_type": "markdown",
   "metadata": {},
   "source": [
    "# Train the model"
   ]
  },
  {
   "cell_type": "code",
   "execution_count": 96,
   "metadata": {},
   "outputs": [],
   "source": [
    "# compute_loss: computes the loss for the model over the batch\n",
    "# ARGUMENTS\n",
    "# model: AssignerLSTM model\n",
    "# loss_fn: torch.nn.NLLLoss object\n",
    "# batch: see collate_fn definition\n",
    "# RETURN: a scalar loss tensor\n",
    "def compute_loss(model, loss_fn, batch):\n",
    "    batch_size = batch['history'].shape[1]\n",
    "\n",
    "    channel_probs = torch.log(model(batch['history'][:, :, 0], batch['mask'], batch['instruments'], batch['inst_mask']))\n",
    "\n",
    "    target_mask = torch.logical_not(batch['mask'])\n",
    "\n",
    "    target_channels = batch['history'][:, :, 1][target_mask]\n",
    "\n",
    "    return loss_fn(channel_probs[target_mask], target_channels)"
   ]
  },
  {
   "cell_type": "code",
   "execution_count": 117,
   "metadata": {},
   "outputs": [],
   "source": [
    "embed_dim = 256\n",
    "hidden_size = 1024\n",
    "heads = 4\n",
    "\n",
    "grad_clip = 10\n",
    "\n",
    "model = AssignerLSTM(message_dim, embed_dim, num_instruments, hidden_size, heads)\n",
    "for p in model.parameters():\n",
    "    p.register_hook(lambda grad: torch.clamp(grad, -grad_clip, grad_clip))\n",
    "    \n",
    "model.eval() # Training with eval just to see if we can overfit without dropout\n",
    "pass"
   ]
  },
  {
   "cell_type": "code",
   "execution_count": 118,
   "metadata": {},
   "outputs": [],
   "source": [
    "optimizer = torch.optim.Adam(model.parameters())"
   ]
  },
  {
   "cell_type": "code",
   "execution_count": null,
   "metadata": {
    "scrolled": true
   },
   "outputs": [],
   "source": [
    "batch_size = 10\n",
    "learning_rate = 0.001\n",
    "chunk_size = 500\n",
    "\n",
    "train_dataset = MIDIDataset('train_unified')\n",
    "train_dataloader = torch.utils.data.DataLoader(train_dataset, batch_size=batch_size, shuffle=True, collate_fn=collate_fn)\n",
    "\n",
    "test_dataset = MIDIDataset('test_unified')\n",
    "test_dataloader = torch.utils.data.DataLoader(test_dataset, batch_size=batch_size, shuffle=True, collate_fn=collate_fn)\n",
    "\n",
    "loss_fn = torch.nn.NLLLoss()\n",
    "epochs = 20\n",
    "train_losses = np.zeros(epochs)\n",
    "test_losses = np.zeros(epochs)\n",
    "\n",
    "for epoch in range(epochs):\n",
    "    print('Starting epoch %d' %(epoch))\n",
    "    model.train()\n",
    "    for b, batch in enumerate(train_dataloader):\n",
    "        print('Starting iteration %d' %(b))\n",
    "        for chunk_start in range(0, batch['history'].shape[0], chunk_size):\n",
    "            chunk_end = min(batch['history'].shape[0], chunk_start + chunk_size)\n",
    "            \n",
    "            chunk = {'history': batch['history'][chunk_start:chunk_end],\n",
    "                     'instruments': batch['instruments'],\n",
    "                     'mask': batch['mask'][chunk_start:chunk_end],\n",
    "                     'inst_mask': batch['inst_mask']}\n",
    "\n",
    "            loss = compute_loss(model, loss_fn, chunk)\n",
    "            optimizer.zero_grad()\n",
    "            loss.backward()\n",
    "            optimizer.step()\n",
    "        \n",
    "    torch.save(model.state_dict(), 'assigner_models/epoch' + str(epoch) + '.pth')\n",
    "\n",
    "    print('Computing test loss')\n",
    "    model.eval()\n",
    "    for batch in test_dataloader:\n",
    "        for chunk_start in range(0, batch['history'].shape[0], chunk_size):\n",
    "            chunk_end = min(batch['history'].shape[0], chunk_start + chunk_size)\n",
    "            \n",
    "            chunk = {'history': batch['history'][chunk_start:chunk_end],\n",
    "                     'instruments': batch['instruments'],\n",
    "                     'mask': batch['mask'][chunk_start:chunk_end],\n",
    "                     'inst_mask': batch['inst_mask']}\n",
    "\n",
    "            loss = compute_loss(model, loss_fn, chunk)\n",
    "            test_losses[epoch] += loss.data\n",
    "        \n",
    "    print('Computing train loss')\n",
    "    for batch in train_dataloader:\n",
    "        for chunk_start in range(0, batch['history'].shape[0], chunk_size):\n",
    "            chunk_end = min(batch['history'].shape[0], chunk_start + chunk_size)\n",
    "            \n",
    "            chunk = {'history': batch['history'][chunk_start:chunk_end],\n",
    "                     'instruments': batch['instruments'],\n",
    "                     'mask': batch['mask'][chunk_start:chunk_end],\n",
    "                     'inst_mask': batch['inst_mask']}\n",
    "\n",
    "            loss = compute_loss(model, loss_fn, chunk)\n",
    "            train_losses[epoch] += loss.data\n",
    "    \n",
    "    train_losses[epoch] /= len(train_dataloader)\n",
    "    test_losses[epoch] /= len(test_dataloader)\n",
    "    print('Train Loss: %f, Test Loss: %f' %(train_losses[epoch], test_losses[epoch]))"
   ]
  },
  {
   "cell_type": "code",
   "execution_count": null,
   "metadata": {},
   "outputs": [],
   "source": [
    "plt.plot(train_losses)"
   ]
  },
  {
   "cell_type": "markdown",
   "metadata": {},
   "source": [
    "# Sample from the model"
   ]
  },
  {
   "cell_type": "code",
   "execution_count": 115,
   "metadata": {},
   "outputs": [],
   "source": [
    "model.eval() # Disable dropout to make results repeatable\n",
    "\n",
    "recording = np.load('train_unified/recording0.npy', allow_pickle=True)\n",
    "instruments_np = np.load('train_unified/instruments0.npy', allow_pickle=True)\n",
    "\n",
    "nsamples = 200\n",
    "\n",
    "message_history = torch.tensor(recording[:nsamples, 0], dtype=torch.long).view(-1, 1)\n",
    "channel_history = torch.tensor(recording[:nsamples, 1], dtype=torch.long)\n",
    "mask = torch.zeros(message_history.shape, dtype=torch.bool)\n",
    "instruments = torch.tensor([instrument_numbers.index(i) for i in instruments_np], dtype=torch.long).view(-1, 1)\n",
    "inst_mask = torch.zeros(instruments.shape, dtype=torch.bool)\n",
    "target_channels = channel_history.flatten()\n",
    "time_shift_mask = target_channels >= 0\n",
    "\n",
    "channels = torch.multinomial(model(message_history, mask, instruments).squeeze(1), 1)\n",
    "print(torch.sum(channels.flatten()[time_shift_mask] != target_channels[time_shift_mask]))"
   ]
  },
  {
   "cell_type": "code",
   "execution_count": 116,
   "metadata": {},
   "outputs": [],
   "source": [
    "# Associate all messages with channel 0 for now\n",
    "history = torch.cat((message_history, channels), dim=1)\n",
    "np.save('test_history.npy', gen_history.detach().numpy())\n",
    "np.save('test_instruments.npy', instruments_np)"
   ]
  },
  {
   "cell_type": "code",
   "execution_count": null,
   "metadata": {},
   "outputs": [],
   "source": []
  }
 ],
 "metadata": {
  "environment": {
   "name": "pytorch-gpu.1-6.m59",
   "type": "gcloud",
   "uri": "gcr.io/deeplearning-platform-release/pytorch-gpu.1-6:m59"
  },
  "kernelspec": {
   "display_name": "Python 3",
   "language": "python",
   "name": "python3"
  },
  "language_info": {
   "codemirror_mode": {
    "name": "ipython",
    "version": 3
   },
   "file_extension": ".py",
   "mimetype": "text/x-python",
   "name": "python",
   "nbconvert_exporter": "python",
   "pygments_lexer": "ipython3",
   "version": "3.7.8"
  }
 },
 "nbformat": 4,
 "nbformat_minor": 4
}
