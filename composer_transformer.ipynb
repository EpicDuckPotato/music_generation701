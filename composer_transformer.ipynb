{
 "cells": [
  {
   "cell_type": "code",
   "execution_count": 1,
   "metadata": {},
   "outputs": [],
   "source": [
    "import torch\n",
    "import numpy as np\n",
    "import os\n",
    "import time\n",
    "import functools\n",
    "from IPython import display as ipythondisplay\n",
    "from tqdm import tqdm\n",
    "!apt-get install abcmidi timidity > /dev/null 2>&1"
   ]
  },
  {
   "cell_type": "code",
   "execution_count": 2,
   "metadata": {},
   "outputs": [],
   "source": [
    "# If CPU\n",
    "dev = torch.device('cpu')"
   ]
  },
  {
   "cell_type": "code",
   "execution_count": 2,
   "metadata": {},
   "outputs": [],
   "source": [
    "# If GPU\n",
    "dev = torch.device('cuda')"
   ]
  },
  {
   "cell_type": "code",
   "execution_count": 3,
   "metadata": {},
   "outputs": [],
   "source": [
    "instrument_numbers = [0, 6, 40, 41, 42, 43, 45, 60, 68, 70, 71, 73]\n",
    "num_instruments = len(instrument_numbers)"
   ]
  },
  {
   "cell_type": "code",
   "execution_count": 4,
   "metadata": {},
   "outputs": [],
   "source": [
    "# Custom Dataset class\n",
    "class MIDIDataset(torch.utils.data.Dataset):\n",
    "    # CONSTRUCTOR: creates an array of message chunks. Assumes that the directory\n",
    "    # contains recording0.npy to recordingM.npy\n",
    "    # ARGUMENTS\n",
    "    # root_dir: the directory to search\n",
    "    # chunk_size: we'll chunk the data into chunks of this size (or less)\n",
    "    def __init__(self, root_dir, chunk_size, transform=None):\n",
    "        recording_files = []\n",
    "        instrument_files = []\n",
    "        for file in os.listdir(root_dir):\n",
    "            if 'recording' in file:\n",
    "                recording_files.append(os.path.join(root_dir, file))\n",
    "            elif 'instruments' in file:\n",
    "                instrument_files.append(os.path.join(root_dir, file))\n",
    "                \n",
    "        assert(len(recording_files) == len(instrument_files))\n",
    "        recording_files.sort()\n",
    "        instrument_files.sort()\n",
    "        \n",
    "        self.chunks = []\n",
    "        self.masks = []\n",
    "        self.instruments = []\n",
    "        \n",
    "        ch = 0\n",
    "        for f in range(len(recording_files)):\n",
    "            data = np.load(recording_files[f])\n",
    "            inst = [instrument_numbers.index(i) for i in np.load(instrument_files[f])]\n",
    "            nchunks = int(np.ceil(data.shape[0]/chunk_size))\n",
    "            self.chunks += [torch.zeros(chunk_size, dtype=torch.long, device=dev) for c in range(nchunks)]\n",
    "            self.masks += [torch.ones(chunk_size, dtype=torch.bool, device=dev) for c in range(nchunks)]\n",
    "            self.instruments += [torch.tensor(inst, device=dev) for c in range(nchunks)]\n",
    "            for chunk_start in range(0, data.shape[0], chunk_size):\n",
    "                chunk_end = min(chunk_start + chunk_size, data.shape[0])\n",
    "                size = chunk_end - chunk_start\n",
    "                self.chunks[ch][:size] = torch.tensor(data[chunk_start:chunk_end, 0], device=dev)\n",
    "                self.masks[ch][:size] = False\n",
    "                ch += 1\n",
    "            \n",
    "            if f%100 == 0:\n",
    "                print(f)\n",
    "            \n",
    "        self.transform = transform\n",
    "\n",
    "    # __len__\n",
    "    # RETURN: the number of chunks in the dataset\n",
    "    def __len__(self):\n",
    "        return len(self.chunks)\n",
    "\n",
    "    # __getitem__\n",
    "    # ARGUMENTS\n",
    "    # idx: indicates which chunk to get\n",
    "    # RETURN: instance, a dictionary with keys 'messages' and 'mask'.\n",
    "    # Both values associated with these keys are length L tensors\n",
    "    def __getitem__(self, idx):  \n",
    "        instance = {'messages': self.chunks[idx], \\\n",
    "                    'mask': self.masks[idx], \\\n",
    "                    'instruments': self.instruments[idx]}\n",
    "\n",
    "        if self.transform:\n",
    "            instance = self.transform(instance)\n",
    "            \n",
    "        return instance\n",
    "    \n",
    "def collate_fn(batch):\n",
    "    B = len(batch)\n",
    "    chunk_size = batch[0]['messages'].shape[0]\n",
    "    ninst = [instance['instruments'].shape[0] for instance in batch]\n",
    "    max_inst = max(ninst)\n",
    "    sample = {'messages': torch.zeros((chunk_size, B), dtype=torch.long, device=dev), \\\n",
    "              'mask': torch.ones((chunk_size, B), dtype=torch.bool, device=dev),\n",
    "              'instruments': torch.zeros((max_inst, B), dtype=torch.long, device=dev),\n",
    "              'inst_mask': torch.zeros((max_inst, B), dtype=torch.bool, device=dev)}\n",
    "    \n",
    "    for b, instance in enumerate(batch):\n",
    "        sample['messages'][:, b] = instance['messages']\n",
    "        sample['mask'][:, b] = instance['mask']\n",
    "        sample['instruments'][:ninst[b], b] = instance['instruments']\n",
    "        sample['inst_mask'][:ninst[b], b] = True\n",
    "    return sample"
   ]
  },
  {
   "cell_type": "code",
   "execution_count": null,
   "metadata": {
    "scrolled": true
   },
   "outputs": [],
   "source": [
    "train_data = MIDIDataset('train_unified', 1000)\n",
    "len(train_data)"
   ]
  },
  {
   "cell_type": "code",
   "execution_count": null,
   "metadata": {},
   "outputs": [],
   "source": [
    "test_data = MIDIDataset('test_unified', 1000)\n",
    "len(test_data)"
   ]
  },
  {
   "cell_type": "code",
   "execution_count": 17,
   "metadata": {},
   "outputs": [],
   "source": [
    "# Taken from https://pytorch.org/tutorials/beginner/transformer_tutorial.html.\n",
    "# Only change is the view/expand in forward (accounts for batches)\n",
    "class PositionalEncoding(torch.nn.Module):\n",
    "    def __init__(self, d_model, dropout=0.1, max_len=10000):\n",
    "        super(PositionalEncoding, self).__init__()\n",
    "        self.dropout = torch.nn.Dropout(p=dropout)\n",
    "\n",
    "        pe = torch.zeros(max_len, d_model, device=dev)\n",
    "        position = torch.arange(0, max_len, dtype=torch.float, device=dev).unsqueeze(1)\n",
    "        div_term = torch.exp(torch.arange(0, d_model, 2, device=dev).float() * (-np.log(10000.0) / d_model))\n",
    "        pe[:, 0::2] = torch.sin(position * div_term)\n",
    "        pe[:, 1::2] = torch.cos(position * div_term)\n",
    "        self.register_buffer('pe', pe)\n",
    "\n",
    "    def forward(self, x):\n",
    "        x = x + self.pe[:x.shape[0], :].unsqueeze(1).expand(-1, x.shape[1], -1)\n",
    "        return self.dropout(x)\n",
    "\n",
    "# UnifiedTransformer: generates a sequence of MIDI messages\n",
    "class UnifiedTransformer(torch.nn.Module):\n",
    "    # CONSTRUCTOR\n",
    "    # ARGUMENTS\n",
    "    # message_dim: dimension of a MIDI message\n",
    "    # embed_dim: dimension of message embedding\n",
    "    # heads: number of heads\n",
    "    # attention layers: number of attention layers\n",
    "    def __init__(self, message_dim, embed_dim, heads, attention_layers, ff_size, num_instruments):\n",
    "        super(UnifiedTransformer, self).__init__()\n",
    "        self.embed_dim = embed_dim\n",
    "        self.inst_embedding = torch.nn.Embedding(num_instruments, embed_dim)\n",
    "        self.embedding = torch.nn.Embedding(message_dim, embed_dim)\n",
    "        self.position_encoding = PositionalEncoding(embed_dim)\n",
    "        encoder_layer = torch.nn.TransformerEncoderLayer(embed_dim, heads, ff_size)\n",
    "        self.encoder = torch.nn.TransformerEncoder(encoder_layer, attention_layers)\n",
    "        self.logits = torch.nn.Linear(embed_dim, message_dim)\n",
    "    \n",
    "    # forward: generates a probability distribution for the next MIDI message at each time step in a sequence\n",
    "    # ARGUMENTS\n",
    "    # seq: an LxB tensor, where L is the length of the longest message sequence in\n",
    "    # the batch, and B is the batch size. This should be END-PADDED along dimension 0\n",
    "    # hidden: previous hidden state (default None)\n",
    "    # RETURN: an LxBxD tensor representing the logits for the next message in each batch,\n",
    "    # as well as the last hidden state for the GRU\n",
    "    def forward(self, seq, instruments, mask, inst_mask, hidden=None):\n",
    "        L = seq.shape[0]\n",
    "        B = seq.shape[1]\n",
    "        inst_embed = torch.tanh(self.inst_embedding(instruments))*inst_mask.unsqueeze(2).expand(-1, -1, self.embed_dim)\n",
    "        inst_tags = torch.sum(inst_embed, dim=0).view(1, B, -1).expand(L, -1, -1)\n",
    "        transformer_inputs = self.position_encoding(self.embedding(seq)) + inst_tags\n",
    "        src_mask = torch.triu(torch.ones((seq.shape[0], seq.shape[0]), dtype=torch.bool, device=dev))\n",
    "        src_mask.fill_diagonal_(False)\n",
    "        return self.logits(self.encoder(transformer_inputs, mask=src_mask, src_key_padding_mask=mask.transpose(0, 1)))"
   ]
  },
  {
   "cell_type": "code",
   "execution_count": 18,
   "metadata": {},
   "outputs": [],
   "source": [
    "def compute_loss(model, loss_fn, batch):\n",
    "    logits = model(batch['messages'][:-1], batch['instruments'], batch['mask'][:-1], batch['inst_mask'])\n",
    "    mask = torch.logical_not(batch['mask'][1:].flatten())\n",
    "    targets = batch['messages'][1:].flatten()\n",
    "    return loss_fn(logits.view(-1, message_dim)[mask], targets[mask])"
   ]
  },
  {
   "cell_type": "code",
   "execution_count": 19,
   "metadata": {},
   "outputs": [],
   "source": [
    "# Optimization parameters:\n",
    "epochs = 10\n",
    "batch_size = 16\n",
    "learning_rate = 1e-3\n",
    "\n",
    "# Model parameters:\n",
    "num_notes = 128\n",
    "num_time_shifts = 100\n",
    "message_dim = 2*num_notes + num_time_shifts\n",
    "embed_dim = 256 \n",
    "heads = 4\n",
    "attention_layers = 6\n",
    "ff_size = 512\n",
    "\n",
    "# Checkpoint location: \n",
    "checkpoint_dir = 'unified_transformer_checkpoints'\n",
    "\n",
    "train_dataloader = torch.utils.data.DataLoader(train_data, batch_size=batch_size, shuffle=True, collate_fn=collate_fn)\n",
    "test_dataloader = torch.utils.data.DataLoader(test_data, batch_size=batch_size, shuffle=True, collate_fn=collate_fn)\n",
    "model = UnifiedTransformer(message_dim, embed_dim, heads, attention_layers, ff_size, num_instruments).to(dev)\n",
    "optimizer = torch.optim.Adam(model.parameters())\n",
    "loss_fn = torch.nn.CrossEntropyLoss()"
   ]
  },
  {
   "cell_type": "code",
   "execution_count": null,
   "metadata": {
    "scrolled": true
   },
   "outputs": [],
   "source": [
    "train_losses = [0 for epoch in range(epochs)]\n",
    "test_losses = [0 for epoch in range(epochs)]\n",
    "for epoch in range(epochs):\n",
    "    print('Starting epoch %d' %(epoch))\n",
    "    model.train()\n",
    "    for b, batch in enumerate(train_dataloader):\n",
    "        if b%10 == 0:\n",
    "            print('Starting iteration %d' %(b))\n",
    "        loss = compute_loss(model, loss_fn, batch)\n",
    "        optimizer.zero_grad()\n",
    "        loss.backward()\n",
    "        optimizer.step()\n",
    "        \n",
    "    torch.save(model.state_dict(), checkpoint_dir + '/epoch' + str(epoch) + '.pth')\n",
    "        \n",
    "    model.eval()\n",
    "    print('Computing test loss')\n",
    "    for b, batch in enumerate(test_dataloader):\n",
    "        test_losses[epoch] += compute_loss(model, loss_fn, batch).data\n",
    "        \n",
    "    test_losses[epoch] /= len(test_dataloader)\n",
    "        \n",
    "    print('Computing train loss')\n",
    "    for b, batch in enumerate(train_dataloader):\n",
    "        train_losses[epoch] += compute_loss(model, loss_fn, batch).data\n",
    "        \n",
    "    train_losses[epoch] /= len(train_dataloader)\n",
    "        \n",
    "    print('Train loss: %f, Test loss: %f' %(train_losses[epoch], test_losses[epoch]))"
   ]
  },
  {
   "cell_type": "code",
   "execution_count": null,
   "metadata": {},
   "outputs": [],
   "source": [
    "np.save(checkpoint_dir + '/train_losses.npy', np.array(train_losses))\n",
    "np.save(checkpoint_dir + '/test_losses.npy', np.array(test_losses))"
   ]
  },
  {
   "cell_type": "code",
   "execution_count": null,
   "metadata": {},
   "outputs": [],
   "source": [
    "model = UnifiedTransformer(message_dim, embed_dim, heads, attention_layers, ff_size, num_instruments).to(dev)\n",
    "model.load_state_dict(torch.load(checkpoint_dir + '/epoch9.pth', map_location=dev))\n",
    "model.eval()"
   ]
  },
  {
   "cell_type": "code",
   "execution_count": 11,
   "metadata": {},
   "outputs": [],
   "source": [
    "# Sample from model\n",
    "def generate_music(model, primer, instruments, gen_length=1000):\n",
    "    hidden = None\n",
    "    gen = torch.tensor(primer, device=dev).unsqueeze(1)\n",
    "    inst_mask = torch.ones(instruments.shape, dtype=torch.bool, device=dev)\n",
    "    mask = torch.zeros(gen.shape, dtype=torch.bool, device=dev)\n",
    "    for i in range(gen_length):\n",
    "        logits = model(message, instruments, mask, inst_mask)\n",
    "        message = torch.multinomial(torch.nn.functional.softmax(logits[-1].flatten(), dim=0), 1).view(1, 1)\n",
    "        gen = torch.cat((gen, message))\n",
    "        mask = torch.cat((mask, torch.zeros((1, 1), dtype=torch.bool, device=dev)))\n",
    "        \n",
    "    return gen"
   ]
  },
  {
   "cell_type": "code",
   "execution_count": 58,
   "metadata": {},
   "outputs": [],
   "source": [
    "instruments = [2, 2, 3, 4]\n",
    "instruments = torch.tensor(instruments, device=dev).view(len(instruments), 1)\n",
    "generated_music = generate_music(model, [16], instruments, gen_length=1000)"
   ]
  },
  {
   "cell_type": "code",
   "execution_count": 59,
   "metadata": {},
   "outputs": [],
   "source": [
    "np.save('unified_transformer_midi.npy', generated_music.cpu().flatten().detach().numpy())"
   ]
  },
  {
   "cell_type": "code",
   "execution_count": 18,
   "metadata": {},
   "outputs": [],
   "source": [
    "import random\n",
    "import os\n",
    "possible_primers = list(range(50, 70))\n",
    "base_path = 'composer_transformer_midis/'\n",
    "folders = [str(i) + 'chan' for i in range(1, 21)]\n",
    "for nchan in range(1, 21):\n",
    "    for i in range(10):\n",
    "        instruments = random.choices(list(range(num_instruments)), k=nchan)\n",
    "        primer = random.sample(possible_primers, 1)\n",
    "        generated_music = generate_music(model, primer, torch.tensor(instruments, dtype=torch.long).unsqueeze(1), gen_length=1000)\n",
    "        np.save(base_path + folders[nchan - 1] + '/sample' + str(i) + '.npy', generated_music.cpu().flatten().detach().numpy())\n",
    "    "
   ]
  },
  {
   "cell_type": "code",
   "execution_count": null,
   "metadata": {},
   "outputs": [],
   "source": []
  }
 ],
 "metadata": {
  "environment": {
   "name": "pytorch-gpu.1-6.m59",
   "type": "gcloud",
   "uri": "gcr.io/deeplearning-platform-release/pytorch-gpu.1-6:m59"
  },
  "kernelspec": {
   "display_name": "Python 3",
   "language": "python",
   "name": "python3"
  },
  "language_info": {
   "codemirror_mode": {
    "name": "ipython",
    "version": 3
   },
   "file_extension": ".py",
   "mimetype": "text/x-python",
   "name": "python",
   "nbconvert_exporter": "python",
   "pygments_lexer": "ipython3",
   "version": "3.7.5"
  }
 },
 "nbformat": 4,
 "nbformat_minor": 4
}
