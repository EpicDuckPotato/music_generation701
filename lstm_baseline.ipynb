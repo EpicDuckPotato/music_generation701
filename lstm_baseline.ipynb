{
 "cells": [
  {
   "cell_type": "code",
   "execution_count": 1,
   "metadata": {},
   "outputs": [],
   "source": [
    "import torch\n",
    "import numpy as np\n",
    "import os\n",
    "import time\n",
    "import functools\n",
    "from IPython import display as ipythondisplay\n",
    "from tqdm import tqdm\n",
    "!apt-get install abcmidi timidity > /dev/null 2>&1"
   ]
  },
  {
   "cell_type": "code",
   "execution_count": 2,
   "metadata": {},
   "outputs": [],
   "source": [
    "dev = torch.device('cpu')"
   ]
  },
  {
   "cell_type": "code",
   "execution_count": 2,
   "metadata": {},
   "outputs": [],
   "source": [
    "dev = torch.device('cuda')"
   ]
  },
  {
   "cell_type": "code",
   "execution_count": 3,
   "metadata": {},
   "outputs": [],
   "source": [
    "# Custom Dataset class\n",
    "class MIDIDataset(torch.utils.data.Dataset):\n",
    "    # CONSTRUCTOR: creates an array of message chunks. Assumes that the directory\n",
    "    # contains recording0.npy to recordingM.npy\n",
    "    # ARGUMENTS\n",
    "    # root_dir: the directory to search\n",
    "    # chunk_size: we'll chunk the data into chunks of this size (or less)\n",
    "    def __init__(self, root_dir, chunk_size, transform=None):\n",
    "        self.chunks = []\n",
    "        self.masks = []\n",
    "        \n",
    "        ch = 0\n",
    "        for f, file in enumerate(os.listdir(root_dir)):\n",
    "            data = np.load(root_dir + '/' + file)\n",
    "            nchunks = int(np.ceil(data.shape[0]/chunk_size))\n",
    "            self.chunks += [torch.zeros(chunk_size, dtype=torch.long, device=dev) for c in range(nchunks)]\n",
    "            self.masks += [torch.ones(chunk_size, dtype=torch.bool, device=dev) for c in range(nchunks)]\n",
    "            for chunk_start in range(0, data.shape[0], chunk_size):\n",
    "                chunk_end = min(chunk_start + chunk_size, data.shape[0])\n",
    "                size = chunk_end - chunk_start\n",
    "                self.chunks[ch][:size] = torch.tensor(data[chunk_start:chunk_end])\n",
    "                self.masks[ch][:size] = False\n",
    "                ch += 1\n",
    "            \n",
    "            if f%100 == 0:\n",
    "                print(f)\n",
    "            \n",
    "        self.transform = transform\n",
    "\n",
    "    # __len__\n",
    "    # RETURN: the number of chunks in the dataset\n",
    "    def __len__(self):\n",
    "        return len(self.chunks)\n",
    "\n",
    "    # __getitem__\n",
    "    # ARGUMENTS\n",
    "    # idx: indicates which chunk to get\n",
    "    # RETURN: instance, a dictionary with keys 'messages' and 'mask'.\n",
    "    # Both values associated with these keys are length L tensors\n",
    "    def __getitem__(self, idx):  \n",
    "        instance = {'messages': self.chunks[idx], \\\n",
    "                    'mask': self.masks[idx]}\n",
    "\n",
    "        if self.transform:\n",
    "            instance = self.transform(instance)\n",
    "            \n",
    "        return instance\n",
    "    \n",
    "def collate_fn(batch):\n",
    "    chunk_size = batch[0]['messages'].shape[0]\n",
    "    sample = {'messages': torch.zeros((chunk_size, len(batch)), dtype=torch.long, device=dev), \\\n",
    "              'mask': torch.ones((chunk_size, len(batch)), dtype=torch.bool, device=dev)}\n",
    "    \n",
    "    for b, instance in enumerate(batch):\n",
    "        sample['messages'][:, b] = instance['messages']\n",
    "        sample['mask'][:, b] = instance['mask']\n",
    "    return sample"
   ]
  },
  {
   "cell_type": "code",
   "execution_count": null,
   "metadata": {
    "scrolled": true
   },
   "outputs": [],
   "source": [
    "train_data = MIDIDataset('train_sc', 200)\n",
    "len(train_data)"
   ]
  },
  {
   "cell_type": "code",
   "execution_count": null,
   "metadata": {},
   "outputs": [],
   "source": [
    "test_data = MIDIDataset('test_sc', 200)\n",
    "len(test_data)"
   ]
  },
  {
   "cell_type": "code",
   "execution_count": 6,
   "metadata": {},
   "outputs": [],
   "source": [
    "# BaselineLSTM: generates a sequence of MIDI messages\n",
    "class BaselineLSTM(torch.nn.Module):\n",
    "    # CONSTRUCTOR\n",
    "    # ARGUMENTS\n",
    "    # message_dim: dimension of a MIDI message\n",
    "    # embed_dim: dimension of message embedding\n",
    "    # hidden_size: size of hidden LSTM state\n",
    "    # recurrent_layers: the number of layers in the lstm\n",
    "    def __init__(self, message_dim, embed_dim, hidden_size, recurrent_layers=3):\n",
    "        super(BaselineLSTM, self).__init__()\n",
    "        self.embedding = torch.nn.Embedding(message_dim, embed_dim)\n",
    "        self.lstm = torch.nn.LSTM(embed_dim, hidden_size, num_layers=recurrent_layers)  \n",
    "        self.logits = torch.nn.Linear(hidden_size, message_dim)\n",
    "    \n",
    "    # forward: generates a probability distribution for the next MIDI message at each time step in a sequence\n",
    "    # ARGUMENTS\n",
    "    # seq: an LxB tensor, where L is the length of the longest message sequence in\n",
    "    # the batch, and B is the batch size. This should be END-PADDED along dimension 0\n",
    "    # hidden: previous hidden state (default None)\n",
    "    # RETURN: an LxBxD tensor representing the logits for the next message in each batch,\n",
    "    # as well as the last hidden state for the LSTM\n",
    "    def forward(self, seq, hidden=None):\n",
    "        out, new_hidden = self.lstm(self.embedding(seq), hidden)\n",
    "        return self.logits(out), new_hidden"
   ]
  },
  {
   "cell_type": "code",
   "execution_count": 7,
   "metadata": {},
   "outputs": [],
   "source": [
    "def compute_loss(model, loss_fn, batch):\n",
    "    logits, new_hidden = model(batch['messages'][:-1])\n",
    "    mask = torch.logical_not(batch['mask'][1:].flatten())\n",
    "    targets = batch['messages'][1:].flatten()\n",
    "    return loss_fn(logits.view(-1, message_dim)[mask], targets[mask])"
   ]
  },
  {
   "cell_type": "code",
   "execution_count": 29,
   "metadata": {},
   "outputs": [],
   "source": [
    "# Optimization parameters:\n",
    "epochs = 10\n",
    "batch_size = 16\n",
    "learning_rate = 1e-3\n",
    "\n",
    "# Model parameters: \n",
    "message_dim = 388\n",
    "embed_dim = 256 \n",
    "hidden_size = 1024\n",
    "recurrent_layers = 3\n",
    "\n",
    "# Checkpoint location: \n",
    "checkpoint_dir = 'sc_lstm_checkpoints'\n",
    "\n",
    "train_dataloader = torch.utils.data.DataLoader(train_data, batch_size=batch_size, shuffle=True, collate_fn=collate_fn)\n",
    "test_dataloader = torch.utils.data.DataLoader(test_data, batch_size=batch_size, shuffle=True, collate_fn=collate_fn)\n",
    "model = BaselineLSTM(message_dim, embed_dim, hidden_size, recurrent_layers).to(dev)\n",
    "optimizer = torch.optim.Adam(model.parameters())\n",
    "loss_fn = torch.nn.CrossEntropyLoss()"
   ]
  },
  {
   "cell_type": "code",
   "execution_count": null,
   "metadata": {
    "scrolled": true
   },
   "outputs": [],
   "source": [
    "train_losses = [0 for epoch in range(epochs)]\n",
    "test_losses = [0 for epoch in range(epochs)]\n",
    "for epoch in range(epochs):\n",
    "    print('Starting epoch %d' %(epoch))\n",
    "    model.train()\n",
    "    for b, batch in enumerate(train_dataloader):\n",
    "        if b%100 == 0:\n",
    "            print('Starting iteration %d' %(b))\n",
    "        loss = compute_loss(model, loss_fn, batch)\n",
    "        optimizer.zero_grad()\n",
    "        loss.backward()\n",
    "        optimizer.step()\n",
    "        \n",
    "    torch.save(model.state_dict(), checkpoint_dir + '/epoch' + str(epoch) + '.pth')\n",
    "        \n",
    "    model.eval()\n",
    "    print('Computing test loss')\n",
    "    for b, batch in enumerate(test_dataloader):\n",
    "        test_losses[epoch] += compute_loss(model, loss_fn, batch).data\n",
    "        \n",
    "    test_losses[epoch] /= len(test_dataloader)\n",
    "        \n",
    "    print('Computing train loss')\n",
    "    for b, batch in enumerate(train_dataloader):\n",
    "        train_losses[epoch] += compute_loss(model, loss_fn, batch).data\n",
    "        \n",
    "    train_losses[epoch] /= len(train_dataloader)\n",
    "        \n",
    "    print('Train loss: %f, Test loss: %f' %(train_losses[epoch], test_losses[epoch]))"
   ]
  },
  {
   "cell_type": "code",
   "execution_count": null,
   "metadata": {},
   "outputs": [],
   "source": [
    "np.save(checkpoint_dir + '/train_losses.npy', np.array(train_losses))\n",
    "np.save(checkpoint_dir + '/test_losses.npy', np.array(test_losses))"
   ]
  },
  {
   "cell_type": "code",
   "execution_count": null,
   "metadata": {},
   "outputs": [],
   "source": [
    "import matplotlib.pyplot as plt\n",
    "COLOR = 'white'\n",
    "plt.rcParams['text.color'] = COLOR\n",
    "plt.rcParams['axes.labelcolor'] = COLOR\n",
    "plt.rcParams['xtick.color'] = COLOR\n",
    "plt.rcParams['ytick.color'] = COLOR\n",
    "plt.rcParams['figure.figsize'] = [12, 8]\n",
    "plt.rcParams['figure.dpi'] = 100 # 200 e.g. is really fine, but slower\n",
    "plt.rcParams.update({'font.size': 22})\n",
    "plt.plot(train_losses)\n",
    "plt.xlabel('Epochs')\n",
    "plt.ylabel('Average Loss (Nats)')\n",
    "plt.title('Training Loss')\n",
    "plt.savefig('lstm_baseline_train_loss.png')"
   ]
  },
  {
   "cell_type": "code",
   "execution_count": null,
   "metadata": {},
   "outputs": [],
   "source": [
    "plt.plot(test_losses)\n",
    "plt.xlabel('Epochs')\n",
    "plt.ylabel('Average Loss (Nats)')\n",
    "plt.title('Training Loss')\n",
    "plt.savefig('lstm_baseline_test_loss.png')"
   ]
  },
  {
   "cell_type": "code",
   "execution_count": null,
   "metadata": {},
   "outputs": [],
   "source": [
    "model = BaselineLSTM(message_dim, embed_dim, hidden_size, recurrent_layers).to(dev)\n",
    "model.load_state_dict(torch.load(checkpoint_dir + '/epoch9.pth', map_location=dev))\n",
    "model.eval()"
   ]
  },
  {
   "cell_type": "code",
   "execution_count": 75,
   "metadata": {},
   "outputs": [],
   "source": [
    "# Sample from model\n",
    "def generate_music(model, primer, gen_length=200):\n",
    "    hidden = None\n",
    "    gen = torch.tensor(primer, device=dev).unsqueeze(1)\n",
    "    message = gen\n",
    "    for i in range(gen_length):\n",
    "        logits, hidden = model(message, hidden)\n",
    "        message = torch.multinomial(torch.nn.functional.softmax(logits[-1].flatten(), dim=0), 1).view(1, 1)\n",
    "        gen = torch.cat((gen, message))\n",
    "        \n",
    "    return gen"
   ]
  },
  {
   "cell_type": "code",
   "execution_count": 76,
   "metadata": {},
   "outputs": [],
   "source": [
    "generated_music = generate_music(model, primer=[16], gen_length=200)"
   ]
  },
  {
   "cell_type": "code",
   "execution_count": 77,
   "metadata": {},
   "outputs": [],
   "source": [
    "np.save('sc_lstm_midi.npy', generated_music.cpu().flatten().detach().numpy())"
   ]
  },
  {
   "cell_type": "code",
   "execution_count": null,
   "metadata": {},
   "outputs": [],
   "source": []
  }
 ],
 "metadata": {
  "environment": {
   "name": "pytorch-gpu.1-6.m59",
   "type": "gcloud",
   "uri": "gcr.io/deeplearning-platform-release/pytorch-gpu.1-6:m59"
  },
  "kernelspec": {
   "display_name": "Python 3",
   "language": "python",
   "name": "python3"
  },
  "language_info": {
   "codemirror_mode": {
    "name": "ipython",
    "version": 3
   },
   "file_extension": ".py",
   "mimetype": "text/x-python",
   "name": "python",
   "nbconvert_exporter": "python",
   "pygments_lexer": "ipython3",
   "version": "3.7.5"
  }
 },
 "nbformat": 4,
 "nbformat_minor": 4
}
