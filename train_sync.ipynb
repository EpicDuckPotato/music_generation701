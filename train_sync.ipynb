{
 "cells": [
  {
   "cell_type": "code",
   "execution_count": null,
   "metadata": {},
   "outputs": [],
   "source": [
    "import torch\n",
    "import numpy as np\n",
    "import math\n",
    "import os\n",
    "import matplotlib.pyplot as plt"
   ]
  },
  {
   "cell_type": "code",
   "execution_count": 2,
   "metadata": {},
   "outputs": [],
   "source": [
    "num_notes = 128\n",
    "action_dim = 3*num_notes\n",
    "instrument_numbers = [0, 6, 40, 41, 42, 43, 45, 60, 68, 70, 71, 73]\n",
    "num_instruments = len(instrument_numbers)"
   ]
  },
  {
   "cell_type": "markdown",
   "metadata": {},
   "source": [
    "# Baseline Transformer definition\n",
    "Uses absolute position representation"
   ]
  },
  {
   "cell_type": "code",
   "execution_count": 3,
   "metadata": {},
   "outputs": [],
   "source": [
    "# Taken from https://pytorch.org/tutorials/beginner/transformer_tutorial.html.\n",
    "# Only change is the view/expand in forward (accounts for multiple instruments and batches)\n",
    "class PositionalEncoding(torch.nn.Module):\n",
    "    def __init__(self, d_model, dropout=0.1, max_len=10000):\n",
    "        super(PositionalEncoding, self).__init__()\n",
    "        self.dropout = torch.nn.Dropout(p=dropout)\n",
    "\n",
    "        pe = torch.zeros(max_len, d_model)\n",
    "        position = torch.arange(0, max_len, dtype=torch.float).unsqueeze(1)\n",
    "        div_term = torch.exp(torch.arange(0, d_model, 2).float() * (-math.log(10000.0) / d_model))\n",
    "        pe[:, 0::2] = torch.sin(position * div_term)\n",
    "        pe[:, 1::2] = torch.cos(position * div_term)\n",
    "        self.register_buffer('pe', pe)\n",
    "\n",
    "    def forward(self, x):\n",
    "        x = x + self.pe[:x.shape[1], :].view(1, x.shape[1], 1, -1).expand(x.shape[0], -1, x.shape[2], -1)\n",
    "        return self.dropout(x)\n",
    "        \n",
    "\n",
    "# EnsembleTransformer: takes a history of actions \n",
    "# for instruments in an ensemble and generates distributions for the next actions\n",
    "class EnsembleTransformer(torch.nn.Module):\n",
    "    # CONSTRUCTOR\n",
    "    # ARGUMENTS\n",
    "    # action_dim: dimension of a MIDI message\n",
    "    # embed_dim: dimension of message embedding\n",
    "    # num_instruments: number of instrument labels\n",
    "    # heads: number of attention heads\n",
    "    # attention_layers: number of attention layers\n",
    "    # ff_size: size of the feedforward output at the end of the decoder\n",
    "    # chunk_size: long sequences will be processed in chunks of chunk_size\n",
    "    def __init__(self, action_dim, embed_dim, num_instruments, heads, attention_layers, ff_size, chunk_size):\n",
    "        super(EnsembleTransformer, self).__init__()\n",
    "        \n",
    "        self.action_dim = action_dim\n",
    "        self.embed_dim = embed_dim\n",
    "        self.chunk_size = chunk_size\n",
    "        \n",
    "        # We add the tanhed instrument embedding to each input message \n",
    "        # (this is the global conditioning idea from DeepJ, which comes from WaveNet)\n",
    "        self.i_embedding = torch.nn.Embedding(num_instruments, embed_dim)\n",
    "        \n",
    "        self.position_encoding = PositionalEncoding(embed_dim)\n",
    "        \n",
    "        self.embedding = torch.nn.Linear(action_dim, embed_dim)\n",
    "        \n",
    "        # A decoder is used to transform the history of the instrument we're generating\n",
    "        # music for, then combine this with the other histories to generate the next action\n",
    "        decoder_layer = torch.nn.TransformerDecoderLayer(embed_dim, heads, ff_size)\n",
    "        self.decoder = torch.nn.TransformerDecoder(decoder_layer, attention_layers)\n",
    "        \n",
    "        self.logits = torch.nn.Linear(embed_dim, action_dim)\n",
    "        \n",
    "    \n",
    "    # forward: generates probabilities for the next MIDI actions\n",
    "    # given the action history of the ensemble\n",
    "    # ARGUMENTS\n",
    "    # history: an NxLxBxA tensor, where N is the max number of instruments in the batch,\n",
    "    # L is the length of the longest history in the batch, B is the batch size,\n",
    "    # and A is the number of actions\n",
    "    # mask: an NxLxB tensor, containing True where an action or instrument doesn't exist\n",
    "    # instruments: a NxB tensor indicating the instrument numbers for each batch\n",
    "    # RETURN: an NxLxBxA tensor out. out[:, :, :, :2*num_notes] represents the Bernoulli probabilities\n",
    "    # for note-on and note-off actions. out[:, :, :, 2*num_notes:] represents the velocity of each note\n",
    "    # assuming it gets turned on. Note that to get the actual values you'll need to take a sigmoid\n",
    "    def forward(self, history, mask, instruments):\n",
    "        N = history.shape[0] # max instruments\n",
    "        L = history.shape[1] # longest length\n",
    "        B = history.shape[2] # batch size\n",
    "        A = history.shape[3]\n",
    "        assert(instruments.shape == (N, B))\n",
    "        assert(mask.shape == (N, L, B))\n",
    "        assert(A == self.action_dim)\n",
    "        \n",
    "        inputs = self.embedding(history) + torch.tanh(self.i_embedding(instruments)).unsqueeze(1).expand(-1, L, -1, -1)\n",
    "        \n",
    "        decoding = torch.zeros((N, L, B, embed_dim))\n",
    "        \n",
    "        for start in range(0, L, self.chunk_size):\n",
    "            end = min(start + chunk_size, L)\n",
    "            size = end - start\n",
    "            \n",
    "            chunk = self.position_encoding(inputs[:, start:end])\n",
    "            \n",
    "            for inst in range(N):\n",
    "                memory_idx = [i for i in range(N) if i != inst]\n",
    "                \n",
    "                tgt_key_padding_mask = mask[inst, start:end].transpose(0, 1)\n",
    "\n",
    "                tgt_mask = torch.triu(torch.ones((size, size), dtype=torch.bool))\n",
    "                tgt_mask.fill_diagonal_(False)\n",
    "\n",
    "                if N == 1:\n",
    "                    memory = torch.zeros((1, B, self.embed_dim))\n",
    "                    memory_key_padding_mask = None\n",
    "                    memory_mask = None\n",
    "                else:\n",
    "                    memory = chunk[memory_idx].view(-1, B, self.embed_dim)\n",
    "                    memory_key_padding_mask = mask[memory_idx, start:end].view(-1, B).transpose(0, 1)\n",
    "                    memory_mask = tgt_mask.repeat(1, N - 1)\n",
    "\n",
    "                decoding[inst, start:end] = self.decoder(chunk[inst], \\\n",
    "                                                         memory, \\\n",
    "                                                         tgt_mask=tgt_mask, \\\n",
    "                                                         memory_mask=memory_mask, \\\n",
    "                                                         tgt_key_padding_mask=tgt_key_padding_mask, \\\n",
    "                                                         memory_key_padding_mask=memory_key_padding_mask)\n",
    "\n",
    "        return self.logits(decoding)"
   ]
  },
  {
   "cell_type": "markdown",
   "metadata": {},
   "source": [
    "# Tests for baseline transformer\n",
    "We train with model.eval() to disable dropout, since these tests try to get the model to overfit to a small sequence"
   ]
  },
  {
   "cell_type": "markdown",
   "metadata": {},
   "source": [
    "Get the model to overfit to a single instrument's part in a single song (only the first 100 time steps). Tests decoder"
   ]
  },
  {
   "cell_type": "code",
   "execution_count": 216,
   "metadata": {},
   "outputs": [],
   "source": [
    "ff_size = 512\n",
    "heads = 8\n",
    "attention_layers=  6\n",
    "embed_dim = 256\n",
    "chunk_size = 200\n",
    "\n",
    "grad_clip = 10\n",
    "\n",
    "model = EnsembleTransformer(action_dim, embed_dim, num_instruments, heads, attention_layers, ff_size, chunk_size)\n",
    "for p in model.parameters():\n",
    "    p.register_hook(lambda grad: torch.clamp(grad, -grad_clip, grad_clip))\n",
    "    \n",
    "model.eval() # Training with eval just to see if we can overfit without dropout\n",
    "pass"
   ]
  },
  {
   "cell_type": "code",
   "execution_count": null,
   "metadata": {},
   "outputs": [],
   "source": [
    "model.load_state_dict(torch.load('overfit_single_instrument.pth'))"
   ]
  },
  {
   "cell_type": "code",
   "execution_count": null,
   "metadata": {
    "scrolled": true
   },
   "outputs": [],
   "source": [
    "recording = np.load('preprocessed_data_sync/recording318.npy', allow_pickle=True)\n",
    "instruments_np = np.load('preprocessed_data_sync/instruments318.npy', allow_pickle=True)\n",
    "\n",
    "inst = 1\n",
    "\n",
    "max_seq_length = 200\n",
    "\n",
    "history = torch.tensor(recording[inst, :max_seq_length]).view(1, max_seq_length, 1, -1)\n",
    "max_instruments = history.shape[0]\n",
    "mask = torch.zeros((max_instruments, max_seq_length, 1), dtype=torch.bool)\n",
    "instruments = torch.tensor(instrument_numbers.index(instruments_np[inst]), dtype=torch.long).view(1, 1)\n",
    "\n",
    "batch_size = 1\n",
    "learning_rate = 0.001\n",
    "optimizer = torch.optim.Adam(model.parameters(), lr=learning_rate)\n",
    "bce = torch.nn.BCEWithLogitsLoss(reduction='none')\n",
    "mse = torch.nn.MSELoss(reduction='none')\n",
    "epochs = 1000\n",
    "train_losses = np.zeros(epochs)\n",
    "\n",
    "targets = history[:, 1:]\n",
    "\n",
    "for epoch in range(epochs):\n",
    "    print('Starting epoch %d' %(epoch))    \n",
    "    out = model(history[:, :-1], mask[:, :-1], instruments)\n",
    "                \n",
    "    note_losses = bce(out[:, :, :, :2*num_notes], targets[:, :, :, :2*num_notes])\n",
    "    \n",
    "    # Only apply dynamics losses to notes that are being turned on\n",
    "    dynamics_losses = targets[:, :, :, :num_notes]*mse(torch.sigmoid(out[:, :, :, 2*num_notes:]), targets[:, :, :, 2*num_notes:])\n",
    "    \n",
    "    loss_mask = torch.logical_not(mask[:, :-1])\n",
    "    loss = note_losses[loss_mask].mean() + dynamics_losses[loss_mask].mean()\n",
    "    optimizer.zero_grad()\n",
    "    loss.backward()\n",
    "    optimizer.step()\n",
    "    train_losses[epoch] = loss.data\n",
    "    print('Loss: %f' %(loss.data))"
   ]
  },
  {
   "cell_type": "code",
   "execution_count": 110,
   "metadata": {},
   "outputs": [],
   "source": [
    "torch.save(model.state_dict(), 'overfit_single_instrument_sync.pth')"
   ]
  },
  {
   "cell_type": "code",
   "execution_count": 137,
   "metadata": {},
   "outputs": [
    {
     "data": {
      "text/plain": [
       "[<matplotlib.lines.Line2D at 0x7fa4e435aad0>]"
      ]
     },
     "execution_count": 137,
     "metadata": {},
     "output_type": "execute_result"
    },
    {
     "data": {
      "image/png": "[encoded data removed]",
      "text/plain": [
       "<Figure size 432x288 with 1 Axes>"
      ]
     },
     "metadata": {
      "needs_background": "light"
     },
     "output_type": "display_data"
    }
   ],
   "source": [
    "plt.plot(train_losses)"
   ]
  },
  {
   "cell_type": "code",
   "execution_count": null,
   "metadata": {},
   "outputs": [],
   "source": [
    "# Sample from model\n",
    "gen_history = torch.tensor(recording[inst, 0]).view(1, 1, 1, -1)\n",
    "mask = torch.zeros((1, 1, 1), dtype=torch.bool)\n",
    "instruments = torch.tensor(instrument_numbers.index(instruments_np[inst]), dtype=torch.long).view(1, 1)\n",
    "model.eval() # Turns off the dropout for evaluation. Need to do this to get repeatable evaluation outputs\n",
    "\n",
    "max_instruments = history.shape[0]\n",
    "\n",
    "# Move forward in time\n",
    "wrong_cnt = 0\n",
    "for t in range(1, max_seq_length):\n",
    "    #out = model(gen_history, mask, instruments)\n",
    "    out = torch.sigmoid(model(history[:, :t], mask, instruments))\n",
    "    \n",
    "    #next_actions = torch.bernoulli(out[0, -1, :, :2*num_notes]).view(1, 1, 1, -1)\n",
    "    next_actions = torch.round(out[0, -1, :, :2*num_notes]).view(1, 1, 1, -1)\n",
    "    next_vels = out[0, -1, :, 2*num_notes:].view(1, 1, 1, -1)\n",
    "    append = torch.cat((next_actions, next_vels), dim=3)\n",
    "    gen_history = torch.cat((gen_history, append), dim=1)\n",
    "    \n",
    "    if torch.any(gen_history[:, t, :, :2*num_notes] != history[:, t, :, :2*num_notes]):\n",
    "        wrong_cnt += 1\n",
    "    \n",
    "    mask = torch.cat((mask, torch.zeros((1, 1, 1), dtype=torch.bool)), dim=1)\n",
    "\n",
    "print(wrong_cnt)"
   ]
  },
  {
   "cell_type": "code",
   "execution_count": 118,
   "metadata": {},
   "outputs": [],
   "source": [
    "np.save('test_history.npy', gen_history.detach().view(max_instruments, max_seq_length, -1).numpy())\n",
    "np.save('test_instruments.npy', np.array([instrument_numbers[instruments[0]]]))"
   ]
  },
  {
   "cell_type": "markdown",
   "metadata": {},
   "source": [
    "# Custom dataset class"
   ]
  },
  {
   "cell_type": "code",
   "execution_count": 4,
   "metadata": {},
   "outputs": [],
   "source": [
    "# Custom Dataset class\n",
    "class MIDIDataset(torch.utils.data.Dataset):\n",
    "    # CONSTRUCTOR: creates a list of recording files and a list\n",
    "    # of instrument files in root_dir. Assumes that the directory\n",
    "    # contains recording0.npy to recordingM.npy,\n",
    "    # as well as instruments0.npy to instrumentsM.npy\n",
    "    # ARGUMENTS\n",
    "    # root_dir: the directory to search\n",
    "    def __init__(self, root_dir, transform=None):\n",
    "        files = os.listdir(root_dir)\n",
    "        self.recordings = []\n",
    "        self.instrument_files = []\n",
    "        for file in files:\n",
    "            if 'recording' in file:\n",
    "                self.recordings.append(os.path.join(root_dir, file))\n",
    "            elif 'instruments' in file:\n",
    "                self.instrument_files.append(os.path.join(root_dir, file))\n",
    "                \n",
    "        assert(len(self.recordings) == len(self.instrument_files))\n",
    "        self.recordings.sort()\n",
    "        self.instrument_files.sort()\n",
    "        self.transform = transform\n",
    "\n",
    "    # __len__\n",
    "    # RETURN: the number of recording files in the dataset\n",
    "    def __len__(self):\n",
    "        return len(self.recordings)\n",
    "\n",
    "    # __getitem__\n",
    "    # ARGUMENTS\n",
    "    # idx: indicates which file to get\n",
    "    # RETURN: an instance with keys 'instruments', 'history'\n",
    "    # instance['history'] is a numpy array of MIDI actions\n",
    "    # instance['instruments'] a numpy array of instrument numbers\n",
    "    def __getitem__(self, idx):\n",
    "        instance = {'history': np.load(self.recordings[idx], allow_pickle=True), \\\n",
    "                    'instruments': np.load(self.instrument_files[idx], allow_pickle=True)}\n",
    "        \n",
    "        assert(len(instance['history']) == len(instance['instruments']))\n",
    "        \n",
    "        if self.transform:\n",
    "            instance = self.transform(instance)\n",
    "            \n",
    "        return instance"
   ]
  },
  {
   "cell_type": "code",
   "execution_count": 5,
   "metadata": {},
   "outputs": [],
   "source": [
    "# collate_fn: takes a list of samples from the dataset and turns them into a batch.\n",
    "# ARGUMENTS\n",
    "# batch: a list of dictionaries\n",
    "# RETURN: a sample with keys 'history', 'instruments', and 'mask'\n",
    "# sample['history']: an NxLxBxD tensor containing actions\n",
    "# sample['instruments']: an NxB tensor containing instrument numbers\n",
    "# sample['mask']: an NxLxB tensor containing False where a message is\n",
    "# valid, and True where it isn't (accounts for variable length sequences\n",
    "# and zero padding)\n",
    "def collate_fn(batch):\n",
    "    batch_size = len(batch)\n",
    "    \n",
    "    # We size our tensors to accomodate the longest sequence and the largest ensemble\n",
    "    max_instruments = max([instance['history'].shape[0] for instance in batch])\n",
    "    max_len = max([instance['history'].shape[1] for instance in batch])\n",
    "\n",
    "    sample = {'history': torch.ones((max_instruments, max_len, batch_size, action_dim)), \\\n",
    "              'instruments': torch.zeros((max_instruments, batch_size), dtype=torch.long), \\\n",
    "              'mask': torch.ones((max_instruments, max_len, batch_size), dtype=torch.bool)}\n",
    "\n",
    "    for b in range(batch_size):\n",
    "        instrument_idx = [instrument_numbers.index(inst) for inst in batch[b]['instruments']]\n",
    "        sample['instruments'][:len(instrument_idx), b] = torch.tensor(instrument_idx, dtype=torch.long)\n",
    "        seq_length = batch[b]['history'].shape[1]\n",
    "        n_inst = batch[b]['history'].shape[0]\n",
    "        \n",
    "        sample['history'][:n_inst, :seq_length, b] = torch.tensor(batch[b]['history'])\n",
    "        sample['mask'][:n_inst, :seq_length, b] = False\n",
    "            \n",
    "    return sample"
   ]
  },
  {
   "cell_type": "markdown",
   "metadata": {},
   "source": [
    "# Train the model"
   ]
  },
  {
   "cell_type": "code",
   "execution_count": 9,
   "metadata": {},
   "outputs": [],
   "source": [
    "ff_size = 512\n",
    "heads = 8\n",
    "attention_layers=  6\n",
    "embed_dim = 256\n",
    "chunk_size = 200\n",
    "grad_clip = 10\n",
    "\n",
    "model = EnsembleTransformer(action_dim, embed_dim, len(instrument_numbers), heads, attention_layers, ff_size, chunk_size)\n",
    "\n",
    "for p in model.parameters():\n",
    "    p.register_hook(lambda grad: torch.clamp(grad, -grad_clip, grad_clip))"
   ]
  },
  {
   "cell_type": "code",
   "execution_count": null,
   "metadata": {},
   "outputs": [],
   "source": [
    "batch_size = 1\n",
    "learning_rate = 0.001\n",
    "\n",
    "dataset = MIDIDataset('preprocessed_data_sync')\n",
    "dataloader = torch.utils.data.DataLoader(dataset, batch_size=batch_size, shuffle=True, collate_fn=collate_fn)\n",
    "\n",
    "optimizer = torch.optim.Adam(model.parameters())\n",
    "bce = torch.nn.BCEWithLogitsLoss(reduction='none')\n",
    "mse = torch.nn.MSELoss(reduction='none')\n",
    "epochs = 10\n",
    "train_losses = np.zeros(epochs)\n",
    "test_losses = np.zeros(epochs) # TODO: train/test split. Can we do this with Dataloader?\n",
    "\n",
    "model.train()\n",
    "\n",
    "for epoch in range(epochs):\n",
    "    print('Starting epoch %d' %(epoch))\n",
    "    n_iter = 0\n",
    "    for batch in dataloader:\n",
    "        # Chunk during training as well to make sure we don't hang\n",
    "        for start in range(0, batch['history'].shape[1] - 1, chunk_size):  \n",
    "            if n_iter%100 == 0:\n",
    "                print('Starting iteration %d' %(n_iter))\n",
    "            \n",
    "            end = min(start + chunk_size, batch['history'].shape[1] - 1)\n",
    "            \n",
    "            size = end - start\n",
    "            \n",
    "            out = model(batch['history'][:, start:end], batch['mask'][:, start:end], batch['instruments'])\n",
    "\n",
    "            targets = batch['history'][:, start + 1:end + 1]\n",
    "\n",
    "            note_losses = bce(out[:, :, :, :2*num_notes], targets[:, :, :, :2*num_notes])\n",
    "\n",
    "            # Only apply dynamics losses to notes that are being turned on\n",
    "            dynamics_losses = targets[:, :, :, :num_notes]*mse(torch.sigmoid(out[:, :, :, 2*num_notes:]), targets[:, :, :, 2*num_notes:])\n",
    "\n",
    "            loss_mask = torch.logical_not(batch['mask'][:, start:end])\n",
    "            loss = note_losses[loss_mask].mean() + dynamics_losses[loss_mask].mean()\n",
    "\n",
    "            optimizer.zero_grad()\n",
    "            loss.backward()\n",
    "            optimizer.step()\n",
    "            torch.save(model.state_dict(), 'trained_models/epoch' + str(epoch) + '.pth')\n",
    "\n",
    "            train_losses[epoch] += loss.data\n",
    "            n_iter += 1\n",
    "        \n",
    "    train_losses[epoch] /= n_iter\n",
    "    print('Loss: %f' %(loss.data))"
   ]
  },
  {
   "cell_type": "code",
   "execution_count": null,
   "metadata": {},
   "outputs": [],
   "source": [
    "plt.plot(train_losses)"
   ]
  },
  {
   "cell_type": "code",
   "execution_count": null,
   "metadata": {},
   "outputs": [],
   "source": [
    "torch.save(model.state_dict(), 'it6100.pth')"
   ]
  },
  {
   "cell_type": "markdown",
   "metadata": {},
   "source": [
    "# Sample from the model"
   ]
  },
  {
   "cell_type": "code",
   "execution_count": 5,
   "metadata": {},
   "outputs": [
    {
     "data": {
      "text/plain": [
       "<All keys matched successfully>"
      ]
     },
     "execution_count": 5,
     "metadata": {},
     "output_type": "execute_result"
    }
   ],
   "source": [
    "model.load_state_dict(torch.load('trained_models/epoch4.pth'))"
   ]
  },
  {
   "cell_type": "code",
   "execution_count": null,
   "metadata": {},
   "outputs": [],
   "source": [
    "recording = np.load('preprocessed_data_sync/recording0.npy', allow_pickle=True)\n",
    "instruments_np = np.load('preprocessed_data_sync/instruments0.npy', allow_pickle=True)\n",
    "\n",
    "history = torch.tensor(recording)\n",
    "max_instruments = history.shape[0]\n",
    "instruments = torch.tensor([instrument_numbers.index(i) for i in instruments_np], dtype=torch.long).view(max_instruments, 1)\n",
    "\n",
    "model.eval() # Disable dropout to make results repeatable\n",
    "\n",
    "time_steps = 200 # How many time steps do we sample?\n",
    "\n",
    "# TODO: should we have SOS and EOS tokens like in NLP?\n",
    "gen_history = history[:, 0].view(max_instruments, 1, 1, -1)\n",
    "mask = torch.zeros((max_instruments, 1, 1), dtype=torch.bool)\n",
    "\n",
    "for t in range(1, max_seq_length):\n",
    "    out = torch.sigmoid(model(gen_history, mask, instruments))\n",
    "    \n",
    "    next_actions = torch.bernoulli(out[:, -1, :, :2*num_notes]).unsqueeze(1)\n",
    "    next_vels = out[:, -1, :, 2*num_notes:].unsqueeze(1)\n",
    "    append = torch.cat((next_actions, next_vels), dim=3)\n",
    "    gen_history = torch.cat((gen_history, append), dim=1)\n",
    "    mask = torch.cat((mask, torch.zeros((1, 1, 1), dtype=torch.bool)), dim=1)"
   ]
  },
  {
   "cell_type": "markdown",
   "metadata": {},
   "source": [
    "Save samples"
   ]
  },
  {
   "cell_type": "code",
   "execution_count": 15,
   "metadata": {},
   "outputs": [],
   "source": [
    "np.save('gen_history.npy', gen_history.detach().view(max_instruments, max_seq_length, -1).numpy())\n",
    "np.save('gen_instruments.npy', np.array([instrument_numbers[instruments[0]]]))"
   ]
  },
  {
   "cell_type": "code",
   "execution_count": null,
   "metadata": {},
   "outputs": [],
   "source": []
  }
 ],
 "metadata": {
  "environment": {
   "name": "pytorch-gpu.1-6.m59",
   "type": "gcloud",
   "uri": "gcr.io/deeplearning-platform-release/pytorch-gpu.1-6:m59"
  },
  "kernelspec": {
   "display_name": "Python 3",
   "language": "python",
   "name": "python3"
  },
  "language_info": {
   "codemirror_mode": {
    "name": "ipython",
    "version": 3
   },
   "file_extension": ".py",
   "mimetype": "text/x-python",
   "name": "python",
   "nbconvert_exporter": "python",
   "pygments_lexer": "ipython3",
   "version": "3.7.8"
  }
 },
 "nbformat": 4,
 "nbformat_minor": 4
}
