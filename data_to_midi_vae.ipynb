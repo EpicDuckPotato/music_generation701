{
 "cells": [
  {
   "cell_type": "code",
   "execution_count": 88,
   "metadata": {},
   "outputs": [],
   "source": [
    "import pretty_midi\n",
    "import numpy as np\n",
    "import pickle\n",
    "\n",
    "num_notes = 128 # Number of pitches in MIDI\n",
    "num_time_shifts = 100\n",
    "min_time_shift = 0.01"
   ]
  },
  {
   "cell_type": "code",
   "execution_count": 167,
   "metadata": {},
   "outputs": [],
   "source": [
    "data = np.load('baseline_vae_midis/recording_vae.npy', allow_pickle=True)"
   ]
  },
  {
   "cell_type": "code",
   "execution_count": 168,
   "metadata": {},
   "outputs": [],
   "source": [
    "def data_to_midi(data, instrument_number):\n",
    "    instrument=pretty_midi.Instrument(program=instrument_number,name=pretty_midi.program_to_instrument_name(instrument_number))\n",
    "    curr_time = 0\n",
    "    #start time of the current note being played\n",
    "    note_start = {}\n",
    "    note_same = {}\n",
    "    for i, idx in enumerate(data):\n",
    "        if idx < num_notes:\n",
    "            #note on event\n",
    "            if idx in note_start:\n",
    "                note_same[idx] += 1\n",
    "                continue\n",
    "            note_start[idx] = curr_time\n",
    "            note_same[idx] = 1\n",
    "        elif idx < 2*num_notes:\n",
    "            #note off event\n",
    "            curr_note = idx - num_notes\n",
    "            if curr_note not in note_start:\n",
    "                continue\n",
    "                #raise ValueError(\"note\" + str(idx-num_notes) + \"has not been started!\")\n",
    "            note_same[curr_note] -= 1\n",
    "            if note_same[curr_note] == 0:\n",
    "                note=pretty_midi.Note(velocity=96, pitch=curr_note, start=note_start[curr_note], end=curr_time)\n",
    "                instrument.notes.append(note)\n",
    "                del note_start[curr_note]\n",
    "                del note_same[curr_note]\n",
    "        elif idx < 2*num_notes + num_time_shifts:\n",
    "            #time shift event\n",
    "            curr_time += (idx - 2*num_notes + 1)*min_time_shift\n",
    "    return instrument\n",
    "    "
   ]
  },
  {
   "cell_type": "code",
   "execution_count": 169,
   "metadata": {},
   "outputs": [],
   "source": [
    "recording = pretty_midi.PrettyMIDI()\n",
    "recording.instruments.append(data_to_midi(data,0))"
   ]
  },
  {
   "cell_type": "code",
   "execution_count": 170,
   "metadata": {},
   "outputs": [],
   "source": [
    "recording.write(\"baseline_vae_midis/sample.mid\")"
   ]
  },
  {
   "cell_type": "code",
   "execution_count": null,
   "metadata": {},
   "outputs": [],
   "source": []
  }
 ],
 "metadata": {
  "environment": {
   "name": "pytorch-gpu.1-6.m59",
   "type": "gcloud",
   "uri": "gcr.io/deeplearning-platform-release/pytorch-gpu.1-6:m59"
  },
  "kernelspec": {
   "display_name": "Python 3",
   "language": "python",
   "name": "python3"
  },
  "language_info": {
   "codemirror_mode": {
    "name": "ipython",
    "version": 3
   },
   "file_extension": ".py",
   "mimetype": "text/x-python",
   "name": "python",
   "nbconvert_exporter": "python",
   "pygments_lexer": "ipython3",
   "version": "3.7.5"
  }
 },
 "nbformat": 4,
 "nbformat_minor": 4
}
