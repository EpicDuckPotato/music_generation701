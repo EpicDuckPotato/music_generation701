{
 "cells": [
  {
   "cell_type": "code",
   "execution_count": 1,
   "metadata": {},
   "outputs": [],
   "source": [
    "import torch\n",
    "import numpy as np\n",
    "import os\n",
    "import time\n",
    "import functools\n",
    "from IPython import display as ipythondisplay\n",
    "from tqdm import tqdm\n",
    "!apt-get install abcmidi timidity > /dev/null 2>&1"
   ]
  },
  {
   "cell_type": "code",
   "execution_count": 2,
   "metadata": {},
   "outputs": [],
   "source": [
    "# If CPU\n",
    "dev = torch.device('cpu')"
   ]
  },
  {
   "cell_type": "code",
   "execution_count": 3,
   "metadata": {},
   "outputs": [],
   "source": [
    "# If GPU\n",
    "dev = torch.device('cuda')"
   ]
  },
  {
   "cell_type": "code",
   "execution_count": 4,
   "metadata": {},
   "outputs": [],
   "source": [
    "instrument_numbers = [0, 6, 40, 41, 42, 43, 45, 60, 68, 70, 71, 73]\n",
    "num_instruments = len(instrument_numbers)"
   ]
  },
  {
   "cell_type": "code",
   "execution_count": 5,
   "metadata": {},
   "outputs": [],
   "source": [
    "# Custom Dataset class\n",
    "class MIDIDataset(torch.utils.data.Dataset):\n",
    "    # CONSTRUCTOR: creates an array of message chunks. Assumes that the directory\n",
    "    # contains recording0.npy to recordingM.npy\n",
    "    # ARGUMENTS\n",
    "    # root_dir: the directory to search\n",
    "    # chunk_size: we'll chunk the data into chunks of this size (or less)\n",
    "    def __init__(self, root_dir, chunk_size, transform=None):\n",
    "        recording_files = []\n",
    "        instrument_files = []\n",
    "        for file in os.listdir(root_dir):\n",
    "            if 'recording' in file:\n",
    "                recording_files.append(os.path.join(root_dir, file))\n",
    "            elif 'instruments' in file:\n",
    "                instrument_files.append(os.path.join(root_dir, file))\n",
    "                \n",
    "        assert(len(recording_files) == len(instrument_files))\n",
    "        recording_files.sort()\n",
    "        instrument_files.sort()\n",
    "        \n",
    "        self.chunks = []\n",
    "        self.masks = []\n",
    "        self.instruments = []\n",
    "        \n",
    "        ch = 0\n",
    "        for f in range(len(recording_files)):\n",
    "            data = np.load(recording_files[f])\n",
    "            inst = [instrument_numbers.index(i) for i in np.load(instrument_files[f])]\n",
    "            nchunks = int(np.ceil(data.shape[0]/chunk_size))\n",
    "            self.chunks += [torch.zeros((chunk_size, 2), dtype=torch.long, device=dev) for c in range(nchunks)]\n",
    "            self.masks += [torch.ones(chunk_size, dtype=torch.bool, device=dev) for c in range(nchunks)]\n",
    "            self.instruments += [torch.tensor(inst, dtype=torch.long, device=dev) for c in range(nchunks)]\n",
    "            for chunk_start in range(0, data.shape[0], chunk_size):\n",
    "                chunk_end = min(chunk_start + chunk_size, data.shape[0])\n",
    "                size = chunk_end - chunk_start\n",
    "                self.chunks[ch][:size] = torch.tensor(data[chunk_start:chunk_end]).to(dev)\n",
    "                self.masks[ch][:size] = False\n",
    "                ch += 1\n",
    "            \n",
    "            if f%100 == 0:\n",
    "                print(f)\n",
    "            \n",
    "        self.transform = transform\n",
    "\n",
    "    # __len__\n",
    "    # RETURN: the number of chunks in the dataset\n",
    "    def __len__(self):\n",
    "        return len(self.chunks)\n",
    "\n",
    "    # __getitem__\n",
    "    # ARGUMENTS\n",
    "    # idx: indicates which chunk to get\n",
    "    # RETURN: instance, a dictionary with keys 'history,' 'mask,' and 'instruments'.\n",
    "    # Both values associated with these keys are length L tensors\n",
    "    def __getitem__(self, idx):  \n",
    "        instance = {'history': self.chunks[idx], \\\n",
    "                    'mask': self.masks[idx],\n",
    "                    'instruments': self.instruments[idx]}\n",
    "\n",
    "        if self.transform:\n",
    "            instance = self.transform(instance)\n",
    "            \n",
    "        return instance\n",
    "    \n",
    "def collate_fn(batch):\n",
    "    chunk_size = batch[0]['history'].shape[0]\n",
    "    ninst = [instance['instruments'].shape[0] for instance in batch]\n",
    "    max_inst = max(ninst)\n",
    "    B = len(batch)\n",
    "    sample = {'history': torch.zeros((chunk_size, 2, B), dtype=torch.long, device=dev), \\\n",
    "              'mask': torch.ones((chunk_size, B), dtype=torch.bool, device=dev),\n",
    "              'instruments': torch.zeros((max_inst, B), dtype=torch.long, device=dev), \\\n",
    "              'inst_mask': torch.ones((max_inst, B), dtype=torch.bool, device=dev)}\n",
    "    \n",
    "    for b, instance in enumerate(batch):\n",
    "        sample['history'][:, :, b] = instance['history']\n",
    "        sample['mask'][:, b] = instance['mask']\n",
    "        sample['instruments'][:ninst[b], b] = instance['instruments']\n",
    "        sample['inst_mask'][:ninst[b], b] = False\n",
    "        \n",
    "    return sample"
   ]
  },
  {
   "cell_type": "code",
   "execution_count": null,
   "metadata": {
    "scrolled": true
   },
   "outputs": [],
   "source": [
    "train_data = MIDIDataset('train_unified', 1000)\n",
    "len(train_data)"
   ]
  },
  {
   "cell_type": "code",
   "execution_count": null,
   "metadata": {},
   "outputs": [],
   "source": [
    "test_data = MIDIDataset('test_unified', 1000)\n",
    "len(test_data)"
   ]
  },
  {
   "cell_type": "code",
   "execution_count": 12,
   "metadata": {},
   "outputs": [],
   "source": [
    "# Taken from https://pytorch.org/tutorials/beginner/transformer_tutorial.html.\n",
    "# Only change is the view/expand in forward (accounts for batches)\n",
    "class PositionalEncoding(torch.nn.Module):\n",
    "    def __init__(self, d_model, dropout=0.1, max_len=10000):\n",
    "        super(PositionalEncoding, self).__init__()\n",
    "        self.dropout = torch.nn.Dropout(p=dropout)\n",
    "\n",
    "        pe = torch.zeros(max_len, d_model, device=dev)\n",
    "        position = torch.arange(0, max_len, dtype=torch.float, device=dev).unsqueeze(1)\n",
    "        div_term = torch.exp(torch.arange(0, d_model, 2, device=dev).float() * (-np.log(10000.0) / d_model))\n",
    "        pe[:, 0::2] = torch.sin(position * div_term)\n",
    "        pe[:, 1::2] = torch.cos(position * div_term)\n",
    "        self.register_buffer('pe', pe)\n",
    "\n",
    "    def forward(self, x):\n",
    "        x = x + self.pe[:x.shape[0], :].unsqueeze(1).expand(-1, x.shape[1], -1)\n",
    "        return self.dropout(x)\n",
    "\n",
    "# AssignerGRU: assigns channels to a sequence of MIDI messages\n",
    "class AssignerGRU(torch.nn.Module):\n",
    "    # CONSTRUCTOR\n",
    "    # ARGUMENTS\n",
    "    # message_dim: dimension of a MIDI message\n",
    "    # embed_dim: dimension of message embedding\n",
    "    # hidden_size: size of hidden GRU state\n",
    "    # heads: number of heads for instrument attention\n",
    "    # recurrent_layers: the number of layers in the gru\n",
    "    def __init__(self, message_dim, embed_dim, hidden_size, num_instruments, heads, recurrent_layers=3):\n",
    "        super(AssignerGRU, self).__init__()\n",
    "        self.embed_dim = embed_dim\n",
    "        self.inst_embedding = torch.nn.Embedding(num_instruments, embed_dim)\n",
    "        self.channel_encoding = PositionalEncoding(embed_dim)\n",
    "        self.embedding = torch.nn.Embedding(message_dim, embed_dim)\n",
    "        self.gru = torch.nn.GRU(embed_dim, hidden_size, num_layers=recurrent_layers)\n",
    "        \n",
    "        # Instrument-wise attention\n",
    "        self.inst_linear = torch.nn.Linear(hidden_size, embed_dim)\n",
    "        self.inst_attention = torch.nn.MultiheadAttention(embed_dim, heads)\n",
    "    \n",
    "    # forward: generates a probability distribution for the next MIDI message at each time step in a sequence\n",
    "    # ARGUMENTS\n",
    "    # seq: an Lx2xB tensor, where L is the length of the longest message sequence in\n",
    "    # the batch, and B is the batch size. This should be END-PADDED along dimension 0\n",
    "    # hidden: previous hidden state (default None)\n",
    "    # RETURN: an LxBxN tensor representing the probabilities of each channel being associated to each message\n",
    "    def forward(self, seq, instruments, inst_mask, hidden=None):\n",
    "        L = seq.shape[0]\n",
    "        B = seq.shape[1]\n",
    "        inst_embed = self.channel_encoding(torch.tanh(self.inst_embedding(instruments)))*inst_mask.unsqueeze(2).expand(-1, -1, self.embed_dim)\n",
    "        \n",
    "        gru_inputs = self.embedding(seq[:, 0])\n",
    "        out, new_hidden = self.gru(gru_inputs, hidden)\n",
    "        \n",
    "        inst_linear = torch.tanh(self.inst_linear(out))\n",
    "        \n",
    "        # attn_weights is BxLxN\n",
    "        attn_output, attn_weights = self.inst_attention(inst_linear, inst_embed, inst_embed, key_padding_mask=inst_mask.transpose(0, 1))\n",
    "        return attn_weights.transpose(0, 1), new_hidden"
   ]
  },
  {
   "cell_type": "code",
   "execution_count": 13,
   "metadata": {},
   "outputs": [],
   "source": [
    "def compute_loss(model, loss_fn, batch):\n",
    "    channel_weights, new_hidden = model(batch['history'], batch['instruments'], batch['inst_mask'])\n",
    "    channel_weights = torch.log(channel_weights + 1e-8)\n",
    "    mask = torch.logical_not(batch['mask'].flatten())\n",
    "    targets = batch['history'][:, 1].flatten()\n",
    "    return loss_fn(channel_weights.reshape(-1, batch['instruments'].shape[0])[mask], targets[mask])"
   ]
  },
  {
   "cell_type": "code",
   "execution_count": 14,
   "metadata": {},
   "outputs": [],
   "source": [
    "# Optimization parameters:\n",
    "epochs = 10\n",
    "batch_size = 16\n",
    "learning_rate = 1e-3\n",
    "\n",
    "# Model parameters:\n",
    "num_notes = 128\n",
    "num_time_shifts = 100\n",
    "message_dim = 2*num_notes + num_time_shifts\n",
    "embed_dim = 256 \n",
    "hidden_size = 1024\n",
    "heads = 1\n",
    "recurrent_layers = 3\n",
    "\n",
    "# Checkpoint location: \n",
    "checkpoint_dir = 'assigner_gru_checkpoints'\n",
    "\n",
    "train_dataloader = torch.utils.data.DataLoader(train_data, batch_size=batch_size, shuffle=True, collate_fn=collate_fn)\n",
    "test_dataloader = torch.utils.data.DataLoader(test_data, batch_size=batch_size, shuffle=True, collate_fn=collate_fn)\n",
    "model = AssignerGRU(message_dim, embed_dim, hidden_size, num_instruments, heads, recurrent_layers).to(dev)\n",
    "optimizer = torch.optim.Adam(model.parameters())\n",
    "loss_fn = torch.nn.NLLLoss(ignore_index=-1)"
   ]
  },
  {
   "cell_type": "code",
   "execution_count": null,
   "metadata": {
    "scrolled": true
   },
   "outputs": [],
   "source": [
    "train_losses = [0 for epoch in range(epochs)]\n",
    "test_losses = [0 for epoch in range(epochs)]\n",
    "for epoch in range(epochs):\n",
    "    print('Starting epoch %d' %(epoch))\n",
    "    model.train()\n",
    "    for b, batch in enumerate(train_dataloader):\n",
    "        if b%10 == 0:\n",
    "            print('Starting iteration %d' %(b))\n",
    "        loss = compute_loss(model, loss_fn, batch)\n",
    "        optimizer.zero_grad()\n",
    "        loss.backward()\n",
    "        optimizer.step()\n",
    "        \n",
    "    torch.save(model.state_dict(), checkpoint_dir + '/epoch' + str(epoch) + '.pth')\n",
    "        \n",
    "    model.eval()\n",
    "    print('Computing test loss')\n",
    "    for b, batch in enumerate(test_dataloader):\n",
    "        test_losses[epoch] += compute_loss(model, loss_fn, batch).data\n",
    "        \n",
    "    test_losses[epoch] /= len(test_dataloader)\n",
    "        \n",
    "    print('Computing train loss')\n",
    "    for b, batch in enumerate(train_dataloader):\n",
    "        train_losses[epoch] += compute_loss(model, loss_fn, batch).data\n",
    "        \n",
    "    train_losses[epoch] /= len(train_dataloader)\n",
    "        \n",
    "    print('Train loss: %f, Test loss: %f' %(train_losses[epoch], test_losses[epoch]))"
   ]
  },
  {
   "cell_type": "code",
   "execution_count": null,
   "metadata": {},
   "outputs": [],
   "source": [
    "np.save(checkpoint_dir + '/train_losses.npy', np.array(train_losses))\n",
    "np.save(checkpoint_dir + '/test_losses.npy', np.array(test_losses))"
   ]
  },
  {
   "cell_type": "code",
   "execution_count": null,
   "metadata": {},
   "outputs": [],
   "source": []
  },
  {
   "cell_type": "code",
   "execution_count": null,
   "metadata": {},
   "outputs": [],
   "source": []
  },
  {
   "cell_type": "code",
   "execution_count": 22,
   "metadata": {},
   "outputs": [
    {
     "data": {
      "text/plain": [
       "<All keys matched successfully>"
      ]
     },
     "execution_count": 22,
     "metadata": {},
     "output_type": "execute_result"
    }
   ],
   "source": [
    "model = AssignerGRU(message_dim, embed_dim, hidden_size, num_instruments, recurrent_layers).to(dev)\n",
    "model.load_state_dict(torch.load(checkpoint_dir + '/epoch9.pth', map_location=dev))"
   ]
  },
  {
   "cell_type": "code",
   "execution_count": 23,
   "metadata": {},
   "outputs": [],
   "source": [
    "# Sample from model\n",
    "def assign(model, seq, instruments):\n",
    "    hidden = None\n",
    "    inst_mask = torch.ones(instruments.shape, dtype=torch.bool, device=dev)\n",
    "    channels = []\n",
    "    for message in seq:\n",
    "        channel_weights, hidden = model(message, instruments, inst_mask, hidden)\n",
    "        channels.append(torch.multinomial(, 1))\n",
    "        \n",
    "    return channels"
   ]
  },
  {
   "cell_type": "code",
   "execution_count": 28,
   "metadata": {},
   "outputs": [],
   "source": []
  },
  {
   "cell_type": "code",
   "execution_count": 29,
   "metadata": {},
   "outputs": [],
   "source": []
  },
  {
   "cell_type": "code",
   "execution_count": null,
   "metadata": {},
   "outputs": [],
   "source": []
  }
 ],
 "metadata": {
  "environment": {
   "name": "pytorch-gpu.1-6.m59",
   "type": "gcloud",
   "uri": "gcr.io/deeplearning-platform-release/pytorch-gpu.1-6:m59"
  },
  "kernelspec": {
   "display_name": "Python 3",
   "language": "python",
   "name": "python3"
  },
  "language_info": {
   "codemirror_mode": {
    "name": "ipython",
    "version": 3
   },
   "file_extension": ".py",
   "mimetype": "text/x-python",
   "name": "python",
   "nbconvert_exporter": "python",
   "pygments_lexer": "ipython3",
   "version": "3.7.5"
  }
 },
 "nbformat": 4,
 "nbformat_minor": 4
}
