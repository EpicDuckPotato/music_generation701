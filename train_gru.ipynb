{
 "cells": [
  {
   "cell_type": "code",
   "execution_count": 250,
   "metadata": {},
   "outputs": [],
   "source": [
    "import torch\n",
    "import numpy as np\n",
    "import math\n",
    "import os\n",
    "import matplotlib.pyplot as plt"
   ]
  },
  {
   "cell_type": "code",
   "execution_count": 251,
   "metadata": {},
   "outputs": [],
   "source": [
    "num_notes = 128\n",
    "num_time_shifts = 100\n",
    "num_velocities = 32\n",
    "message_dim = 2*num_notes + num_velocities + num_time_shifts\n",
    "instrument_numbers = [0, 6, 40, 41, 42, 43, 45, 60, 68, 70, 71, 73]\n",
    "num_instruments = len(instrument_numbers)"
   ]
  },
  {
   "cell_type": "markdown",
   "metadata": {},
   "source": [
    "# Model definition\n",
    "Uses GRU per instrument"
   ]
  },
  {
   "cell_type": "code",
   "execution_count": 276,
   "metadata": {},
   "outputs": [],
   "source": [
    "# A recurrent model to generate MIDI messages for an ensemble of instruments\n",
    "# conditioned on the ensemble's message history\n",
    "class LinkedGRU(torch.nn.Module):\n",
    "    # CONSTRUCTOR\n",
    "    # ARGUMENTS\n",
    "    # message_dim: dimension of a MIDI message\n",
    "    # embed_dim: dimension of message embedding\n",
    "    # num_instruments: number of instrument labels\n",
    "    # hidden_size: size of hidden state for LSTM\n",
    "    # heads: number of attentions heads\n",
    "    # recurrent_layers: number of layers in recurrent unit\n",
    "    def __init__(self, message_dim, embed_dim, num_instruments, hidden_size, heads, recurrent_layers):\n",
    "        super(LinkedGRU, self).__init__()\n",
    "        \n",
    "        self.message_dim = message_dim\n",
    "        self.embed_dim = embed_dim\n",
    "        self.hidden_size = hidden_size\n",
    "        self.rlayers = recurrent_layers\n",
    "        \n",
    "        self.embedding = torch.nn.Embedding(message_dim, embed_dim)\n",
    "        \n",
    "        # We add the tanhed instrument embedding to each input message \n",
    "        # (this is the global conditioning idea from DeepJ, which comes from WaveNet)\n",
    "        self.i_embedding = torch.nn.Embedding(num_instruments, embed_dim)\n",
    "        \n",
    "        # Maybe compare with LSTM\n",
    "        self.gru = torch.nn.GRU(input_size=embed_dim + hidden_size, hidden_size=hidden_size, num_layers=recurrent_layers)\n",
    "        \n",
    "        # After each instrument's LSTM runs for a step, we compute attentions across the current hidden states\n",
    "        # from all the instruments, and concatenate the results with the next inputs\n",
    "        self.inst_attention = torch.nn.MultiheadAttention(hidden_size, heads)\n",
    "        \n",
    "        self.logits = torch.nn.Linear(hidden_size, message_dim)\n",
    "        \n",
    "        self.loss_fn = torch.nn.CrossEntropyLoss(reduction='none')\n",
    "        \n",
    "    \n",
    "    # forward: computes the loss when trying to predict the next MIDI message for each message\n",
    "    # in history\n",
    "    # ARGUMENTS\n",
    "    # history: an LxNxB tensor, where L is the length of the longest history in\n",
    "    # the batch, N is the max number of instruments in the batch, and B is the batch size. As we\n",
    "    # walk along the first dimension, we should see indices of MIDI events for a particular\n",
    "    # instrument\n",
    "    # instruments: an 1xNxB tensor indicating the instrument for each sequence in each batch\n",
    "    # seq_lengths: an NxB tensor containing the sequence length for each instrument in each batch\n",
    "    # num_inst: a length B tensor indicating the number of instruments in each batch element\n",
    "    # RETURN: loss\n",
    "    def forward(self, history, instruments, seq_lengths, num_inst):\n",
    "        L = history.shape[0] # longest length\n",
    "        N = history.shape[1] # max instruments\n",
    "        B = history.shape[2] # batch size\n",
    "        assert(instruments.shape == (1, N, B))\n",
    "        assert(seq_lengths.shape == (N, B))\n",
    "        \n",
    "        inputs = self.embedding(history) + torch.tanh(self.i_embedding(instruments)).expand(L, -1, -1, -1)\n",
    "        \n",
    "        hidden_states = torch.zeros((N, self.rlayers, B, self.hidden_size))\n",
    "        key_padding_mask = torch.ones((B, N), dtype=torch.bool)\n",
    "        for b in range(B):\n",
    "            key_padding_mask[b, :num_inst[b]] = False\n",
    "        \n",
    "        loss = torch.tensor(0)\n",
    "        \n",
    "        # L - 1 because we don't have a target for the last message\n",
    "        for t in range(L - 1):\n",
    "            # Instrument-wise attention\n",
    "            attentions, weights = self.inst_attention(hidden_states[:, -1], \\\n",
    "                                                      hidden_states[:, -1], \\\n",
    "                                                      hidden_states[:, -1], \\\n",
    "                                                      key_padding_mask=key_padding_mask)\n",
    "            \n",
    "            new_hidden_states = hidden_states.clone()\n",
    "            \n",
    "            for inst in range(N):\n",
    "                # Only propagate hidden states for instruments whose sequence hasn't concluded\n",
    "                sel_idx = [b for b in range(B) if t < seq_lengths[inst, b] - 1]\n",
    "                \n",
    "                out, hid = self.gru(torch.cat((inputs[t, inst, sel_idx], attentions[inst, sel_idx]), dim=1).unsqueeze(0), \\\n",
    "                                    hidden_states[inst, :, sel_idx])\n",
    "                \n",
    "                new_hidden_states[inst, :, sel_idx] = hid\n",
    "                \n",
    "                logits = self.logits(new_hidden_states[inst, -1, sel_idx])\n",
    "                loss_batch = self.loss_fn(logits.view(-1, self.message_dim), \\\n",
    "                                          history[t + 1, inst, sel_idx].flatten())/seq_lengths[inst, sel_idx]\n",
    "                \n",
    "                loss = loss + loss_batch.sum()/B\n",
    "                \n",
    "            hidden_states = new_hidden_states\n",
    "\n",
    "        return loss\n",
    "    \n",
    "    # forward_generate: computes the next MIDI messages and hidden states for each instrument\n",
    "    # ARGUMENTS\n",
    "    # messages: NxB tensor containing the previous message for each instrument\n",
    "    # instruments: NxB tensor indicating the instrument for each sequence in each batch\n",
    "    # mask: NxB tensor containing True where we actually want to generate a message and False otherwise\n",
    "    # num_inst: a length B list indicating the number of instruments in each batch element\n",
    "    # hidden_states: NxRxBxH tensor containing previous hidden states for each instrument (if None, we initialize to 0)\n",
    "    # RETURN: loss\n",
    "    def forward_generate(self, messages, instruments, mask, num_inst, hidden_states=None):\n",
    "        N = messages.shape[0]\n",
    "        B = messages.shape[1]\n",
    "        assert(instruments.shape == (N, B))\n",
    "        assert(mask.shape == (N, B))\n",
    "        assert(hidden_states is None or hidden_states.shape == (N, self.rlayers, B, self.hidden_size))\n",
    "        \n",
    "        inputs = self.embedding(messages) + torch.tanh(self.i_embedding(instruments))\n",
    "        \n",
    "        if hidden_states is None:\n",
    "            hidden_states = torch.zeros((N, self.rlayers, B, self.hidden_size))\n",
    "        \n",
    "        key_padding_mask = torch.ones((B, N), dtype=torch.bool)\n",
    "        for b in range(B):\n",
    "            key_padding_mask[b, :num_inst[b]] = False\n",
    "        \n",
    "        # Instrument-wise attention\n",
    "        attentions, weights = self.inst_attention(hidden_states[:, -1], \\\n",
    "                                                  hidden_states[:, -1], \\\n",
    "                                                  hidden_states[:, -1], \\\n",
    "                                                  key_padding_mask=key_padding_mask)\n",
    "        \n",
    "        new_hidden_states = hidden_states.clone()\n",
    "        new_messages = messages.clone()\n",
    "\n",
    "        for inst in range(N):\n",
    "            # Only propagate hidden states for instruments whose sequence hasn't concluded\n",
    "            sel_idx = [b for b in range(B) if mask[inst, b]]\n",
    "\n",
    "            out, hid = self.gru(torch.cat((inputs[inst, sel_idx], attentions[inst, sel_idx]), dim=1).unsqueeze(0), \\\n",
    "                                hidden_states[inst, :, sel_idx])\n",
    "            \n",
    "            new_hidden_states[inst, :, sel_idx] = hid\n",
    "\n",
    "            probs = torch.nn.functional.softmax(self.logits(new_hidden_states[inst, -1, sel_idx]), dim=1)\n",
    "            new_messages[inst, sel_idx] = torch.multinomial(probs, 1)\n",
    "            #new_messages[inst, sel_idx] = torch.argmax(probs, 1)\n",
    "            \n",
    "        return new_messages, new_hidden_states"
   ]
  },
  {
   "cell_type": "markdown",
   "metadata": {},
   "source": [
    "# Tests\n",
    "We train with model.eval() to disable dropout, since these tests try to get the model to overfit to a small sequence"
   ]
  },
  {
   "cell_type": "code",
   "execution_count": 260,
   "metadata": {},
   "outputs": [],
   "source": [
    "heads = 4\n",
    "embed_dim = 256\n",
    "hidden_size = 512\n",
    "recurrent_layers = 3\n",
    "\n",
    "grad_clip = 10\n",
    "\n",
    "model = LinkedGRU(message_dim, embed_dim, num_instruments, hidden_size, heads, recurrent_layers)\n",
    "for p in model.parameters():\n",
    "    p.register_hook(lambda grad: torch.clamp(grad, -grad_clip, grad_clip))\n",
    "    \n",
    "model.eval() # Training with eval just to see if we can overfit without dropout\n",
    "pass"
   ]
  },
  {
   "cell_type": "markdown",
   "metadata": {},
   "source": [
    "Get the model to overfit to a single instrument's part in a single song (only the first 100 time steps). Tests decoder"
   ]
  },
  {
   "cell_type": "code",
   "execution_count": 190,
   "metadata": {},
   "outputs": [
    {
     "data": {
      "text/plain": [
       "<All keys matched successfully>"
      ]
     },
     "execution_count": 190,
     "metadata": {},
     "output_type": "execute_result"
    }
   ],
   "source": [
    "model.load_state_dict(torch.load('debug_models/overfit1_gru.pth'))"
   ]
  },
  {
   "cell_type": "code",
   "execution_count": null,
   "metadata": {},
   "outputs": [],
   "source": [
    "recording = np.load('preprocessed_data/recording318.npy', allow_pickle=True)\n",
    "instruments_np = np.load('preprocessed_data/instruments318.npy', allow_pickle=True)\n",
    "\n",
    "inst = 1\n",
    "\n",
    "max_length = 10\n",
    "\n",
    "history = torch.tensor(recording[inst][:max_length], dtype=torch.long).view(-1, 1, 1)\n",
    "instruments = torch.tensor(instrument_numbers.index(instruments_np[inst]), dtype=torch.long).view(1, 1, 1)\n",
    "seq_lengths = torch.tensor(max_length).view(1, 1)\n",
    "num_inst = [1]\n",
    "\n",
    "max_instruments = history.shape[1]\n",
    "\n",
    "batch_size = 1\n",
    "learning_rate = 0.01\n",
    "optimizer = torch.optim.Adam(model.parameters(), lr=learning_rate)\n",
    "loss_fn = torch.nn.CrossEntropyLoss()\n",
    "epochs = 501\n",
    "train_losses = np.zeros(epochs)\n",
    "\n",
    "for epoch in range(epochs):\n",
    "    if epoch%100 == 0:\n",
    "        print('Starting epoch %d' %(epoch))\n",
    "    \n",
    "    loss = model(history, instruments, seq_lengths, num_inst)\n",
    "    optimizer.zero_grad()\n",
    "    loss.backward()\n",
    "    optimizer.step()\n",
    "    train_losses[epoch] = loss.data\n",
    "    \n",
    "    if epoch%100 == 0:\n",
    "        print('Loss: %f' %(loss.data))"
   ]
  },
  {
   "cell_type": "code",
   "execution_count": 181,
   "metadata": {},
   "outputs": [],
   "source": [
    "torch.save(model.state_dict(), 'debug_models/overfit1_gru.pth')"
   ]
  },
  {
   "cell_type": "code",
   "execution_count": null,
   "metadata": {},
   "outputs": [],
   "source": [
    "plt.plot(train_losses)"
   ]
  },
  {
   "cell_type": "code",
   "execution_count": null,
   "metadata": {},
   "outputs": [],
   "source": [
    "# Sample from model\n",
    "gen_history = history.clone()\n",
    "model.eval() # Turns off the dropout for evaluation. Need to do this to get repeatable evaluation outputs\n",
    "\n",
    "mask = torch.ones((1, 1), dtype=torch.bool)\n",
    "\n",
    "hidden_states = None\n",
    "\n",
    "# Move forward in time\n",
    "wrong_cnt = 0\n",
    "for t in range(1, max_length):\n",
    "    #gen_history[t], hidden_states = model.forward_generate(gen_history[t - 1], instruments.squeeze(0), mask, num_inst, hidden_states)\n",
    "    #if gen_history[t] != history[t]:\n",
    "    #    wrong_cnt += 1\n",
    "    gen_message, hidden_states = model.forward_generate(history[t - 1], instruments.squeeze(0), mask, num_inst, hidden_states)\n",
    "    print(gen_message)\n",
    "    if gen_message != history[t]:\n",
    "        wrong_cnt += 1\n",
    "\n",
    "print(wrong_cnt)"
   ]
  },
  {
   "cell_type": "markdown",
   "metadata": {},
   "source": [
    "Get the model to overfit to a piece with two instruments"
   ]
  },
  {
   "cell_type": "code",
   "execution_count": null,
   "metadata": {},
   "outputs": [],
   "source": [
    "recording = np.load('preprocessed_data/recording318.npy', allow_pickle=True)\n",
    "instruments_np = np.load('preprocessed_data/instruments318.npy', allow_pickle=True)\n",
    "\n",
    "max_length = 20\n",
    "max_instruments = instruments_np.shape[0]\n",
    "batch_size = 1\n",
    "\n",
    "history = torch.zeros((max_length, max_instruments, 1), dtype=torch.long)\n",
    "for i in range(max_instruments):\n",
    "    history[:max_length, i, 0] = torch.tensor(recording[i][:max_length])\n",
    "    \n",
    "instruments = torch.tensor([instrument_numbers.index(i) for i in instruments_np], dtype=torch.long).view(1, max_instruments, 1)\n",
    "seq_lengths = torch.tensor([max_length for i in range(max_instruments)]).view(-1, 1)\n",
    "num_inst = [max_instruments]\n",
    "\n",
    "learning_rate = 0.01\n",
    "optimizer = torch.optim.Adam(model.parameters(), lr=learning_rate)\n",
    "loss_fn = torch.nn.CrossEntropyLoss()\n",
    "epochs = 501\n",
    "train_losses = np.zeros(epochs)\n",
    "\n",
    "for epoch in range(epochs):\n",
    "    if epoch%100 == 0:\n",
    "        print('Starting epoch %d' %(epoch))\n",
    "    \n",
    "    loss = model(history, instruments, seq_lengths, num_inst)\n",
    "    optimizer.zero_grad()\n",
    "    loss.backward()\n",
    "    optimizer.step()\n",
    "    train_losses[epoch] = loss.data\n",
    "    \n",
    "    if epoch%100 == 0:\n",
    "        print('Loss: %f' %(loss.data))"
   ]
  },
  {
   "cell_type": "code",
   "execution_count": null,
   "metadata": {},
   "outputs": [],
   "source": [
    "# Sample from model\n",
    "gen_history = history.clone()\n",
    "model.eval() # Turns off the dropout for evaluation. Need to do this to get repeatable evaluation outputs\n",
    "\n",
    "mask = torch.ones((max_instruments, 1), dtype=torch.bool)\n",
    "\n",
    "hidden_states = None\n",
    "\n",
    "# Move forward in time\n",
    "wrong_cnt = 0\n",
    "for t in range(1, max_length):\n",
    "    #gen_history[t], hidden_states = model.forward_generate(gen_history[t - 1], instruments.squeeze(0), mask, num_inst, hidden_states)\n",
    "    #if gen_history[t] != history[t]:\n",
    "    #    wrong_cnt += 1\n",
    "    gen_message, hidden_states = model.forward_generate(history[t - 1], instruments.squeeze(0), mask, num_inst, hidden_states)\n",
    "    if torch.all(gen_message != history[t]):\n",
    "        wrong_cnt += 1\n",
    "        print('Wrong')\n",
    "        print(history[t])\n",
    "        print(gen_message)\n",
    "\n",
    "print(wrong_cnt)"
   ]
  },
  {
   "cell_type": "markdown",
   "metadata": {},
   "source": [
    "# Custom dataset class"
   ]
  },
  {
   "cell_type": "code",
   "execution_count": 240,
   "metadata": {},
   "outputs": [],
   "source": [
    "# Custom Dataset class\n",
    "class MIDIDataset(torch.utils.data.Dataset):\n",
    "    # CONSTRUCTOR: creates a list of recording files and a list\n",
    "    # of instrument files in root_dir. Assumes that the directory\n",
    "    # contains recording0.npy to recordingM.npy,\n",
    "    # as well as instruments0.npy to instrumentsM.npy\n",
    "    # ARGUMENTS\n",
    "    # root_dir: the directory to search\n",
    "    def __init__(self, root_dir, transform=None):\n",
    "        files = os.listdir(root_dir)\n",
    "        self.recordings = []\n",
    "        self.instrument_files = []\n",
    "        for file in files:\n",
    "            if 'recording' in file:\n",
    "                self.recordings.append(os.path.join(root_dir, file))\n",
    "            elif 'instruments' in file:\n",
    "                self.instrument_files.append(os.path.join(root_dir, file))\n",
    "                \n",
    "        assert(len(self.recordings) == len(self.instrument_files))\n",
    "        self.recordings.sort()\n",
    "        self.instrument_files.sort()\n",
    "        self.transform = transform\n",
    "\n",
    "    # __len__\n",
    "    # RETURN: the number of recording files in the dataset\n",
    "    def __len__(self):\n",
    "        return len(self.recordings)\n",
    "\n",
    "    # __getitem__\n",
    "    # ARGUMENTS\n",
    "    # idx: indicates which file to get\n",
    "    # RETURN: an instance with keys 'instruments', 'history'\n",
    "    # instance['history'] is a numpy array of message sequences for each instrument\n",
    "    # instance['instruments'] a numpy array of instrument numbers\n",
    "    def __getitem__(self, idx):\n",
    "        instance = {'history': np.load(self.recordings[idx], allow_pickle=True), \\\n",
    "                    'instruments': np.load(self.instrument_files[idx], allow_pickle=True)}\n",
    "        \n",
    "        assert(len(instance['history']) == len(instance['instruments']))\n",
    "        \n",
    "        if self.transform:\n",
    "            instance = self.transform(instance)\n",
    "            \n",
    "        return instance"
   ]
  },
  {
   "cell_type": "code",
   "execution_count": 245,
   "metadata": {},
   "outputs": [],
   "source": [
    "# collate_fn: takes a list of samples from the dataset and turns them into a batch.\n",
    "# ARGUMENTS\n",
    "# batch: a list of dictionaries\n",
    "# RETURN: a sample with keys 'history', 'instruments', and 'mask'\n",
    "# sample['history']: an LxNxB tensor containing messages\n",
    "# sample['instruments']: a 1xNxB tensor containing instrument numbers\n",
    "# sample['seq_lengths']: an NxB tensor containing the length of each sequence\n",
    "# sample['num_inst']: a length B tensor containing the number of instruments in each batch\n",
    "def collate_fn(batch):\n",
    "    batch_size = len(batch)\n",
    "    \n",
    "    # We size our tensors to accomodate the longest sequence and the largest ensemble\n",
    "    max_instruments = max([len(instance['history']) for instance in batch])\n",
    "    max_len = max([max([seq.shape[0] for seq in instance['history']]) for instance in batch])\n",
    "\n",
    "    sample = {'history': torch.ones((max_len, max_instruments, batch_size), dtype=torch.long), \\\n",
    "              'instruments': torch.zeros((1, max_instruments, batch_size), dtype=torch.long), \\\n",
    "              'seq_lengths': torch.zeros((max_instruments, batch_size), dtype=torch.long), \\\n",
    "              'num_inst': torch.zeros(batch_size, dtype=torch.long)}\n",
    "\n",
    "    for b in range(batch_size):\n",
    "        instrument_idx = [instrument_numbers.index(inst) for inst in batch[b]['instruments']]\n",
    "        sample['instruments'][0, :len(instrument_idx), b] = torch.tensor(instrument_idx, dtype=torch.long)\n",
    "        sample['num_inst'][b] = len(instrument_idx)\n",
    "        \n",
    "        for inst_idx in range(len(batch[b]['history'])):\n",
    "            seq_len = len(batch[b]['history'][inst_idx])\n",
    "            sample['history'][:seq_len, inst_idx, b] = torch.tensor(batch[b]['history'][inst_idx], dtype=torch.long)\n",
    "            sample['seq_lengths'][inst_idx, b] = seq_len\n",
    "            \n",
    "    return sample"
   ]
  },
  {
   "cell_type": "markdown",
   "metadata": {},
   "source": [
    "# Train the model"
   ]
  },
  {
   "cell_type": "code",
   "execution_count": 277,
   "metadata": {},
   "outputs": [],
   "source": [
    "hidden_size = 512\n",
    "heads = 4\n",
    "embed_dim = 256\n",
    "grad_clip = 10\n",
    "rlayers = 3\n",
    "\n",
    "model = LinkedGRU(message_dim, embed_dim, num_instruments, hidden_size, heads, rlayers)\n",
    "\n",
    "for p in model.parameters():\n",
    "    p.register_hook(lambda grad: torch.clamp(grad, -grad_clip, grad_clip))"
   ]
  },
  {
   "cell_type": "code",
   "execution_count": null,
   "metadata": {},
   "outputs": [],
   "source": [
    "batch_size = 1\n",
    "learning_rate = 0.001\n",
    "\n",
    "dataset = MIDIDataset('preprocessed_data')\n",
    "dataloader = torch.utils.data.DataLoader(dataset, batch_size=batch_size, shuffle=True, collate_fn=collate_fn)\n",
    "\n",
    "optimizer = torch.optim.Adam(model.parameters())\n",
    "loss_fn = torch.nn.CrossEntropyLoss()\n",
    "epochs = 10\n",
    "train_losses = np.zeros(epochs)\n",
    "test_losses = np.zeros(epochs) # TODO: train/test split\n",
    "\n",
    "model.train()\n",
    "\n",
    "for epoch in range(epochs):\n",
    "    print('Starting epoch %d' %(epoch))\n",
    "    for b, batch in enumerate(dataloader):\n",
    "        print('Starting iteration %d' %(b))\n",
    "        loss = model(batch['history'], batch['instruments'], batch['seq_lengths'], batch['num_inst'])\n",
    "        \n",
    "        optimizer.zero_grad()\n",
    "        loss.backward()\n",
    "        optimizer.step()\n",
    "        print(loss.data)\n",
    "    \n",
    "    torch.save(model.state_dict(), 'trained_models/epoch' + str(epoch) + '.pth')"
   ]
  },
  {
   "cell_type": "markdown",
   "metadata": {},
   "source": [
    "# Sample from the model"
   ]
  },
  {
   "cell_type": "code",
   "execution_count": 278,
   "metadata": {},
   "outputs": [
    {
     "data": {
      "text/plain": [
       "<All keys matched successfully>"
      ]
     },
     "execution_count": 278,
     "metadata": {},
     "output_type": "execute_result"
    }
   ],
   "source": [
    "model.load_state_dict(torch.load('trained_models/gru_model.pth'))"
   ]
  },
  {
   "cell_type": "code",
   "execution_count": null,
   "metadata": {},
   "outputs": [],
   "source": [
    "model.eval() # Disable dropout to make results repeatable\n",
    "\n",
    "time_steps = 1000 # How many time steps do we sample?\n",
    "\n",
    "max_instruments = 3\n",
    "\n",
    "# Piano, violin, viola\n",
    "instruments = torch.tensor([0, 2, 3]).view(1, max_instruments, 1)\n",
    "\n",
    "num_inst = [max_instruments]\n",
    "\n",
    "mask = torch.ones((max_instruments, 1), dtype=torch.bool)\n",
    "\n",
    "# Suppose they all start with the same velocity message\n",
    "# TODO: should we have SOS and EOS tokens like in NLP?\n",
    "gen_history = 24*torch.ones((1, max_instruments, 1), dtype=torch.long)\n",
    "\n",
    "hidden_states = None\n",
    "\n",
    "for t in range(1, time_steps):\n",
    "    # Sanity check\n",
    "    if t%50 == 0:\n",
    "        print(t)\n",
    "        \n",
    "    gen_message, hidden_states = model.forward_generate(gen_history[t - 1], instruments.squeeze(0), mask, num_inst, hidden_states)\n",
    "    \n",
    "    gen_history = torch.cat((gen_history, gen_message.unsqueeze(0)))"
   ]
  },
  {
   "cell_type": "markdown",
   "metadata": {},
   "source": [
    "Save samples"
   ]
  },
  {
   "cell_type": "code",
   "execution_count": 280,
   "metadata": {},
   "outputs": [],
   "source": [
    "gen_recording = np.array([0 for i in range(max_instruments)], dtype='object')\n",
    "for i in range(max_instruments):\n",
    "    gen_recording[i] = gen_history[:, i].flatten().numpy()\n",
    "    \n",
    "gen_instruments = np.array([instrument_numbers[instruments[0, i, 0].item()] for i in range(max_instruments)])\n",
    "np.save('gen_recording.npy', gen_recording)\n",
    "np.save('gen_instruments.npy', gen_instruments)"
   ]
  },
  {
   "cell_type": "code",
   "execution_count": 274,
   "metadata": {},
   "outputs": [],
   "source": [
    "torch.save(model.state_dict(), 'trained_models/gru_model.pth')"
   ]
  },
  {
   "cell_type": "code",
   "execution_count": null,
   "metadata": {},
   "outputs": [],
   "source": []
  }
 ],
 "metadata": {
  "environment": {
   "name": "pytorch-gpu.1-6.m59",
   "type": "gcloud",
   "uri": "gcr.io/deeplearning-platform-release/pytorch-gpu.1-6:m59"
  },
  "kernelspec": {
   "display_name": "Python 3",
   "language": "python",
   "name": "python3"
  },
  "language_info": {
   "codemirror_mode": {
    "name": "ipython",
    "version": 3
   },
   "file_extension": ".py",
   "mimetype": "text/x-python",
   "name": "python",
   "nbconvert_exporter": "python",
   "pygments_lexer": "ipython3",
   "version": "3.7.8"
  }
 },
 "nbformat": 4,
 "nbformat_minor": 4
}
